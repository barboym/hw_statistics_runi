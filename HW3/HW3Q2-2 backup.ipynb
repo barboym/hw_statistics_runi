{
 "cells": [
  {
   "cell_type": "code",
   "execution_count": null,
   "id": "ee041eb6",
   "metadata": {},
   "outputs": [],
   "source": [
    "numeric_significants = pd.DataFrame(columns = ['t-stat','mean-delta', 'p-val', 'CI'])\n",
    "\n",
    "for feature in numeric_features:   \n",
    "    #find the sick and healthy population\n",
    "    healthy_population = DF[feature][DF['target'] == 0]\n",
    "    sick_population = DF[feature][DF['target'] == 1]\n",
    "    \n",
    "    #preform t-test\n",
    "    t, p = st.ttest_ind(healthy_population, sick_population)\n",
    "    \n",
    "    #check significance\n",
    "    if p <= 0.05:\n",
    "        delta = np.mean(healthy_population) - np.mean(sick_population)\n",
    "        \n",
    "        #n1+n+2\n",
    "        n_h = len(healthy_population)\n",
    "        n_s = len(sick_population)\n",
    "        df = n_h + n_s - 2\n",
    "        \n",
    "        #variance\n",
    "        v_h = np.var(healthy_population)\n",
    "        v_s = np.var(sick_population)\n",
    "        SE = np.sqrt(v_h/n_h) + np.sqrt(v_s/n_s)\n",
    "        \n",
    "        #confidence interval\n",
    "        t_crit = st.t.ppf(0.975, df)\n",
    "        CI = delta + np.array([-1, 1]) * t_crit * SE\n",
    "        numeric_significants.loc[feature] = [t, delta, p, CI]\n",
    "        \n",
    "numeric_significants"
   ]
  }
 ],
 "metadata": {
  "kernelspec": {
   "display_name": "Python 3 (ipykernel)",
   "language": "python",
   "name": "python3"
  },
  "language_info": {
   "codemirror_mode": {
    "name": "ipython",
    "version": 3
   },
   "file_extension": ".py",
   "mimetype": "text/x-python",
   "name": "python",
   "nbconvert_exporter": "python",
   "pygments_lexer": "ipython3",
   "version": "3.9.12"
  }
 },
 "nbformat": 4,
 "nbformat_minor": 5
}
