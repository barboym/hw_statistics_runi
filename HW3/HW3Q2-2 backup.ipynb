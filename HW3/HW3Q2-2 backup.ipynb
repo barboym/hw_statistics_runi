{
 "cells": [
  {
   "cell_type": "code",
   "execution_count": 1,
   "id": "ee041eb6",
   "metadata": {},
   "outputs": [
    {
     "ename": "NameError",
     "evalue": "name 'pd' is not defined",
     "output_type": "error",
     "traceback": [
      "\u001b[0;31m---------------------------------------------------------------------------\u001b[0m",
      "\u001b[0;31mNameError\u001b[0m                                 Traceback (most recent call last)",
      "Cell \u001b[0;32mIn[1], line 1\u001b[0m\n\u001b[0;32m----> 1\u001b[0m numeric_significants \u001b[38;5;241m=\u001b[39m \u001b[43mpd\u001b[49m\u001b[38;5;241m.\u001b[39mDataFrame(columns \u001b[38;5;241m=\u001b[39m [\u001b[38;5;124m'\u001b[39m\u001b[38;5;124mt-stat\u001b[39m\u001b[38;5;124m'\u001b[39m,\u001b[38;5;124m'\u001b[39m\u001b[38;5;124mmean-delta\u001b[39m\u001b[38;5;124m'\u001b[39m, \u001b[38;5;124m'\u001b[39m\u001b[38;5;124mp-val\u001b[39m\u001b[38;5;124m'\u001b[39m, \u001b[38;5;124m'\u001b[39m\u001b[38;5;124mCI\u001b[39m\u001b[38;5;124m'\u001b[39m])\n\u001b[1;32m      3\u001b[0m \u001b[38;5;28;01mfor\u001b[39;00m feature \u001b[38;5;129;01min\u001b[39;00m numeric_features:   \n\u001b[1;32m      4\u001b[0m     \u001b[38;5;66;03m#find the sick and healthy population\u001b[39;00m\n\u001b[1;32m      5\u001b[0m     healthy_population \u001b[38;5;241m=\u001b[39m DF[feature][DF[\u001b[38;5;124m'\u001b[39m\u001b[38;5;124mtarget\u001b[39m\u001b[38;5;124m'\u001b[39m] \u001b[38;5;241m==\u001b[39m \u001b[38;5;241m0\u001b[39m]\n",
      "\u001b[0;31mNameError\u001b[0m: name 'pd' is not defined"
     ]
    }
   ],
   "source": [
    "numeric_significants = pd.DataFrame(columns = ['t-stat','mean-delta', 'p-val', 'CI'])\n",
    "\n",
    "for feature in numeric_features:   \n",
    "    #find the sick and healthy population\n",
    "    healthy_population = DF[feature][DF['target'] == 0]\n",
    "    sick_population = DF[feature][DF['target'] == 1]\n",
    "    \n",
    "    #preform t-test\n",
    "    t, p = st.ttest_ind(healthy_population, sick_population)\n",
    "    \n",
    "    #check significance\n",
    "    if p <= 0.05:\n",
    "        delta = np.mean(healthy_population) - np.mean(sick_population)\n",
    "        \n",
    "        #n1+n+2\n",
    "        n_h = len(healthy_population)\n",
    "        n_s = len(sick_population)\n",
    "        df = n_h + n_s - 2\n",
    "        \n",
    "        #variance\n",
    "        v_h = np.var(healthy_population)\n",
    "        v_s = np.var(sick_population)\n",
    "        SE = np.sqrt(v_h/n_h) + np.sqrt(v_s/n_s)\n",
    "        \n",
    "        #confidence interval\n",
    "        t_crit = st.t.ppf(0.975, df)\n",
    "        CI = delta + np.array([-1, 1]) * t_crit * SE\n",
    "        numeric_significants.loc[feature] = [t, delta, p, CI]\n",
    "        \n",
    "numeric_significants"
   ]
  },
  {
   "cell_type": "code",
   "execution_count": null,
   "id": "7a699bab-8567-4db5-b690-cf2d3d2dd86a",
   "metadata": {},
   "outputs": [],
   "source": []
  }
 ],
 "metadata": {
  "kernelspec": {
   "display_name": "Python 3 (ipykernel)",
   "language": "python",
   "name": "python3"
  },
  "language_info": {
   "codemirror_mode": {
    "name": "ipython",
    "version": 3
   },
   "file_extension": ".py",
   "mimetype": "text/x-python",
   "name": "python",
   "nbconvert_exporter": "python",
   "pygments_lexer": "ipython3",
   "version": "3.10.8"
  }
 },
 "nbformat": 4,
 "nbformat_minor": 5
}
