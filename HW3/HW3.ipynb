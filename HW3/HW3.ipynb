{
 "cells": [
  {
   "cell_type": "markdown",
   "metadata": {},
   "source": [
    "### IDs:\n",
    "Insert yours IDs to the cell below"
   ]
  },
  {
   "cell_type": "markdown",
   "metadata": {},
   "source": [
    "ID #1:\n",
    "\n",
    "ID #2:\n"
   ]
  },
  {
   "cell_type": "markdown",
   "metadata": {},
   "source": [
    "## Read the following instructions carefully:\n",
    "\n",
    "1. This jupyter notebook contains all the step by step instructions needed for this exercise.\n",
    "1. You are free to add cells.\n",
    "1. Write your functions and your answers in this jupyter notebook only.\n",
    "1. Answers to theoretical questions should be written in **markdown cells (with $\\LaTeX$ support)**.\n",
    "1. Submit this jupyter notebook only using your ID as a filename. Not to use ZIP or RAR. For example, your Moodle submission file name should look like this (two id numbers): `123456789_987654321.ipynb`."
   ]
  },
  {
   "cell_type": "markdown",
   "metadata": {},
   "source": [
    "### Question 1 - Correlations (14 points)"
   ]
  },
  {
   "cell_type": "markdown",
   "metadata": {},
   "source": [
    "Provide example datapoints matching the following descriptions. Each example should be constructed over n=50 datapoints. Provide a table description of the example data as well as a jointplot (see example below). \n",
    "If you think that the situation described is impossible then clearly explain why (you don’t need to give a rigorous proof).<br>\n",
    "Pearson(x,y) = Pearson correlation<br>\n",
    "τ(x,y) = Kendall rank correlation<br>\n",
    "ρ(x,y) = Spearman rank correlation <br>\n",
    "<img src=\"jointplot.png\">"
   ]
  },
  {
   "cell_type": "code",
   "execution_count": 563,
   "metadata": {},
   "outputs": [
    {
     "name": "stdout",
     "output_type": "stream",
     "text": [
      "%pylab is deprecated, use %matplotlib inline and import the required libraries.\n",
      "Populating the interactive namespace from numpy and matplotlib\n"
     ]
    }
   ],
   "source": [
    "from scipy.stats import pearsonr,spearmanr,kendalltau\n",
    "%pylab inline\n",
    "import seaborn as sns\n",
    "import pandas as pd\n",
    "n=50"
   ]
  },
  {
   "cell_type": "markdown",
   "metadata": {},
   "source": [
    "#### 1.A\n",
    "Data in which  $Pearson(x,y) < -0.9$ but where $n-1$ points can be selected so that for the vectors restricted to those we have $Pearson(x_{n-1},y_{n-1}) > 0.9$"
   ]
  },
  {
   "cell_type": "code",
   "execution_count": 564,
   "metadata": {},
   "outputs": [
    {
     "data": {
      "text/plain": [
       "<seaborn.axisgrid.JointGrid at 0x7f0673124940>"
      ]
     },
     "execution_count": 564,
     "metadata": {},
     "output_type": "execute_result"
    },
    {
     "data": {
      "image/png": "[encoded data removed]",
      "text/plain": [
       "<Figure size 600x600 with 3 Axes>"
      ]
     },
     "metadata": {},
     "output_type": "display_data"
    }
   ],
   "source": [
    "r = np.c_[np.linspace(-1,1,n-1),np.linspace(-1,1,n-1)]\n",
    "r = np.r_[r,np.array([[-100,100]])]\n",
    "sns.jointplot(pd.DataFrame(r,columns=['x','y']),x='x',y='y',kind = \"scatter\")"
   ]
  },
  {
   "cell_type": "code",
   "execution_count": 52,
   "metadata": {},
   "outputs": [
    {
     "data": {
      "text/plain": [
       "-0.9965337954939341"
      ]
     },
     "execution_count": 52,
     "metadata": {},
     "output_type": "execute_result"
    }
   ],
   "source": [
    "pearson, _ = pearsonr(r[:,0],r[:,1])\n",
    "pearson"
   ]
  },
  {
   "cell_type": "code",
   "execution_count": 53,
   "metadata": {},
   "outputs": [
    {
     "data": {
      "text/plain": [
       "0.9999999999999998"
      ]
     },
     "execution_count": 53,
     "metadata": {},
     "output_type": "execute_result"
    }
   ],
   "source": [
    "pearson_n_minus_1, _ = pearsonr(r[:-1,0],r[:-1,1])\n",
    "pearson_n_minus_1"
   ]
  },
  {
   "cell_type": "markdown",
   "metadata": {},
   "source": [
    "#### 1.B\n",
    "Data in which  $\\rho(x,y) = 1$ but where $n-1$ points can be selected so that for the vectors restricted to those we have $\\rho(x_{n-1},y_{n-1}) < 0.9$"
   ]
  },
  {
   "cell_type": "markdown",
   "metadata": {},
   "source": [
    "Impossible. \n",
    "rho=1 means all pairs are ordered by rank for both elements. If we remove a single pair the order between the rest of the pairs will remain and we will still get rho=1. "
   ]
  },
  {
   "cell_type": "markdown",
   "metadata": {},
   "source": [
    "#### 1.C\n",
    "Data with τ(x,y) > ρ(x,y) + 0.45"
   ]
  },
  {
   "cell_type": "code",
   "execution_count": 565,
   "metadata": {},
   "outputs": [
    {
     "data": {
      "text/plain": [
       "array([45, 46, 47, 48, 49,  0,  1,  2,  3,  4,  5,  6,  7,  8,  9, 10, 11,\n",
       "       12, 13, 14, 15, 16, 17, 18, 19, 20, 21, 22, 23, 24, 25, 26, 27, 28,\n",
       "       29, 30, 31, 32, 33, 34, 35, 36, 37, 38, 39, 40, 41, 42, 43, 44])"
      ]
     },
     "execution_count": 565,
     "metadata": {},
     "output_type": "execute_result"
    }
   ],
   "source": [
    "np.roll(np.arange(n),5)"
   ]
  },
  {
   "cell_type": "code",
   "execution_count": 566,
   "metadata": {},
   "outputs": [],
   "source": [
    "r=np.c_[np.arange(n),np.roll(np.arange(n),20)]"
   ]
  },
  {
   "cell_type": "code",
   "execution_count": 567,
   "metadata": {},
   "outputs": [
    {
     "data": {
      "text/plain": [
       "(0.020408163265306124, -0.4405762304921968)"
      ]
     },
     "execution_count": 567,
     "metadata": {},
     "output_type": "execute_result"
    }
   ],
   "source": [
    "kendalltau(r[:,0],r[:,1])[0],spearmanr(r[:,0],r[:,1])[0]"
   ]
  },
  {
   "cell_type": "code",
   "execution_count": 568,
   "metadata": {},
   "outputs": [],
   "source": [
    "assert kendalltau(r[:,0],r[:,1])[0]>spearmanr(r[:,0],r[:,1])[0]+0.45"
   ]
  },
  {
   "cell_type": "code",
   "execution_count": 569,
   "metadata": {},
   "outputs": [
    {
     "data": {
      "text/plain": [
       "<seaborn.axisgrid.JointGrid at 0x7f0672d141f0>"
      ]
     },
     "execution_count": 569,
     "metadata": {},
     "output_type": "execute_result"
    },
    {
     "data": {
      "image/png": "[encoded data removed]",
      "text/plain": [
       "<Figure size 600x600 with 3 Axes>"
      ]
     },
     "metadata": {},
     "output_type": "display_data"
    }
   ],
   "source": [
    "sns.jointplot(pd.DataFrame(r,columns=['x','y']),x='x',y='y',kind = \"scatter\")"
   ]
  },
  {
   "cell_type": "markdown",
   "metadata": {},
   "source": [
    "#### 1.D\n",
    "Data with τ(x,y) < ρ(x,y) – 0.45"
   ]
  },
  {
   "cell_type": "code",
   "execution_count": 162,
   "metadata": {},
   "outputs": [
    {
     "data": {
      "text/plain": [
       "array([49,  0,  1,  2,  3,  4,  5,  6,  7,  8,  9, 10, 11, 12, 13, 14, 15,\n",
       "       16, 17, 18, 19, 20, 21, 22, 23, 24, 25, 26, 27, 28, 29, 30, 31, 32,\n",
       "       33, 34, 35, 36, 37, 38, 39, 40, 41, 42, 43, 44, 45, 46, 47, 48])"
      ]
     },
     "execution_count": 162,
     "metadata": {},
     "output_type": "execute_result"
    }
   ],
   "source": [
    "np.roll(np.arange(n),1)"
   ]
  },
  {
   "cell_type": "code",
   "execution_count": 195,
   "metadata": {},
   "outputs": [],
   "source": [
    "r=np.c_[\n",
    "    np.arange(n),\n",
    "    np.arange(n),\n",
    "]\n",
    "r[:n//3,1] = r[:n//3,1][::-1]\n",
    "r[n//3:2*n//3,1] = r[n//3:2*n//3,1][::-1]\n",
    "r[2*n//3:,1] = r[2*n//3:,1][::-1]"
   ]
  },
  {
   "cell_type": "code",
   "execution_count": 196,
   "metadata": {},
   "outputs": [
    {
     "data": {
      "text/plain": [
       "<matplotlib.collections.PathCollection at 0x7f0688a53130>"
      ]
     },
     "execution_count": 196,
     "metadata": {},
     "output_type": "execute_result"
    },
    {
     "data": {
      "image/png": "[encoded data removed]",
      "text/plain": [
       "<Figure size 640x480 with 1 Axes>"
      ]
     },
     "metadata": {},
     "output_type": "display_data"
    }
   ],
   "source": [
    "plt.scatter(r[:,0],r[:,1])"
   ]
  },
  {
   "cell_type": "code",
   "execution_count": 197,
   "metadata": {},
   "outputs": [
    {
     "ename": "AssertionError",
     "evalue": "",
     "output_type": "error",
     "traceback": [
      "\u001b[0;31m---------------------------------------------------------------------------\u001b[0m",
      "\u001b[0;31mAssertionError\u001b[0m                            Traceback (most recent call last)",
      "Cell \u001b[0;32mIn[197], line 1\u001b[0m\n\u001b[0;32m----> 1\u001b[0m \u001b[38;5;28;01massert\u001b[39;00m kendalltau(r[:,\u001b[38;5;241m0\u001b[39m],r[:,\u001b[38;5;241m1\u001b[39m])[\u001b[38;5;241m0\u001b[39m] \u001b[38;5;241m<\u001b[39m spearmanr(r[:,\u001b[38;5;241m0\u001b[39m],r[:,\u001b[38;5;241m1\u001b[39m])[\u001b[38;5;241m0\u001b[39m] \u001b[38;5;241m-\u001b[39m \u001b[38;5;241m0.45\u001b[39m\n",
      "\u001b[0;31mAssertionError\u001b[0m: "
     ]
    }
   ],
   "source": [
    "assert kendalltau(r[:,0],r[:,1])[0] < spearmanr(r[:,0],r[:,1])[0] - 0.45"
   ]
  },
  {
   "cell_type": "code",
   "execution_count": 198,
   "metadata": {},
   "outputs": [
    {
     "data": {
      "text/plain": [
       "(0.36, 0.7779591836734694)"
      ]
     },
     "execution_count": 198,
     "metadata": {},
     "output_type": "execute_result"
    }
   ],
   "source": [
    "kendalltau(r[:,0],r[:,1])[0] , spearmanr(r[:,0],r[:,1])[0]"
   ]
  },
  {
   "cell_type": "code",
   "execution_count": 199,
   "metadata": {},
   "outputs": [
    {
     "data": {
      "text/plain": [
       "-0.4179591836734694"
      ]
     },
     "execution_count": 199,
     "metadata": {},
     "output_type": "execute_result"
    }
   ],
   "source": [
    "kendalltau(r[:,0],r[:,1])[0] - spearmanr(r[:,0],r[:,1])[0]"
   ]
  },
  {
   "cell_type": "markdown",
   "metadata": {},
   "source": [
    "Closest I managed to get to..."
   ]
  },
  {
   "cell_type": "markdown",
   "metadata": {},
   "source": [
    "#### 1.E\n",
    "Data with Pearson(x,y) < ρ(x,y) – 0.6"
   ]
  },
  {
   "cell_type": "code",
   "execution_count": 231,
   "metadata": {},
   "outputs": [],
   "source": [
    "r=np.r_[\n",
    "    np.c_[\n",
    "        np.linspace(0,1,n-1),\n",
    "        np.linspace(0,1,n-1),\n",
    "    ],\n",
    "    np.array([[1,-100]])\n",
    "]"
   ]
  },
  {
   "cell_type": "code",
   "execution_count": 232,
   "metadata": {},
   "outputs": [
    {
     "data": {
      "text/plain": [
       "<matplotlib.collections.PathCollection at 0x7f06885b7d60>"
      ]
     },
     "execution_count": 232,
     "metadata": {},
     "output_type": "execute_result"
    },
    {
     "data": {
      "image/png": "[encoded data removed]",
      "text/plain": [
       "<Figure size 640x480 with 1 Axes>"
      ]
     },
     "metadata": {},
     "output_type": "display_data"
    }
   ],
   "source": [
    "plt.scatter(r[:,0],r[:,1])"
   ]
  },
  {
   "cell_type": "code",
   "execution_count": 233,
   "metadata": {},
   "outputs": [
    {
     "data": {
      "text/plain": [
       "(-0.21316987335382057, 0.8847271245557211)"
      ]
     },
     "execution_count": 233,
     "metadata": {},
     "output_type": "execute_result"
    }
   ],
   "source": [
    "pearsonr(r[:,0],r[:,1])[0] , spearmanr(r[:,0],r[:,1])[0]"
   ]
  },
  {
   "cell_type": "code",
   "execution_count": 234,
   "metadata": {},
   "outputs": [],
   "source": [
    "assert pearsonr(r[:,0],r[:,1])[0] < spearmanr(r[:,0],r[:,1])[0] - 0.6"
   ]
  },
  {
   "cell_type": "markdown",
   "metadata": {},
   "source": [
    "#### 1.F\n",
    "Data with Pearson(x,y) > ρ(x,y) + 1.2"
   ]
  },
  {
   "cell_type": "markdown",
   "metadata": {},
   "source": [
    "Same as 1.D..."
   ]
  },
  {
   "cell_type": "code",
   "execution_count": 245,
   "metadata": {},
   "outputs": [],
   "source": [
    "r=np.r_[\n",
    "    np.c_[\n",
    "        np.arange(n-1),\n",
    "        -np.arange(n-1),\n",
    "    ],\n",
    "    np.array([[10000,10000]])\n",
    "]\n",
    "# r[:n//3,1] = r[:n//3,1][::-1]\n",
    "# r[n//3:2*n//3,1] = r[n//3:2*n//3,1][::-1]\n",
    "# r[2*n//3:,1] = r[2*n//3:,1][::-1]"
   ]
  },
  {
   "cell_type": "code",
   "execution_count": 246,
   "metadata": {},
   "outputs": [
    {
     "data": {
      "text/plain": [
       "<matplotlib.collections.PathCollection at 0x7f06883d0f70>"
      ]
     },
     "execution_count": 246,
     "metadata": {},
     "output_type": "execute_result"
    },
    {
     "data": {
      "image/png": "[encoded data removed]",
      "text/plain": [
       "<Figure size 640x480 with 1 Axes>"
      ]
     },
     "metadata": {},
     "output_type": "display_data"
    }
   ],
   "source": [
    "plt.scatter(r[:,0],r[:,1])"
   ]
  },
  {
   "cell_type": "code",
   "execution_count": 247,
   "metadata": {},
   "outputs": [
    {
     "data": {
      "text/plain": [
       "(0.9998000176946715, -0.8823529411764706)"
      ]
     },
     "execution_count": 247,
     "metadata": {},
     "output_type": "execute_result"
    }
   ],
   "source": [
    "pearsonr(r[:,0],r[:,1])[0] , spearmanr(r[:,0],r[:,1])[0]"
   ]
  },
  {
   "cell_type": "code",
   "execution_count": 248,
   "metadata": {},
   "outputs": [],
   "source": [
    "assert pearsonr(r[:,0],r[:,1])[0] > spearmanr(r[:,0],r[:,1])[0] + 1.2"
   ]
  },
  {
   "cell_type": "markdown",
   "metadata": {},
   "source": [
    "#### 1.G\n",
    "Data with τ(x,y) < ρ(x,y) – 1.2 "
   ]
  },
  {
   "cell_type": "code",
   "execution_count": 254,
   "metadata": {},
   "outputs": [],
   "source": [
    "# r=np.c_[np.arange(n),np.arange(n)]\n",
    "r=np.c_[\n",
    "    np.arange(n),\n",
    "    np.arange(n),\n",
    "]\n",
    "r[:n//3,1] = r[:n//3,1][::-1]\n",
    "r[n//3:2*n//3,1] = r[n//3:2*n//3,1][::-1]\n",
    "r[2*n//3:,1] = r[2*n//3:,1][::-1]"
   ]
  },
  {
   "cell_type": "code",
   "execution_count": 255,
   "metadata": {},
   "outputs": [
    {
     "data": {
      "text/plain": [
       "<matplotlib.collections.PathCollection at 0x7f0688362c20>"
      ]
     },
     "execution_count": 255,
     "metadata": {},
     "output_type": "execute_result"
    },
    {
     "data": {
      "image/png": "[encoded data removed]",
      "text/plain": [
       "<Figure size 640x480 with 1 Axes>"
      ]
     },
     "metadata": {},
     "output_type": "display_data"
    }
   ],
   "source": [
    "plt.scatter(r[:,0],r[:,1])"
   ]
  },
  {
   "cell_type": "code",
   "execution_count": 256,
   "metadata": {},
   "outputs": [
    {
     "data": {
      "text/plain": [
       "(0.36, 0.7779591836734694)"
      ]
     },
     "execution_count": 256,
     "metadata": {},
     "output_type": "execute_result"
    }
   ],
   "source": [
    "kendalltau(r[:,0],r[:,1])[0] , spearmanr(r[:,0],r[:,1])[0]"
   ]
  },
  {
   "cell_type": "code",
   "execution_count": 253,
   "metadata": {},
   "outputs": [
    {
     "ename": "AssertionError",
     "evalue": "",
     "output_type": "error",
     "traceback": [
      "\u001b[0;31m---------------------------------------------------------------------------\u001b[0m",
      "\u001b[0;31mAssertionError\u001b[0m                            Traceback (most recent call last)",
      "Cell \u001b[0;32mIn[253], line 1\u001b[0m\n\u001b[0;32m----> 1\u001b[0m \u001b[38;5;28;01massert\u001b[39;00m kendalltau(r[:,\u001b[38;5;241m0\u001b[39m],r[:,\u001b[38;5;241m1\u001b[39m])[\u001b[38;5;241m0\u001b[39m] \u001b[38;5;241m<\u001b[39m spearmanr(r[:,\u001b[38;5;241m0\u001b[39m],r[:,\u001b[38;5;241m1\u001b[39m])[\u001b[38;5;241m0\u001b[39m] \u001b[38;5;241m-\u001b[39m \u001b[38;5;241m1.2\u001b[39m\n",
      "\u001b[0;31mAssertionError\u001b[0m: "
     ]
    }
   ],
   "source": [
    "assert kendalltau(r[:,0],r[:,1])[0] < spearmanr(r[:,0],r[:,1])[0] - 1.2"
   ]
  },
  {
   "cell_type": "code",
   "execution_count": null,
   "metadata": {},
   "outputs": [],
   "source": []
  },
  {
   "cell_type": "markdown",
   "metadata": {},
   "source": [
    "### Question 2 - Analysis of the UCI Heart Disease dataset  (38 points)"
   ]
  },
  {
   "cell_type": "markdown",
   "metadata": {},
   "source": [
    "Perform data analysis on the UCI Heart Disease Dataset\n",
    "References:\n",
    "1. Detrano, R., Janosi, A., Steinbrunn, W., Pfisterer, M., Schmid, J., Sandhu, S., Guppy, K., Lee, S., & Froelicher, V. (1989). International application of a new probability algorithm for the diagnosis of coronary artery disease. American Journal of Cardiology, 64,304--310.\n",
    "2. David W. Aha & Dennis Kibler. \"Instance-based prediction of heart-disease presence with the Cleveland database.\"\n",
    "3. Gennari, J.H., Langley, P, & Fisher, D. (1989). Models of incremental concept formation. Artificial Intelligence, 40, 11--61.\n",
    "\n",
    "Use the following links to find the details of the data: \n",
    "1. https://archive.ics.uci.edu/ml/datasets/heart+disease\n",
    "2. https://www.kaggle.com/ronitf/heart-disease-uci\n",
    "\n",
    "In the follwong cells write a report for your analysis. In your report provide a clear description of the analysis methods and of the results. This should include a graphical representation of the results and the conclusions. Provide p-values or other indicators of the statistical significance where appropriate. <br>\n",
    "Design your report to be concise but still cover interesting findings.\n",
    "\n",
    "There are missing values in the data. Find them and impute them by using the median (for numerical features) or the mode (for categorical features) value of the relevant feature (column).\n",
    "Address the following questions:\n",
    "* Using confidence intervals determine for which numerical features you can state with confidence of 95% that the healthy population (target = 0) mean is larger/smaller than the disease population (target = 1) mean. \n",
    "* Draw histograms for each numerical feature. Inspect the observed distributions and then use MLE to plot, on the same figures, fits of the distributions.\n",
    "* For each pair of numerical feature, calculate correlations and indicate whether you find them significant. For select pairs, with significant correlations, draw joint plot with marginal histograms (see Seaborn joint plot) and find bivariate normal fits. Then use the example code below to draw plots of the bivariate pdfs (you may edit the code as you see fit).\n",
    "* Are there pairs that are significantly correlated in males but not in females? The opposite? How about healthy vs disease? Can you graphically represent this?\n",
    "* For each numerical feature, except age, plot the distribution for this feature against bins of age. In each bin provide a split violin plot, with different colors for healthy and disease.\n",
    "\n",
    "Suggest, state and address at least one original question.\n"
   ]
  },
  {
   "cell_type": "markdown",
   "metadata": {},
   "source": [
    "#### Import and handle missing values"
   ]
  },
  {
   "cell_type": "code",
   "execution_count": 2,
   "metadata": {
    "scrolled": true
   },
   "outputs": [
    {
     "data": {
      "text/html": [
       "<div>\n",
       "<style scoped>\n",
       "    .dataframe tbody tr th:only-of-type {\n",
       "        vertical-align: middle;\n",
       "    }\n",
       "\n",
       "    .dataframe tbody tr th {\n",
       "        vertical-align: top;\n",
       "    }\n",
       "\n",
       "    .dataframe thead th {\n",
       "        text-align: right;\n",
       "    }\n",
       "</style>\n",
       "<table border=\"1\" class=\"dataframe\">\n",
       "  <thead>\n",
       "    <tr style=\"text-align: right;\">\n",
       "      <th></th>\n",
       "      <th>age</th>\n",
       "      <th>sex</th>\n",
       "      <th>cp</th>\n",
       "      <th>trestbps</th>\n",
       "      <th>chol</th>\n",
       "      <th>fbs</th>\n",
       "      <th>restecg</th>\n",
       "      <th>thalach</th>\n",
       "      <th>exang</th>\n",
       "      <th>oldpeak</th>\n",
       "      <th>slope</th>\n",
       "      <th>ca</th>\n",
       "      <th>thal</th>\n",
       "      <th>target</th>\n",
       "    </tr>\n",
       "  </thead>\n",
       "  <tbody>\n",
       "    <tr>\n",
       "      <th>0</th>\n",
       "      <td>63.0</td>\n",
       "      <td>1.0</td>\n",
       "      <td>3.0</td>\n",
       "      <td>145.0</td>\n",
       "      <td>233.0</td>\n",
       "      <td>1.0</td>\n",
       "      <td>0.0</td>\n",
       "      <td>150.0</td>\n",
       "      <td>0</td>\n",
       "      <td>2.3</td>\n",
       "      <td>0</td>\n",
       "      <td>0</td>\n",
       "      <td>1</td>\n",
       "      <td>1</td>\n",
       "    </tr>\n",
       "    <tr>\n",
       "      <th>1</th>\n",
       "      <td>37.0</td>\n",
       "      <td>1.0</td>\n",
       "      <td>NaN</td>\n",
       "      <td>130.0</td>\n",
       "      <td>250.0</td>\n",
       "      <td>0.0</td>\n",
       "      <td>1.0</td>\n",
       "      <td>187.0</td>\n",
       "      <td>0</td>\n",
       "      <td>3.5</td>\n",
       "      <td>0</td>\n",
       "      <td>0</td>\n",
       "      <td>2</td>\n",
       "      <td>1</td>\n",
       "    </tr>\n",
       "    <tr>\n",
       "      <th>2</th>\n",
       "      <td>41.0</td>\n",
       "      <td>0.0</td>\n",
       "      <td>1.0</td>\n",
       "      <td>NaN</td>\n",
       "      <td>NaN</td>\n",
       "      <td>0.0</td>\n",
       "      <td>0.0</td>\n",
       "      <td>172.0</td>\n",
       "      <td>0</td>\n",
       "      <td>1.4</td>\n",
       "      <td>2</td>\n",
       "      <td>0</td>\n",
       "      <td>2</td>\n",
       "      <td>1</td>\n",
       "    </tr>\n",
       "    <tr>\n",
       "      <th>3</th>\n",
       "      <td>NaN</td>\n",
       "      <td>1.0</td>\n",
       "      <td>1.0</td>\n",
       "      <td>120.0</td>\n",
       "      <td>236.0</td>\n",
       "      <td>0.0</td>\n",
       "      <td>1.0</td>\n",
       "      <td>178.0</td>\n",
       "      <td>0</td>\n",
       "      <td>0.8</td>\n",
       "      <td>2</td>\n",
       "      <td>0</td>\n",
       "      <td>2</td>\n",
       "      <td>1</td>\n",
       "    </tr>\n",
       "  </tbody>\n",
       "</table>\n",
       "</div>"
      ],
      "text/plain": [
       "    age  sex   cp  trestbps   chol  fbs  restecg  thalach  exang  oldpeak  \\\n",
       "0  63.0  1.0  3.0     145.0  233.0  1.0      0.0    150.0      0      2.3   \n",
       "1  37.0  1.0  NaN     130.0  250.0  0.0      1.0    187.0      0      3.5   \n",
       "2  41.0  0.0  1.0       NaN    NaN  0.0      0.0    172.0      0      1.4   \n",
       "3   NaN  1.0  1.0     120.0  236.0  0.0      1.0    178.0      0      0.8   \n",
       "\n",
       "   slope  ca  thal  target  \n",
       "0      0   0     1       1  \n",
       "1      0   0     2       1  \n",
       "2      2   0     2       1  \n",
       "3      2   0     2       1  "
      ]
     },
     "execution_count": 2,
     "metadata": {},
     "output_type": "execute_result"
    }
   ],
   "source": [
    "import numpy as np\n",
    "import pandas as pd\n",
    "import scipy.stats as st\n",
    "import seaborn as sns\n",
    "import itertools\n",
    "import matplotlib.pyplot as plt\n",
    "\n",
    "#Some SNS settings\n",
    "palette = itertools.cycle(sns.color_palette(palette=\"flare\", n_colors=6))\n",
    "sns.set_theme(context='notebook', style='darkgrid', palette='deep')\n",
    "%matplotlib inline\n",
    "\n",
    "DF = pd.read_csv('heart.csv',sep='\\t')\n",
    "DF.head(4)"
   ]
  },
  {
   "cell_type": "markdown",
   "metadata": {},
   "source": [
    "Immediatelly we can see some missing values. We will use the median in numerical features and mode for categorical feature (sex, cp, fbs, restecg, exang, slope, thal, target)."
   ]
  },
  {
   "cell_type": "code",
   "execution_count": 3,
   "metadata": {},
   "outputs": [],
   "source": [
    "#Define categorical ana numerical features\n",
    "cat_features = ['sex', 'cp', 'fbs', 'restecg','exang','slope','thal','target','ca']\n",
    "numeric_features = [feature for feature in DF.columns if feature not in cat_features]\n",
    "\n",
    "#Fill NA values\n",
    "DF[cat_features] = DF[cat_features].fillna(DF[cat_features].mode().iloc[0])\n",
    "DF[numeric_features] = DF[numeric_features].fillna(DF[numeric_features].median())\n",
    "\n",
    "#Set categorical features as dtype=int\n",
    "DF[cat_features] = DF[cat_features].astype('category')"
   ]
  },
  {
   "cell_type": "code",
   "execution_count": 4,
   "metadata": {
    "scrolled": true
   },
   "outputs": [
    {
     "data": {
      "text/html": [
       "<div>\n",
       "<style scoped>\n",
       "    .dataframe tbody tr th:only-of-type {\n",
       "        vertical-align: middle;\n",
       "    }\n",
       "\n",
       "    .dataframe tbody tr th {\n",
       "        vertical-align: top;\n",
       "    }\n",
       "\n",
       "    .dataframe thead th {\n",
       "        text-align: right;\n",
       "    }\n",
       "</style>\n",
       "<table border=\"1\" class=\"dataframe\">\n",
       "  <thead>\n",
       "    <tr style=\"text-align: right;\">\n",
       "      <th></th>\n",
       "      <th>age</th>\n",
       "      <th>sex</th>\n",
       "      <th>cp</th>\n",
       "      <th>trestbps</th>\n",
       "      <th>chol</th>\n",
       "      <th>fbs</th>\n",
       "      <th>restecg</th>\n",
       "      <th>thalach</th>\n",
       "      <th>exang</th>\n",
       "      <th>oldpeak</th>\n",
       "      <th>slope</th>\n",
       "      <th>ca</th>\n",
       "      <th>thal</th>\n",
       "      <th>target</th>\n",
       "    </tr>\n",
       "  </thead>\n",
       "  <tbody>\n",
       "    <tr>\n",
       "      <th>0</th>\n",
       "      <td>63.0</td>\n",
       "      <td>1.0</td>\n",
       "      <td>3.0</td>\n",
       "      <td>145.0</td>\n",
       "      <td>233.0</td>\n",
       "      <td>1.0</td>\n",
       "      <td>0.0</td>\n",
       "      <td>150.0</td>\n",
       "      <td>0</td>\n",
       "      <td>2.3</td>\n",
       "      <td>0</td>\n",
       "      <td>0</td>\n",
       "      <td>1</td>\n",
       "      <td>1</td>\n",
       "    </tr>\n",
       "    <tr>\n",
       "      <th>1</th>\n",
       "      <td>37.0</td>\n",
       "      <td>1.0</td>\n",
       "      <td>0.0</td>\n",
       "      <td>130.0</td>\n",
       "      <td>250.0</td>\n",
       "      <td>0.0</td>\n",
       "      <td>1.0</td>\n",
       "      <td>187.0</td>\n",
       "      <td>0</td>\n",
       "      <td>3.5</td>\n",
       "      <td>0</td>\n",
       "      <td>0</td>\n",
       "      <td>2</td>\n",
       "      <td>1</td>\n",
       "    </tr>\n",
       "    <tr>\n",
       "      <th>2</th>\n",
       "      <td>41.0</td>\n",
       "      <td>0.0</td>\n",
       "      <td>1.0</td>\n",
       "      <td>130.0</td>\n",
       "      <td>240.0</td>\n",
       "      <td>0.0</td>\n",
       "      <td>0.0</td>\n",
       "      <td>172.0</td>\n",
       "      <td>0</td>\n",
       "      <td>1.4</td>\n",
       "      <td>2</td>\n",
       "      <td>0</td>\n",
       "      <td>2</td>\n",
       "      <td>1</td>\n",
       "    </tr>\n",
       "    <tr>\n",
       "      <th>3</th>\n",
       "      <td>55.0</td>\n",
       "      <td>1.0</td>\n",
       "      <td>1.0</td>\n",
       "      <td>120.0</td>\n",
       "      <td>236.0</td>\n",
       "      <td>0.0</td>\n",
       "      <td>1.0</td>\n",
       "      <td>178.0</td>\n",
       "      <td>0</td>\n",
       "      <td>0.8</td>\n",
       "      <td>2</td>\n",
       "      <td>0</td>\n",
       "      <td>2</td>\n",
       "      <td>1</td>\n",
       "    </tr>\n",
       "  </tbody>\n",
       "</table>\n",
       "</div>"
      ],
      "text/plain": [
       "    age  sex   cp  trestbps   chol  fbs restecg  thalach exang  oldpeak slope  \\\n",
       "0  63.0  1.0  3.0     145.0  233.0  1.0     0.0    150.0     0      2.3     0   \n",
       "1  37.0  1.0  0.0     130.0  250.0  0.0     1.0    187.0     0      3.5     0   \n",
       "2  41.0  0.0  1.0     130.0  240.0  0.0     0.0    172.0     0      1.4     2   \n",
       "3  55.0  1.0  1.0     120.0  236.0  0.0     1.0    178.0     0      0.8     2   \n",
       "\n",
       "  ca thal target  \n",
       "0  0    1      1  \n",
       "1  0    2      1  \n",
       "2  0    2      1  \n",
       "3  0    2      1  "
      ]
     },
     "execution_count": 4,
     "metadata": {},
     "output_type": "execute_result"
    }
   ],
   "source": [
    "DF.head(4)"
   ]
  },
  {
   "cell_type": "code",
   "execution_count": 5,
   "metadata": {
    "scrolled": true
   },
   "outputs": [
    {
     "name": "stdout",
     "output_type": "stream",
     "text": [
      "<class 'pandas.core.frame.DataFrame'>\n",
      "RangeIndex: 303 entries, 0 to 302\n",
      "Data columns (total 14 columns):\n",
      " #   Column    Non-Null Count  Dtype   \n",
      "---  ------    --------------  -----   \n",
      " 0   age       303 non-null    float64 \n",
      " 1   sex       303 non-null    category\n",
      " 2   cp        303 non-null    category\n",
      " 3   trestbps  303 non-null    float64 \n",
      " 4   chol      303 non-null    float64 \n",
      " 5   fbs       303 non-null    category\n",
      " 6   restecg   303 non-null    category\n",
      " 7   thalach   303 non-null    float64 \n",
      " 8   exang     303 non-null    category\n",
      " 9   oldpeak   303 non-null    float64 \n",
      " 10  slope     303 non-null    category\n",
      " 11  ca        303 non-null    category\n",
      " 12  thal      303 non-null    category\n",
      " 13  target    303 non-null    category\n",
      "dtypes: category(9), float64(5)\n",
      "memory usage: 16.0 KB\n"
     ]
    }
   ],
   "source": [
    "DF.info()"
   ]
  },
  {
   "cell_type": "markdown",
   "metadata": {},
   "source": [
    "We now have 13 features of which 8 are categorical and 5 are numerical.\n",
    "The target variable is categorical as well.\n",
    "We can see that there are no missing values.\n",
    "\n",
    "#### Numerical Feature Description\n",
    "Beginning with numerical features, we will plot the distribution and use MLE to plot a fit to the distribution."
   ]
  },
  {
   "cell_type": "code",
   "execution_count": 6,
   "metadata": {
    "scrolled": true
   },
   "outputs": [
    {
     "data": {
      "text/html": [
       "<div>\n",
       "<style scoped>\n",
       "    .dataframe tbody tr th:only-of-type {\n",
       "        vertical-align: middle;\n",
       "    }\n",
       "\n",
       "    .dataframe tbody tr th {\n",
       "        vertical-align: top;\n",
       "    }\n",
       "\n",
       "    .dataframe thead th {\n",
       "        text-align: right;\n",
       "    }\n",
       "</style>\n",
       "<table border=\"1\" class=\"dataframe\">\n",
       "  <thead>\n",
       "    <tr style=\"text-align: right;\">\n",
       "      <th></th>\n",
       "      <th>age</th>\n",
       "      <th>trestbps</th>\n",
       "      <th>chol</th>\n",
       "      <th>thalach</th>\n",
       "      <th>oldpeak</th>\n",
       "    </tr>\n",
       "  </thead>\n",
       "  <tbody>\n",
       "    <tr>\n",
       "      <th>count</th>\n",
       "      <td>303.000000</td>\n",
       "      <td>303.000000</td>\n",
       "      <td>303.000000</td>\n",
       "      <td>303.000000</td>\n",
       "      <td>303.000000</td>\n",
       "    </tr>\n",
       "    <tr>\n",
       "      <th>mean</th>\n",
       "      <td>54.405941</td>\n",
       "      <td>131.630363</td>\n",
       "      <td>245.848185</td>\n",
       "      <td>149.610561</td>\n",
       "      <td>1.036634</td>\n",
       "    </tr>\n",
       "    <tr>\n",
       "      <th>std</th>\n",
       "      <td>8.964069</td>\n",
       "      <td>17.358758</td>\n",
       "      <td>51.604360</td>\n",
       "      <td>22.858624</td>\n",
       "      <td>1.158160</td>\n",
       "    </tr>\n",
       "    <tr>\n",
       "      <th>min</th>\n",
       "      <td>29.000000</td>\n",
       "      <td>94.000000</td>\n",
       "      <td>126.000000</td>\n",
       "      <td>71.000000</td>\n",
       "      <td>0.000000</td>\n",
       "    </tr>\n",
       "    <tr>\n",
       "      <th>25%</th>\n",
       "      <td>48.000000</td>\n",
       "      <td>120.000000</td>\n",
       "      <td>211.000000</td>\n",
       "      <td>133.500000</td>\n",
       "      <td>0.000000</td>\n",
       "    </tr>\n",
       "    <tr>\n",
       "      <th>50%</th>\n",
       "      <td>55.000000</td>\n",
       "      <td>130.000000</td>\n",
       "      <td>240.000000</td>\n",
       "      <td>153.000000</td>\n",
       "      <td>0.800000</td>\n",
       "    </tr>\n",
       "    <tr>\n",
       "      <th>75%</th>\n",
       "      <td>61.000000</td>\n",
       "      <td>140.000000</td>\n",
       "      <td>274.000000</td>\n",
       "      <td>166.000000</td>\n",
       "      <td>1.600000</td>\n",
       "    </tr>\n",
       "    <tr>\n",
       "      <th>max</th>\n",
       "      <td>77.000000</td>\n",
       "      <td>200.000000</td>\n",
       "      <td>564.000000</td>\n",
       "      <td>202.000000</td>\n",
       "      <td>6.200000</td>\n",
       "    </tr>\n",
       "  </tbody>\n",
       "</table>\n",
       "</div>"
      ],
      "text/plain": [
       "              age    trestbps        chol     thalach     oldpeak\n",
       "count  303.000000  303.000000  303.000000  303.000000  303.000000\n",
       "mean    54.405941  131.630363  245.848185  149.610561    1.036634\n",
       "std      8.964069   17.358758   51.604360   22.858624    1.158160\n",
       "min     29.000000   94.000000  126.000000   71.000000    0.000000\n",
       "25%     48.000000  120.000000  211.000000  133.500000    0.000000\n",
       "50%     55.000000  130.000000  240.000000  153.000000    0.800000\n",
       "75%     61.000000  140.000000  274.000000  166.000000    1.600000\n",
       "max     77.000000  200.000000  564.000000  202.000000    6.200000"
      ]
     },
     "execution_count": 6,
     "metadata": {},
     "output_type": "execute_result"
    }
   ],
   "source": [
    "DF.describe()"
   ]
  },
  {
   "cell_type": "markdown",
   "metadata": {},
   "source": [
    "We will now implement a function that finds the best fitting distribution using the scipy.stats fit function and returns the best fitting distribution from the following continous distributions: norm, lognorm, exponential.\n",
    "\n",
    "<font color=red>need to make sure that the function selection is ok!</font>"
   ]
  },
  {
   "cell_type": "code",
   "execution_count": 8,
   "metadata": {},
   "outputs": [],
   "source": [
    "def fit_distribution(data):\n",
    "    dist_types = [\"norm\", \"lognorm\", \"expon\"]\n",
    "    params = {}\n",
    "    results = {}\n",
    "    \n",
    "    for dist_type in dist_types:\n",
    "        dist = getattr(st, dist_type)\n",
    "        params[dist_type] = dist.fit(data, method='mle') #run MLE\n",
    "        \n",
    "        #compute p-val\n",
    "        d, _ = st.kstest(data, dist_type, args = params[dist_type])\n",
    "        results[dist_type] = d\n",
    "    \n",
    "    #select distribution with max p-value\n",
    "    best_fit = min(results, key=results.get)\n",
    "    return best_fit, results[best_fit], params[best_fit]"
   ]
  },
  {
   "cell_type": "code",
   "execution_count": 9,
   "metadata": {
    "scrolled": false
   },
   "outputs": [
    {
     "data": {
      "image/png": "[encoded data removed]",
      "text/plain": [
       "<Figure size 864x432 with 5 Axes>"
      ]
     },
     "metadata": {
      "needs_background": "light"
     },
     "output_type": "display_data"
    }
   ],
   "source": [
    "#set figure\n",
    "fig, axs = plt.subplots(2, 3, figsize = (12, 6))\n",
    "fig.tight_layout(pad=2.0)\n",
    "fig.delaxes(axs[1, 2])\n",
    "\n",
    "#plot histograms and distributions\n",
    "for i in range(len(numeric_features)):\n",
    "    c = next(palette)\n",
    "    ax = axs[i//3, i%3]\n",
    "    sns.histplot(data=DF, x=numeric_features[i], stat=\"density\", color = c, ax = ax)\n",
    "    \n",
    "    #find the best fitting distribution\n",
    "    dist_type, _, dist_params = fit_distribution(DF[numeric_features[i]])\n",
    "    dist = getattr(st, dist_type)\n",
    "    \n",
    "    #plot distribution\n",
    "    x = np.linspace(min(DF[numeric_features[i]]), max(DF[numeric_features[i]]), 100)\n",
    "    y = dist.pdf(x, *dist_params)\n",
    "    ax.plot(x, y, color = c)\n",
    "    ax.legend([str(dist_type), numeric_features[i]])"
   ]
  },
  {
   "cell_type": "markdown",
   "metadata": {},
   "source": [
    "##### Summary of MLE parameters and p-values\n",
    "\n",
    "<font color = 'red'> do we need that? </font>"
   ]
  },
  {
   "cell_type": "markdown",
   "metadata": {},
   "source": [
    "##### Numerical features vs. age\n",
    "We will separate the \"Age\" feature into 4 bins of equal size: (28.999, 48], (48, 55], (55, 61], (61, 77],\n",
    "and plot the violin plot of each of the numeric features for each bin while splitting acording to the target."
   ]
  },
  {
   "cell_type": "code",
   "execution_count": 10,
   "metadata": {},
   "outputs": [
    {
     "data": {
      "image/png": "[encoded data removed]",
      "text/plain": [
       "<Figure size 864x432 with 4 Axes>"
      ]
     },
     "metadata": {
      "needs_background": "light"
     },
     "output_type": "display_data"
    }
   ],
   "source": [
    "#set figure\n",
    "fig, axs = plt.subplots(2, 2, figsize = (12, 6))\n",
    "fig.tight_layout(pad=2.0)\n",
    "\n",
    "#quantile-cut age into 4\n",
    "age_bins = pd.qcut(DF['age'], 4)\n",
    "\n",
    "#plot for each numeric feature\n",
    "i=0\n",
    "for feature in numeric_features:\n",
    "    if feature != 'age':\n",
    "        ax = axs[i//2, i%2]\n",
    "        sns.violinplot(data=DF, y=feature, x = age_bins, hue=\"target\", split=True, ax=ax)\n",
    "        i+=1"
   ]
  },
  {
   "cell_type": "markdown",
   "metadata": {},
   "source": [
    "#### Healthy \\ Sick population mean\n",
    "We will use a t-test to find the numerical features which exhibit a mean which is significantly ($p <= 0.05$) different between the healthy and sick population. The null hypothesis is that $\\mu_1 = \\mu_2$. If the p-value is smaller than 0.05, we consider the difference significant and compute the CI using a two-sided t-test value with df = 301."
   ]
  },
  {
   "cell_type": "code",
   "execution_count": 10,
   "metadata": {},
   "outputs": [
    {
     "data": {
      "text/html": [
       "<div>\n",
       "<style scoped>\n",
       "    .dataframe tbody tr th:only-of-type {\n",
       "        vertical-align: middle;\n",
       "    }\n",
       "\n",
       "    .dataframe tbody tr th {\n",
       "        vertical-align: top;\n",
       "    }\n",
       "\n",
       "    .dataframe thead th {\n",
       "        text-align: right;\n",
       "    }\n",
       "</style>\n",
       "<table border=\"1\" class=\"dataframe\">\n",
       "  <thead>\n",
       "    <tr style=\"text-align: right;\">\n",
       "      <th></th>\n",
       "      <th>t-stat</th>\n",
       "      <th>mean-delta</th>\n",
       "      <th>p-val</th>\n",
       "      <th>CI</th>\n",
       "    </tr>\n",
       "  </thead>\n",
       "  <tbody>\n",
       "    <tr>\n",
       "      <th>age</th>\n",
       "      <td>4.119569</td>\n",
       "      <td>4.151515</td>\n",
       "      <td>4.910356e-05</td>\n",
       "      <td>[1.4006612594578511, 6.902369043572446]</td>\n",
       "    </tr>\n",
       "    <tr>\n",
       "      <th>trestbps</th>\n",
       "      <td>2.561884</td>\n",
       "      <td>5.083399</td>\n",
       "      <td>1.089746e-02</td>\n",
       "      <td>[-0.4576586990050675, 10.624457117977416]</td>\n",
       "    </tr>\n",
       "    <tr>\n",
       "      <th>thalach</th>\n",
       "      <td>-8.082866</td>\n",
       "      <td>-19.351779</td>\n",
       "      <td>1.553316e-14</td>\n",
       "      <td>[-26.036215851501556, -12.667341460751441]</td>\n",
       "    </tr>\n",
       "    <tr>\n",
       "      <th>oldpeak</th>\n",
       "      <td>8.104618</td>\n",
       "      <td>0.982648</td>\n",
       "      <td>1.341348e-14</td>\n",
       "      <td>[0.6459639447084013, 1.319332497979347]</td>\n",
       "    </tr>\n",
       "  </tbody>\n",
       "</table>\n",
       "</div>"
      ],
      "text/plain": [
       "            t-stat  mean-delta         p-val  \\\n",
       "age       4.119569    4.151515  4.910356e-05   \n",
       "trestbps  2.561884    5.083399  1.089746e-02   \n",
       "thalach  -8.082866  -19.351779  1.553316e-14   \n",
       "oldpeak   8.104618    0.982648  1.341348e-14   \n",
       "\n",
       "                                                  CI  \n",
       "age          [1.4006612594578511, 6.902369043572446]  \n",
       "trestbps   [-0.4576586990050675, 10.624457117977416]  \n",
       "thalach   [-26.036215851501556, -12.667341460751441]  \n",
       "oldpeak      [0.6459639447084013, 1.319332497979347]  "
      ]
     },
     "execution_count": 10,
     "metadata": {},
     "output_type": "execute_result"
    }
   ],
   "source": [
    "numeric_significants = pd.DataFrame(columns = ['t-stat','mean-delta', 'p-val', 'CI'])\n",
    "\n",
    "for feature in numeric_features:   \n",
    "    #find the sick and healthy population\n",
    "    healthy_population = DF[feature][DF['target'] == 0]\n",
    "    sick_population = DF[feature][DF['target'] == 1]\n",
    "    \n",
    "    #preform t-test\n",
    "    t, p = st.ttest_ind(healthy_population, sick_population)\n",
    "    \n",
    "    #check significance\n",
    "    if p <= 0.05:\n",
    "        delta = np.mean(healthy_population) - np.mean(sick_population)\n",
    "        \n",
    "        #n1+n+2\n",
    "        n_h = len(healthy_population)\n",
    "        n_s = len(sick_population)\n",
    "        df = n_h + n_s - 2\n",
    "        \n",
    "        #variance\n",
    "        v_h = np.var(healthy_population)\n",
    "        v_s = np.var(sick_population)\n",
    "        SE = np.sqrt(v_h/n_h) + np.sqrt(v_s/n_s)\n",
    "        \n",
    "        #confidence interval\n",
    "        t_crit = st.t.ppf(0.975, df)\n",
    "        CI = delta + np.array([-1, 1]) * t_crit * SE\n",
    "        numeric_significants.loc[feature] = [t, delta, p, CI]\n",
    "        \n",
    "numeric_significants"
   ]
  },
  {
   "cell_type": "markdown",
   "metadata": {},
   "source": [
    "#### Correlations between numerical features\n",
    "We begin by calcaulting the pearson correlation between numerical features along with the p-value. We will only plot significant values in the heatmap with $p<=0.05$."
   ]
  },
  {
   "cell_type": "code",
   "execution_count": 112,
   "metadata": {},
   "outputs": [
    {
     "data": {
      "image/png": "[encoded data removed]",
      "text/plain": [
       "<Figure size 432x288 with 2 Axes>"
      ]
     },
     "metadata": {
      "needs_background": "light"
     },
     "output_type": "display_data"
    }
   ],
   "source": [
    "n = len(numeric_features)\n",
    "numeric_corr = np.zeros([n, n, 2])\n",
    "\n",
    "for i, j in [(i, j) for i in range(n) for j in range(n)]:\n",
    "    #if i != j: \n",
    "        numeric_corr[i,j,:] = st.pearsonr(DF[numeric_features[i]],DF[numeric_features[j]]) #rho, p-val\n",
    "\n",
    "mask = np.tril(np.ones([n,n]),-1).astype(bool) * (numeric_corr[:,:,1] <= 0.05)\n",
    "\n",
    "sns.heatmap(numeric_corr[:,:,0], annot = numeric_corr[:,:,0], mask = ~mask,\n",
    "           xticklabels = numeric_features, \n",
    "           yticklabels = numeric_features);"
   ]
  },
  {
   "cell_type": "code",
   "execution_count": 111,
   "metadata": {},
   "outputs": [
    {
     "name": "stdout",
     "output_type": "stream",
     "text": [
      "[-4.01671245e-01  3.55604374e-13] [-3.30060397e-01  3.92357911e-09]\n"
     ]
    }
   ],
   "source": [
    "print(numeric_corr[3,0], numeric_corr[4,3])"
   ]
  },
  {
   "cell_type": "markdown",
   "metadata": {},
   "source": [
    "We will focus on \"thalach\" and \"oldpeak\" which have a Pearson coefficient of -0.4 and $Pval<<0.01$, and \"thalach\" and \"age\" which have a pearson coeffieicnt of -0.33 and $Pval<<0.01$."
   ]
  },
  {
   "cell_type": "markdown",
   "metadata": {},
   "source": [
    "##### Jointplots"
   ]
  },
  {
   "cell_type": "code",
   "execution_count": 119,
   "metadata": {},
   "outputs": [
    {
     "data": {
      "image/png": "[encoded data removed]",
      "text/plain": [
       "<Figure size 432x432 with 3 Axes>"
      ]
     },
     "metadata": {
      "needs_background": "light"
     },
     "output_type": "display_data"
    }
   ],
   "source": [
    "sns.jointplot(data = DF, x = 'thalach', y = 'oldpeak', ax = axs[0], kind = 'reg');"
   ]
  },
  {
   "cell_type": "code",
   "execution_count": 120,
   "metadata": {},
   "outputs": [
    {
     "data": {
      "image/png": "[encoded data removed]",
      "text/plain": [
       "<Figure size 432x432 with 3 Axes>"
      ]
     },
     "metadata": {
      "needs_background": "light"
     },
     "output_type": "display_data"
    }
   ],
   "source": [
    "sns.jointplot(data = DF, x = 'thalach', y = 'age', ax = axs[0], kind = 'reg');"
   ]
  },
  {
   "cell_type": "markdown",
   "metadata": {},
   "source": [
    "##### Bivariate normal fits"
   ]
  },
  {
   "cell_type": "code",
   "execution_count": 138,
   "metadata": {},
   "outputs": [
    {
     "name": "stderr",
     "output_type": "stream",
     "text": [
      "C:\\Users\\Jonathan\\AppData\\Local\\Temp\\ipykernel_12636\\470957848.py:13: UserWarning: No contour levels were found within the data range.\n",
      "  ax.contour(x1_v, x2_v, Y.reshape(x1_v.shape),\n"
     ]
    },
    {
     "data": {
      "image/png": "[encoded data removed]",
      "text/plain": [
       "<Figure size 432x288 with 1 Axes>"
      ]
     },
     "metadata": {
      "needs_background": "light"
     },
     "output_type": "display_data"
    }
   ],
   "source": [
    "# Example code for bivariate pdfs\n",
    "from scipy.stats import multivariate_normal as mn\n",
    "\n",
    "def plot_2d_Gaussian_pdf(means, cov):\n",
    "    n = 100\n",
    "    x1 = np.linspace(means[0] - 3 * np.sqrt(cov[0][0]), means[0] + 3 * np.sqrt(cov[0][0]), n)\n",
    "    x2 = np.linspace(means[1] - 3 * np.sqrt(cov[1][1]), means[1] + 3 * np.sqrt(cov[1][1]), n)\n",
    "    x1_v, x2_v = np.meshgrid(x1, x2)\n",
    "    Xgrid = np.vstack([x1_v.ravel(), x2_v.ravel()]).T\n",
    "    Y = mn.pdf(Xgrid, means, cov)\n",
    "    fig, ax = plt.subplots()\n",
    "    ax.pcolorfast(x1, x2, Y.reshape(x1_v.shape), alpha=0.5, cmap='Blues')\n",
    "    ax.contour(x1_v, x2_v, Y.reshape(x1_v.shape),\n",
    "               levels=[0.05, 0.1, 0.15, 0.2], alpha=0.3, colors='b')\n",
    "    ax.axis('equal')\n",
    "    ax.grid(alpha=0.2)\n",
    "    plt.show()\n",
    "    \n",
    "means = np.mean([DF['thalach'], DF['age']] , axis=1)\n",
    "cov = np.cov([DF['thalach'], DF['age']])\n",
    "plot_2d_Gaussian_pdf(means, cov)"
   ]
  },
  {
   "cell_type": "markdown",
   "metadata": {},
   "source": [
    "#### Categorical feature discription"
   ]
  },
  {
   "cell_type": "code",
   "execution_count": 9,
   "metadata": {},
   "outputs": [
    {
     "data": {
      "text/html": [
       "<div>\n",
       "<style scoped>\n",
       "    .dataframe tbody tr th:only-of-type {\n",
       "        vertical-align: middle;\n",
       "    }\n",
       "\n",
       "    .dataframe tbody tr th {\n",
       "        vertical-align: top;\n",
       "    }\n",
       "\n",
       "    .dataframe thead th {\n",
       "        text-align: right;\n",
       "    }\n",
       "</style>\n",
       "<table border=\"1\" class=\"dataframe\">\n",
       "  <thead>\n",
       "    <tr style=\"text-align: right;\">\n",
       "      <th></th>\n",
       "      <th>sex</th>\n",
       "      <th>cp</th>\n",
       "      <th>fbs</th>\n",
       "      <th>restecg</th>\n",
       "      <th>exang</th>\n",
       "      <th>slope</th>\n",
       "      <th>ca</th>\n",
       "      <th>thal</th>\n",
       "      <th>target</th>\n",
       "    </tr>\n",
       "  </thead>\n",
       "  <tbody>\n",
       "    <tr>\n",
       "      <th>count</th>\n",
       "      <td>303.0</td>\n",
       "      <td>303.0</td>\n",
       "      <td>303.0</td>\n",
       "      <td>303.0</td>\n",
       "      <td>303</td>\n",
       "      <td>303</td>\n",
       "      <td>303</td>\n",
       "      <td>303</td>\n",
       "      <td>303</td>\n",
       "    </tr>\n",
       "    <tr>\n",
       "      <th>unique</th>\n",
       "      <td>2.0</td>\n",
       "      <td>4.0</td>\n",
       "      <td>2.0</td>\n",
       "      <td>3.0</td>\n",
       "      <td>2</td>\n",
       "      <td>3</td>\n",
       "      <td>5</td>\n",
       "      <td>4</td>\n",
       "      <td>2</td>\n",
       "    </tr>\n",
       "    <tr>\n",
       "      <th>top</th>\n",
       "      <td>1.0</td>\n",
       "      <td>0.0</td>\n",
       "      <td>0.0</td>\n",
       "      <td>1.0</td>\n",
       "      <td>0</td>\n",
       "      <td>2</td>\n",
       "      <td>0</td>\n",
       "      <td>2</td>\n",
       "      <td>1</td>\n",
       "    </tr>\n",
       "    <tr>\n",
       "      <th>freq</th>\n",
       "      <td>208.0</td>\n",
       "      <td>145.0</td>\n",
       "      <td>258.0</td>\n",
       "      <td>153.0</td>\n",
       "      <td>204</td>\n",
       "      <td>142</td>\n",
       "      <td>175</td>\n",
       "      <td>166</td>\n",
       "      <td>165</td>\n",
       "    </tr>\n",
       "  </tbody>\n",
       "</table>\n",
       "</div>"
      ],
      "text/plain": [
       "          sex     cp    fbs  restecg  exang  slope   ca  thal  target\n",
       "count   303.0  303.0  303.0    303.0    303    303  303   303     303\n",
       "unique    2.0    4.0    2.0      3.0      2      3    5     4       2\n",
       "top       1.0    0.0    0.0      1.0      0      2    0     2       1\n",
       "freq    208.0  145.0  258.0    153.0    204    142  175   166     165"
      ]
     },
     "execution_count": 9,
     "metadata": {},
     "output_type": "execute_result"
    }
   ],
   "source": [
    "DF.describe(include='category')"
   ]
  },
  {
   "cell_type": "markdown",
   "metadata": {},
   "source": [
    "We have 8 categorical features and the target variable is also categorical (sick or healthy)."
   ]
  },
  {
   "cell_type": "code",
   "execution_count": null,
   "metadata": {},
   "outputs": [],
   "source": []
  },
  {
   "cell_type": "markdown",
   "metadata": {},
   "source": [
    "### Question 3 - Heavy Tailed Distributions and the Exponential Distribution (16 points)"
   ]
  },
  {
   "cell_type": "markdown",
   "metadata": {},
   "source": [
    "### Heavy Tailed Distributions\n",
    "\n",
    "Recall the definition of Heavy Tailed distribution from the lectures.\n",
    "\n",
    "*A distribution is said to have a heavy right tail if its tail probabilities vanish slower than any exponential*\n",
    "$$ \\forall t>0, \\lim_{x\\to\\infty} e^{tx}P(X>x)=\\infty $$"
   ]
  },
  {
   "cell_type": "markdown",
   "metadata": {},
   "source": [
    "Does the standard log-normal distribution have a heavy right tail? prove your answer."
   ]
  },
  {
   "cell_type": "markdown",
   "metadata": {},
   "source": [
    "!!!!!!\n",
    "Not sure how to prove..\n",
    "\n",
    "The log normal distribution doesn't have a heavy right tail because the term inside the limit is:\n",
    "$e^{tx}\\int_x^\\infty{\\frac{dx}{x\\sqrt{2\\pi}\\sigma}e^{-\\frac{(ln(x)-\\mu)^2}{\\sigma^2}}}$ and it diverges in the limit "
   ]
  },
  {
   "cell_type": "markdown",
   "metadata": {},
   "source": [
    "### Special Properties of the Exponential Distribution\n",
    "\n",
    "Let $X_1 \\sim exp(\\lambda_1)$ and $X_2 \\sim exp(\\lambda_2)$ be two independent exponential random variables.\n",
    "\n",
    "Calculate $P(X_1 < X_2)$."
   ]
  },
  {
   "cell_type": "markdown",
   "metadata": {},
   "source": [
    "$$\n",
    "P(X_1<X_2)=\n",
    "\\int CDF_1(x)(1-CDF_2(x))dx=\n",
    "\\int_0^\\infty dx(1-e^{-\\lambda_1x})e^{-\\lambda_2x}=\n",
    "\\int_0^\\infty dx e^{-\\lambda_2x}-e^{-(\\lambda_1+\\lambda_2)x}=\n",
    "\\frac{1}{\\lambda_2} - \\frac{1}{\\lambda_1+\\lambda_2}\n",
    "$$"
   ]
  },
  {
   "cell_type": "markdown",
   "metadata": {},
   "source": [
    "### Question 4 - CLT for Markov chains (16 points)"
   ]
  },
  {
   "cell_type": "markdown",
   "metadata": {},
   "source": [
    "In this exercise you will construct trajectories of Markovian dice rolling results in the following way.<br>\n",
    "The first roll, X0, is Unif(1..6)<br>\n",
    "After i rolls are determined the i+1st, Xi+1, is drawn according to the row that corresponds to the value of Xi in the matrix T below. <br>\n",
    "In other words, T is the transition matrix of a Markov chain and the initial distribution is uniform.\n",
    "\n",
    "\\begin{equation*}\n",
    "T = \n",
    "\\begin{pmatrix}\n",
    "0.4 & 0.2 & 0.1 & 0 & 0.1 & 0.2 \\\\\n",
    "0.2 & 0.4 & 0.2 & 0.1 & 0 & 0.1 \\\\\n",
    "0.1 & 0.2 & 0.4 & 0.2 & 0.1 & 0 \\\\\n",
    "0 & 0.1 & 0.2 & 0.4 & 0.2 & 0.1 \\\\\n",
    "0.1 & 0 & 0.1 & 0.2 & 0.4 & 0.2 \\\\\n",
    "0.2 & 0.1 & 0 & 0.1 & 0.2 & 0.4\n",
    "\\end{pmatrix}\n",
    "\\end{equation*}"
   ]
  },
  {
   "cell_type": "code",
   "execution_count": 490,
   "metadata": {},
   "outputs": [
    {
     "data": {
      "text/plain": [
       "array([[0.4, 0.2, 0.1, 0. , 0.1, 0.2],\n",
       "       [0.2, 0.4, 0.2, 0.1, 0. , 0.1],\n",
       "       [0.1, 0.2, 0.4, 0.2, 0.1, 0. ],\n",
       "       [0. , 0.1, 0.2, 0.4, 0.2, 0.1],\n",
       "       [0.1, 0. , 0.1, 0.2, 0.4, 0.2],\n",
       "       [0.2, 0.1, 0. , 0.1, 0.2, 0.4]])"
      ]
     },
     "execution_count": 490,
     "metadata": {},
     "output_type": "execute_result"
    }
   ],
   "source": [
    "T_default=np.array([\n",
    "[0.4 , 0.2 , 0.1 , 0 , 0.1 , 0.2],\n",
    "[0.2 , 0.4 , 0.2 , 0.1 , 0 , 0.1],\n",
    "[0.1 , 0.2 , 0.4 , 0.2 , 0.1 , 0],\n",
    "[0 , 0.1 , 0.2 , 0.4 , 0.2 , 0.1],\n",
    "[0.1 , 0 , 0.1 , 0.2 , 0.4 , 0.2],\n",
    "[0.2 , 0.1 , 0 , 0.1 , 0.2 , 0.4],\n",
    "])\n",
    "\n",
    "T_default"
   ]
  },
  {
   "cell_type": "markdown",
   "metadata": {},
   "source": [
    "#### 4.A\n",
    "Construct 1000 trajectories, each of length 30.\n",
    "1. What do you expect the average value of all 30 numbers in a trajectory to be?\n",
    "2. Compute the average value of each such trajectory. Draw a histogram of the 1000 numbers you received, using 20 bins.\n",
    "3. What does the distribution look like? What are the empirical mean and the std?"
   ]
  },
  {
   "cell_type": "code",
   "execution_count": 267,
   "metadata": {},
   "outputs": [
    {
     "data": {
      "text/plain": [
       "array([0., 1., 0., 0., 0., 0.])"
      ]
     },
     "execution_count": 267,
     "metadata": {},
     "output_type": "execute_result"
    }
   ],
   "source": [
    "np.eye(6)[:,1]"
   ]
  },
  {
   "cell_type": "code",
   "execution_count": 495,
   "metadata": {},
   "outputs": [],
   "source": [
    "N=1000\n",
    "np.random.seed(5)"
   ]
  },
  {
   "cell_type": "code",
   "execution_count": 496,
   "metadata": {},
   "outputs": [
    {
     "data": {
      "text/plain": [
       "array([0.16666667, 0.16666667, 0.16666667, 0.16666667, 0.16666667,\n",
       "       0.16666667])"
      ]
     },
     "execution_count": 496,
     "metadata": {},
     "output_type": "execute_result"
    }
   ],
   "source": [
    "Pi0_default = (np.ones(6) / 6)\n",
    "Pi0_default"
   ]
  },
  {
   "cell_type": "code",
   "execution_count": 498,
   "metadata": {
    "tags": []
   },
   "outputs": [],
   "source": [
    "def generate_first_location(pi0=Pi0_default):\n",
    "    probability_vec = pi0\n",
    "    cdf = probability_vec.cumsum()\n",
    "    loc = (cdf>= np.random.rand()).argmax()\n",
    "    return np.eye(6)[:,loc]"
   ]
  },
  {
   "cell_type": "code",
   "execution_count": 499,
   "metadata": {},
   "outputs": [],
   "source": [
    "def generate_next_step(loc_vec,T=T_default):\n",
    "    probability_vec = np.dot(T,loc)\n",
    "    cdf = probability_vec.cumsum()\n",
    "    new_loc = (cdf>= np.random.rand()).argmax()\n",
    "    return np.eye(6)[:,new_loc]"
   ]
  },
  {
   "cell_type": "code",
   "execution_count": 500,
   "metadata": {},
   "outputs": [],
   "source": [
    "def generate_trajectory(steps=30,pi0=Pi0_default,T=T_default):\n",
    "    loc_list = [generate_first_location(pi0)]\n",
    "    for _ in range(steps-1):\n",
    "        loc_list.append(generate_next_step(loc_list[-1],T))\n",
    "    return np.c_[loc_list]"
   ]
  },
  {
   "cell_type": "code",
   "execution_count": 501,
   "metadata": {},
   "outputs": [
    {
     "data": {
      "text/plain": [
       "(1000, 30, 6)"
      ]
     },
     "execution_count": 501,
     "metadata": {},
     "output_type": "execute_result"
    }
   ],
   "source": [
    "experiment = np.c_[[generate_trajectory() for _ in range(N)]]\n",
    "experiment.shape # [trajectory,step,location]"
   ]
  },
  {
   "cell_type": "markdown",
   "metadata": {},
   "source": [
    "Due to the simmerty of the initial draw and the transition matrix, I would expect the average value to be the mean of 1 to 6 (3.5)"
   ]
  },
  {
   "cell_type": "code",
   "execution_count": 502,
   "metadata": {},
   "outputs": [
    {
     "data": {
      "image/png": "[encoded data removed]",
      "text/plain": [
       "<Figure size 640x480 with 1 Axes>"
      ]
     },
     "metadata": {},
     "output_type": "display_data"
    }
   ],
   "source": [
    "tranjectory_means = (experiment * np.arange(1,7)).sum(axis=2).mean(axis=1)\n",
    "plt.hist(tranjectory_means, bins=20 );"
   ]
  },
  {
   "cell_type": "markdown",
   "metadata": {},
   "source": [
    "The distribution looks gaussian "
   ]
  },
  {
   "cell_type": "code",
   "execution_count": 503,
   "metadata": {},
   "outputs": [
    {
     "data": {
      "text/plain": [
       "3.027133333333333"
      ]
     },
     "execution_count": 503,
     "metadata": {},
     "output_type": "execute_result"
    }
   ],
   "source": [
    "tranjectory_means.mean()"
   ]
  },
  {
   "cell_type": "code",
   "execution_count": 504,
   "metadata": {},
   "outputs": [
    {
     "data": {
      "text/plain": [
       "0.2039319167434727"
      ]
     },
     "execution_count": 504,
     "metadata": {},
     "output_type": "execute_result"
    }
   ],
   "source": [
    "tranjectory_means.std()"
   ]
  },
  {
   "cell_type": "markdown",
   "metadata": {},
   "source": [
    "##### 4.B\n",
    "Construct 1000 trajectories, each of length 500.\n",
    "1. What do you expect the average value of all 500 numbers in a trajectory to be?\n",
    "2. Compute the average value of each such trajectory. Draw a histogram of the 1000 numbers you received, using 20 bins.\n",
    "3. What does the distribution look like? What are the empirical mean and the std?"
   ]
  },
  {
   "cell_type": "code",
   "execution_count": 505,
   "metadata": {},
   "outputs": [
    {
     "data": {
      "text/plain": [
       "(1000, 500, 6)"
      ]
     },
     "execution_count": 505,
     "metadata": {},
     "output_type": "execute_result"
    }
   ],
   "source": [
    "experiment_b = np.c_[[generate_trajectory(500) for _ in range(N)]]\n",
    "experiment_b.shape # [trajectory,step,location]"
   ]
  },
  {
   "cell_type": "code",
   "execution_count": 506,
   "metadata": {},
   "outputs": [],
   "source": [
    "tranjectory_means_b = (experiment_b * np.arange(1,7)).sum(axis=2).mean(axis=1)\n"
   ]
  },
  {
   "cell_type": "code",
   "execution_count": 507,
   "metadata": {},
   "outputs": [
    {
     "data": {
      "image/png": "[encoded data removed]",
      "text/plain": [
       "<Figure size 640x480 with 1 Axes>"
      ]
     },
     "metadata": {},
     "output_type": "display_data"
    }
   ],
   "source": [
    "plt.hist(tranjectory_means_b,bins=20);"
   ]
  },
  {
   "cell_type": "markdown",
   "metadata": {},
   "source": [
    "Also looks like a gaussian"
   ]
  },
  {
   "cell_type": "code",
   "execution_count": 508,
   "metadata": {},
   "outputs": [
    {
     "data": {
      "text/plain": [
       "3.0024859999999998"
      ]
     },
     "execution_count": 508,
     "metadata": {},
     "output_type": "execute_result"
    }
   ],
   "source": [
    "tranjectory_means_b.mean()"
   ]
  },
  {
   "cell_type": "code",
   "execution_count": 509,
   "metadata": {},
   "outputs": [
    {
     "data": {
      "text/plain": [
       "0.048489089535688285"
      ]
     },
     "execution_count": 509,
     "metadata": {},
     "output_type": "execute_result"
    }
   ],
   "source": [
    "tranjectory_means_b.std()"
   ]
  },
  {
   "cell_type": "markdown",
   "metadata": {},
   "source": [
    "#### 4.C\n",
    "Draw normal fit curves on your two histograms."
   ]
  },
  {
   "cell_type": "code",
   "execution_count": 516,
   "metadata": {
    "tags": []
   },
   "outputs": [
    {
     "data": {
      "text/plain": [
       "[<matplotlib.lines.Line2D at 0x7f067e00c7c0>]"
      ]
     },
     "execution_count": 516,
     "metadata": {},
     "output_type": "execute_result"
    },
    {
     "data": {
      "image/png": "[encoded data removed]",
      "text/plain": [
       "<Figure size 640x480 with 1 Axes>"
      ]
     },
     "metadata": {},
     "output_type": "display_data"
    }
   ],
   "source": [
    "from scipy.stats import norm \n",
    "plt.hist(tranjectory_means_b,bins=20);\n",
    "miu,sigma = norm.fit(tranjectory_means_b)\n",
    "plt.plot(np.linspace(1,6,300),norm(loc=miu,scale=sigma).pdf(np.linspace(1,6,300)))"
   ]
  },
  {
   "cell_type": "code",
   "execution_count": 517,
   "metadata": {
    "tags": []
   },
   "outputs": [
    {
     "data": {
      "text/plain": [
       "[<matplotlib.lines.Line2D at 0x7f067e02cfa0>]"
      ]
     },
     "execution_count": 517,
     "metadata": {},
     "output_type": "execute_result"
    },
    {
     "data": {
      "image/png": "[encoded data removed]",
      "text/plain": [
       "<Figure size 640x480 with 1 Axes>"
      ]
     },
     "metadata": {},
     "output_type": "display_data"
    }
   ],
   "source": [
    "from scipy.stats import norm \n",
    "plt.hist(tranjectory_means,bins=20);\n",
    "miu,sigma = norm.fit(tranjectory_means)\n",
    "plt.plot(np.linspace(1,6,300),norm(loc=miu,scale=sigma).pdf(np.linspace(1,6,300)))"
   ]
  },
  {
   "cell_type": "markdown",
   "metadata": {},
   "source": [
    "#### 4.D\n",
    "Write a python code to calculate $Cov(X_0,X_i)$ for $i=1,..,500$ based on $\\pi_0$ and $T$. \n",
    "\n",
    "Compute the values for our case."
   ]
  },
  {
   "cell_type": "code",
   "execution_count": 541,
   "metadata": {},
   "outputs": [],
   "source": [
    "def get_cov_of_0_with_all_available_i(experiment): \n",
    "    experiment_red = (experiment * np.arange(1,7)).sum(axis=2) # [tranjectory,step] each location contains the value (integer from 1 to 6)\n",
    "    return np.cov(experiment_red.T)[0,1:]"
   ]
  },
  {
   "cell_type": "code",
   "execution_count": 546,
   "metadata": {},
   "outputs": [
    {
     "data": {
      "text/plain": [
       "(499,)"
      ]
     },
     "execution_count": 546,
     "metadata": {},
     "output_type": "execute_result"
    }
   ],
   "source": [
    "get_cov_of_0_with_all_available_i(experiment_b).shape"
   ]
  },
  {
   "cell_type": "code",
   "execution_count": 547,
   "metadata": {},
   "outputs": [],
   "source": [
    "def get_cov_from_1_to_1000_based_on_pi0_and_T(pi0=Pi0_default,T=T_default,N=1000):\n",
    "    experiment = np.c_[[generate_trajectory(steps=500,pi0=pi0,T=T) for _ in range(N)]]\n",
    "    return get_cov_of_0_with_all_available_i(experiment)\n",
    "cov_from_1_to_500 = get_cov_from_1_to_1000_based_on_pi0_and_T()"
   ]
  },
  {
   "cell_type": "code",
   "execution_count": 548,
   "metadata": {
    "collapsed": true,
    "jupyter": {
     "outputs_hidden": true
    },
    "tags": []
   },
   "outputs": [
    {
     "data": {
      "text/plain": [
       "array([ 4.95065065e-02, -2.52752753e-03, -4.95985986e-02, -8.53753754e-03,\n",
       "        1.29135135e-01,  9.65815816e-02,  9.00820821e-02,  7.95945946e-02,\n",
       "       -7.30850851e-02, -1.45255255e-02, -4.45795796e-02, -4.35285285e-02,\n",
       "        3.50390390e-02,  9.35785786e-02,  8.55465465e-02, -2.20480480e-02,\n",
       "       -4.90110110e-02, -6.15065065e-02, -8.45815816e-02, -2.40260260e-02,\n",
       "       -1.14824825e-02,  7.00900901e-02,  2.10410410e-02, -7.65235235e-02,\n",
       "       -5.54804805e-02, -7.45275275e-02, -2.44894895e-02, -2.35085085e-02,\n",
       "       -3.25115115e-02, -6.61081081e-02,  5.50350350e-02,  1.14098098e-01,\n",
       "        1.00420420e-02, -9.55665666e-02, -7.70130130e-02, -1.35245245e-02,\n",
       "        2.65655656e-02,  5.30570571e-02, -6.21221221e-02,  1.46659660e-01,\n",
       "       -2.60760761e-02, -3.80820821e-02,  2.09969970e-02, -6.75685686e-02,\n",
       "        7.85975976e-02,  4.98698699e-03, -8.75785786e-02, -8.55865866e-02,\n",
       "        1.64854855e-02, -9.46946947e-04,  4.30470470e-02, -3.60020020e-02,\n",
       "        1.34884885e-02, -3.84934935e-02,  9.50030030e-02,  7.71251251e-02,\n",
       "        4.00840841e-02,  4.70650651e-02, -5.95795796e-03,  3.29889890e-02,\n",
       "        5.45045045e-03,  2.59679680e-02,  2.94944945e-02,  1.80120120e-02,\n",
       "       -9.94194194e-03, -4.45315315e-02, -4.50750751e-03,  4.95745746e-02,\n",
       "       -4.55225225e-02, -1.55045045e-02, -3.70170170e-02,  9.20960961e-02,\n",
       "        1.00420420e-02,  1.28128128e-01,  4.50650651e-02,  7.31011011e-02,\n",
       "        4.25315315e-02,  1.80060060e-02, -6.21321321e-02,  5.99399399e-03,\n",
       "        1.01501502e-03,  5.55425425e-02,  7.21121121e-02,  3.53253253e-03,\n",
       "       -8.70950951e-02, -3.53053053e-03, -6.01601602e-03,  4.10030030e-02,\n",
       "        7.49649650e-03, -1.64794795e-02, -4.25195195e-02, -1.32609610e-01,\n",
       "        3.05135135e-02,  2.30950951e-02, -2.51151151e-03,  6.15905906e-02,\n",
       "       -1.45335335e-02,  9.51651652e-03, -2.60220220e-02, -4.11131131e-02,\n",
       "       -1.55455455e-03,  1.90090090e-02,  8.25535536e-02, -1.23151151e-01,\n",
       "        2.15245245e-02,  5.65415415e-02,  3.40100100e-02, -3.25235235e-02,\n",
       "        2.65995996e-02,  1.00040040e-02,  5.45335335e-02, -5.03703704e-03,\n",
       "        7.16046046e-02, -6.75665666e-02, -7.02302302e-03, -7.70870871e-02,\n",
       "        1.05155155e-02,  1.60400400e-02,  4.98098098e-03, -3.25275275e-02,\n",
       "       -5.45155155e-02,  1.03303303e-03,  3.34424424e-02,  3.45375375e-02,\n",
       "        9.25935936e-02,  1.64574575e-02, -7.61281281e-02, -3.85175175e-02,\n",
       "        2.53753754e-03,  2.95245245e-02,  2.40400400e-02, -1.21648649e-01,\n",
       "       -1.20080080e-02,  7.35405405e-02,  1.85515516e-02, -6.61141141e-02,\n",
       "        2.89509510e-02,  7.25635636e-02, -5.55565566e-02,  5.45845846e-03,\n",
       "        8.35925926e-02, -1.10094094e-01,  1.35065065e-02, -7.80780781e-02,\n",
       "       -3.90730731e-02,  2.85415415e-02,  8.70750751e-02,  2.05235235e-02,\n",
       "       -3.65675676e-02,  2.40080080e-02, -1.20128128e-01, -9.71271271e-02,\n",
       "       -5.65455455e-02, -5.01101101e-02,  3.55165165e-02, -1.25594595e-01,\n",
       "       -1.65075075e-02,  1.75465465e-02, -1.15658659e-01, -1.00160160e-02,\n",
       "        3.40200200e-02,  3.89749750e-02,  9.53653654e-03,  5.35365365e-02,\n",
       "        5.65415415e-02,  8.56266266e-02,  4.67467467e-04,  2.05715716e-02,\n",
       "        2.50350350e-03,  9.04104104e-03,  2.60440440e-02, -5.80580581e-02,\n",
       "        1.00631632e-01, -4.55065065e-02, -6.60580581e-02, -7.96596597e-03,\n",
       "        6.76166166e-02,  6.35445445e-02, -3.10450450e-02, -5.45295295e-02,\n",
       "        4.05315315e-02, -2.44954955e-02,  1.00100100e-03, -1.97797798e-03,\n",
       "       -4.60540541e-02,  2.35425425e-02,  4.39839840e-02,  1.00114114e-01,\n",
       "        7.10890891e-02,  1.40194194e-01,  1.15085085e-02,  1.94544545e-02,\n",
       "        3.95025025e-02, -1.10270270e-02,  1.20220220e-02,  4.66456456e-02,\n",
       "        5.44974975e-02, -4.54954955e-03, -1.25173173e-01,  1.80400400e-02,\n",
       "        4.00220220e-02,  1.50450450e-03, -2.90850851e-02,  5.75825826e-02,\n",
       "        5.51051051e-03, -5.45135135e-02,  7.30970971e-02,  1.01135135e-01,\n",
       "       -1.43177177e-01, -2.80120120e-02, -7.26556557e-02,  2.80020020e-02,\n",
       "        5.65375375e-02, -2.14924925e-02,  4.84614615e-02,  7.54454454e-03,\n",
       "       -9.41381381e-02, -1.05674675e-01,  3.56856857e-03, -6.00540541e-02,\n",
       "       -6.05005005e-03, -3.90210210e-02,  5.00100100e-03,  2.03403403e-03,\n",
       "       -5.50130130e-02,  1.09669670e-02, -4.60160160e-02, -9.75245245e-02,\n",
       "        6.60620621e-02,  1.27596597e-01,  5.60980981e-02, -1.14984985e-02,\n",
       "       -2.40240240e-02, -2.75725726e-02, -3.35105105e-02,  2.35145145e-02,\n",
       "       -5.50310310e-02, -6.70270270e-02,  3.00640641e-02,  2.59919920e-02,\n",
       "       -3.42042042e-03, -3.70130130e-02,  4.93093093e-03,  9.56456456e-03,\n",
       "       -2.35265265e-02,  1.78631632e-01, -8.46736737e-02,  2.00380380e-02,\n",
       "        8.80540541e-02, -1.84674675e-02, -6.55305305e-02,  5.20320320e-02,\n",
       "        4.60720721e-02,  2.44544545e-03,  3.30210210e-02,  4.45235235e-02,\n",
       "        5.55565566e-02, -9.70790791e-02, -5.90530531e-02, -5.30350350e-02,\n",
       "        2.15825826e-02,  5.15245245e-02,  8.00200200e-03, -6.55505506e-02,\n",
       "       -3.90890891e-02, -3.75025025e-02,  4.60120120e-02, -4.20880881e-02,\n",
       "       -5.35365365e-02, -9.71071071e-02, -4.35505506e-02,  2.09789790e-02,\n",
       "        1.60200200e-02, -5.45245245e-03,  9.95745746e-02, -2.75325325e-02,\n",
       "        4.29969970e-02, -4.35365365e-02,  6.00360360e-02,  8.71071071e-02,\n",
       "       -3.79859860e-02,  3.70350350e-02,  7.00480480e-02,  3.90530531e-02,\n",
       "        2.59879880e-02,  1.35285285e-02,  8.85875876e-02, -1.59879880e-02,\n",
       "       -2.20440440e-02, -4.40840841e-02, -8.76246246e-02,  6.05405405e-03,\n",
       "        1.90150150e-02,  3.70750751e-02,  2.75065065e-02, -3.95525526e-02,\n",
       "       -1.05656657e-01,  6.05755756e-02, -1.75365365e-02,  7.96046046e-02,\n",
       "        9.35625626e-02, -2.55185185e-02, -2.44934935e-02, -5.85675676e-02,\n",
       "       -5.25355355e-02,  1.45215215e-02, -4.95145145e-02, -4.75025025e-02,\n",
       "        6.03003003e-03, -4.85215215e-02,  4.25135135e-02, -8.80680681e-02,\n",
       "       -7.26116116e-02, -2.95345345e-02, -1.15325325e-02, -1.00070070e-01,\n",
       "        1.06042042e-01, -4.98498498e-03, -9.85995996e-02,  2.50090090e-02,\n",
       "       -2.25355355e-02, -1.00340340e-02, -1.69669670e-02, -6.35925926e-02,\n",
       "       -8.35345345e-02, -6.30230230e-02, -3.55005005e-02, -8.60560561e-02,\n",
       "        3.00420420e-02,  6.99699700e-03, -4.85895896e-02, -9.82982983e-04,\n",
       "       -3.46046046e-03,  3.25095095e-02, -1.09369369e-02, -6.30830831e-02,\n",
       "       -4.00120120e-02,  2.29829830e-02, -4.79979980e-02,  1.60192192e-01,\n",
       "        1.35185185e-02,  8.40740741e-02, -2.55565566e-02, -1.33111111e-01,\n",
       "        5.56346346e-02, -6.00200200e-03, -9.48848849e-03,  1.55245245e-02,\n",
       "        3.95285285e-02,  8.05955956e-02, -1.04714715e-02, -2.00600601e-03,\n",
       "        4.79419419e-02, -2.25575576e-02, -4.50590591e-02,  4.48548549e-03,\n",
       "        4.70370370e-02,  4.50630631e-02,  5.55605606e-02, -7.90710711e-02,\n",
       "       -1.70650651e-02, -2.47947948e-03,  2.00800801e-03, -8.36406406e-02,\n",
       "        6.90690691e-02, -3.03503504e-03, -5.81041041e-02, -7.45555556e-02,\n",
       "       -3.69929930e-02, -3.39959960e-02,  4.45675676e-02,  1.01101101e-03,\n",
       "        3.00220220e-02,  6.60200200e-02,  6.30210210e-02, -3.15305305e-02,\n",
       "       -1.40840841e-02,  1.45075075e-02,  8.30770771e-02, -4.31351351e-02,\n",
       "       -2.35425425e-02, -1.31159159e-01, -2.45435435e-02, -7.70630631e-02,\n",
       "       -1.74964965e-02, -5.50430430e-02,  4.60180180e-02,  6.26016016e-02,\n",
       "       -8.40400400e-02, -3.20000000e-02, -1.15093093e-01, -5.86176176e-02,\n",
       "        5.60760761e-02,  3.10170170e-02, -5.34404404e-02, -8.55785786e-02,\n",
       "        2.64794795e-02, -8.51091091e-02,  5.90310310e-02,  2.55485485e-02,\n",
       "        1.19939940e-02,  5.05175175e-02,  4.80100100e-02, -6.99699700e-03,\n",
       "        9.49849850e-03, -3.35245245e-02, -2.00220220e-02,  6.95565566e-02,\n",
       "       -1.75385385e-02,  5.60480480e-02, -3.55305305e-02, -3.95325325e-02,\n",
       "        7.95995996e-03,  1.21624625e-01,  5.51211211e-02,  3.55485485e-02,\n",
       "       -1.95595596e-03,  3.25715716e-02,  7.98598599e-03, -4.90110110e-02,\n",
       "        2.95105105e-02,  1.35445445e-02, -1.17117117e-01, -4.70130130e-02,\n",
       "        7.36226226e-02,  3.51651652e-03,  6.98498498e-03, -9.35785786e-02,\n",
       "       -9.25895896e-02, -3.96596597e-03,  1.95145145e-02,  4.90130130e-02,\n",
       "        4.30770771e-02, -8.61101101e-02, -1.06306306e-03, -5.55345345e-02,\n",
       "        1.02094094e-01, -2.90350350e-02,  5.03503504e-04, -4.00400400e-06,\n",
       "        1.54631632e-01, -5.35285285e-02, -7.00780781e-02, -2.90150150e-02,\n",
       "       -1.69989990e-02,  1.89369369e-02,  7.25315315e-02, -1.80200200e-02,\n",
       "       -8.85735736e-02,  4.25555556e-02, -6.69769770e-02, -3.40080080e-02,\n",
       "       -9.21121121e-02,  4.74984985e-02,  3.25615616e-02, -4.15185185e-02,\n",
       "       -1.02571572e-01,  6.95295295e-03, -1.45143143e-01,  1.40220220e-02,\n",
       "        1.10050050e-02,  2.40820821e-02,  7.16046046e-02, -2.00520521e-02,\n",
       "        1.05735736e-02, -2.05495495e-02, -1.21137137e-01, -1.54964965e-02,\n",
       "       -9.96106106e-02,  4.25195195e-02,  5.60420420e-02, -6.40560561e-02,\n",
       "        3.45455455e-02,  7.51651652e-03,  9.02102102e-03,  4.75665666e-02,\n",
       "       -9.98798799e-03, -2.71251251e-02,  5.70630631e-02,  9.55345345e-02,\n",
       "       -5.54924925e-02, -5.20340340e-02,  5.55985986e-02,  7.00960961e-02,\n",
       "        2.02202202e-03,  5.46646647e-03, -5.05595596e-02,  8.15765766e-02,\n",
       "        3.50610611e-02, -5.25135135e-02,  1.15560561e-01,  4.65915916e-02,\n",
       "       -1.00320320e-02, -5.75825826e-02, -3.80900901e-02, -1.90110110e-02,\n",
       "       -2.24254254e-02, -9.05295295e-02, -9.54254254e-03])"
      ]
     },
     "execution_count": 548,
     "metadata": {},
     "output_type": "execute_result"
    }
   ],
   "source": [
    "cov_from_1_to_500"
   ]
  },
  {
   "cell_type": "markdown",
   "metadata": {},
   "source": [
    "### Question 5 - Distributions (16 Points)\n",
    "\n",
    "Let $X$ be a random variable. Consider the number $q$ so that $P(X\\le q)=0.8$ (assume that such a value exists).\n",
    "\n",
    "Consider a sample $\\vec{x}(n) = x_1,...,x_n$ sampled independently from $X$. Denote the sorted observations by: $a_1 \\le a_2 \\le ... \\le a_n$. Also assume that $n \\ge 100$.\n",
    "\n",
    "Let $R(\\vec{x}(n))$ be the largest index $i \\in {1,...,n}$ such that $a_i \\le q$. If $a_1 > q$ then $R = 0$.\n",
    "\n",
    "1. What is $P(R = 0)$?\n",
    "1. What is the distribution of $R$?\n",
    "1. Given $n$, write code that computes an index $\\lambda (n)$ so that $P(a_{\\lambda (n)} \\le q) \\ge 0.9$ and $P(a_{\\lambda (n)+1} \\le q) < 0.9$.\n",
    "1. Let $X \\sim Unif(0,1)$, $q$ as above and $n=100$. Compute $\\lambda (n)$ as above. Run 200 experiments that calculate $a_{\\lambda (n)}$ for independent drawing from $X$. How many times did you observe $a_{\\lambda (n)} \\le q$?"
   ]
  },
  {
   "cell_type": "code",
   "execution_count": null,
   "metadata": {},
   "outputs": [],
   "source": []
  }
 ],
 "metadata": {
  "kernelspec": {
   "display_name": "Python 3 (ipykernel)",
   "language": "python",
   "name": "python3"
  },
  "language_info": {
   "codemirror_mode": {
    "name": "ipython",
    "version": 3
   },
   "file_extension": ".py",
   "mimetype": "text/x-python",
   "name": "python",
   "nbconvert_exporter": "python",
   "pygments_lexer": "ipython3",
   "version": "3.9.12"
  }
 },
 "nbformat": 4,
 "nbformat_minor": 4
}
