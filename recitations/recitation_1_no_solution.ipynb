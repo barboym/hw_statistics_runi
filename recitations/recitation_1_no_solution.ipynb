{
 "cells": [
  {
   "cell_type": "markdown",
   "metadata": {},
   "source": [
    "# Recitation 1: Introduction to Jupyter & Basic Probability and Statistics\n",
    "\n",
    "1. NumPy: The fundamental package for scientific computing with Python.\n",
    "\n",
    "\n",
    "\n",
    "2. Pandas: Fast, powerful, flexible and easy to use open source data analysis and manipulation tool,\n",
    "\n",
    "\n",
    "\n",
    "3. Matplotlib: Comprehensive library for creating static, animated, and interactive visualizations in Python (next recitation)\n",
    "\n",
    "\n",
    "In addition, we will work with Jupyter Notebook which enables us to have code, text, visualizations and more in a single document. \n",
    "\n",
    "\n",
    "## NumPy\n",
    "\n",
    "### Data Types in Python\n",
    "***\n",
    "Python is a dynamically typed language. This means that every time we preform an action types are checked during execution of the code. \n",
    "\n",
    "### Python integers disguise \n",
    "Every time we store an integer in python `x = 10`, python is storing much more than just the value 10. It is actually storing 4 different values:\n",
    "1. The value of the digit\n",
    "1. The size of the variable\n",
    "1. The type of the object\n",
    "1. The reference count (handling memory allocation)\n",
    "\n",
    "\n",
    "Since every object is maintained separately, we can create heterogeneous lists in python:"
   ]
  },
  {
   "cell_type": "code",
   "execution_count": null,
   "metadata": {},
   "outputs": [],
   "source": [
    "l = [1, \"string\", True, 122.3]"
   ]
  },
  {
   "cell_type": "code",
   "execution_count": null,
   "metadata": {},
   "outputs": [],
   "source": [
    "for element in l:\n",
    "    print(f\"type({element}) = {type(element)}\")"
   ]
  },
  {
   "cell_type": "markdown",
   "metadata": {},
   "source": [
    "While this flexibility is convenient it also comes at a price. Every element in the list is a python object containing extra information. Every time we enumerate over the data we will need to check the type of the element which takes time and memory. In cases where we are holding a list of the same type this overhead is redundant.\n",
    "\n",
    "### Importing NumPy\n",
    "***\n",
    "The convention is `import numpy as np`. We use an alias `np` so that we don't pollute our code with too much `numpy`."
   ]
  },
  {
   "cell_type": "code",
   "execution_count": null,
   "metadata": {},
   "outputs": [],
   "source": [
    "!pip install numpy"
   ]
  },
  {
   "cell_type": "code",
   "execution_count": null,
   "metadata": {},
   "outputs": [],
   "source": [
    "import numpy as np\n",
    "print(\"Numpy version:\", np.__version__)"
   ]
  },
  {
   "cell_type": "markdown",
   "metadata": {},
   "source": [
    "### Numpy Arrays\n",
    "***\n",
    "You can think of a numpy array as a list where all the elements **must** be of the same type. Meaning, all the elements in a numpy array will be treated equally, no type checking should take place."
   ]
  },
  {
   "cell_type": "code",
   "execution_count": null,
   "metadata": {},
   "outputs": [],
   "source": [
    "a = np.array([1.0, 2, 3, 4])\n",
    "type(a), a, a.dtype"
   ]
  },
  {
   "cell_type": "code",
   "execution_count": null,
   "metadata": {},
   "outputs": [],
   "source": [
    "ll = np.array([1, \"string\", True, 122.3])\n",
    "\n",
    "type(ll), ll"
   ]
  },
  {
   "cell_type": "markdown",
   "metadata": {},
   "source": [
    "### Creating arrays from lists\n",
    "As we just saw we can create NumPy arrays from python lists.  "
   ]
  },
  {
   "cell_type": "code",
   "execution_count": null,
   "metadata": {},
   "outputs": [],
   "source": [
    "a = np.array([1,2,3,4]) # Creating a 1d Array.\n",
    "b = np.array([[1,2,3], [4, 5, 6], [7, 8, 9]]) # Creating a 2d Array.\n",
    "\n",
    "print(a)\n",
    "print('='*10)\n",
    "print(b)"
   ]
  },
  {
   "cell_type": "markdown",
   "metadata": {},
   "source": [
    "### Creating arrays with NumPy methods\n",
    "We can also create arrays using different NumPy methods:"
   ]
  },
  {
   "cell_type": "code",
   "execution_count": null,
   "metadata": {},
   "outputs": [],
   "source": [
    "x = np.zeros(10)"
   ]
  },
  {
   "cell_type": "code",
   "execution_count": null,
   "metadata": {},
   "outputs": [],
   "source": [
    "x.shape"
   ]
  },
  {
   "cell_type": "code",
   "execution_count": null,
   "metadata": {},
   "outputs": [],
   "source": [
    "np.zeros((5, 5))"
   ]
  },
  {
   "cell_type": "code",
   "execution_count": null,
   "metadata": {},
   "outputs": [],
   "source": [
    "np.ones((3, 3))"
   ]
  },
  {
   "cell_type": "code",
   "execution_count": null,
   "metadata": {},
   "outputs": [],
   "source": [
    "np.full((3, 3), 5.0)"
   ]
  },
  {
   "cell_type": "code",
   "execution_count": null,
   "metadata": {},
   "outputs": [],
   "source": [
    "a = np.empty((2, 2))\n",
    "a"
   ]
  },
  {
   "cell_type": "code",
   "execution_count": null,
   "metadata": {},
   "outputs": [],
   "source": [
    "np.arange(5)"
   ]
  },
  {
   "cell_type": "code",
   "execution_count": null,
   "metadata": {},
   "outputs": [],
   "source": [
    "np.arange(0, 10, 2)"
   ]
  },
  {
   "cell_type": "code",
   "execution_count": null,
   "metadata": {},
   "outputs": [],
   "source": [
    "np.linspace(0, 10 , 5)"
   ]
  },
  {
   "cell_type": "markdown",
   "metadata": {},
   "source": [
    "### Creating arrays with NumPy random methods\n",
    "<img src=\"https://cdn.pixabay.com/photo/2012/04/05/01/24/dice-25637__340.png\" width=\"200\" height=\"\">\n",
    "\n",
    "Another very useful way of creating NumPy arrays is by using the NumPy random library - `np.random`."
   ]
  },
  {
   "cell_type": "code",
   "execution_count": null,
   "metadata": {},
   "outputs": [],
   "source": [
    "np.random.rand(3, 3) # from the uniform distribution"
   ]
  },
  {
   "cell_type": "code",
   "execution_count": null,
   "metadata": {},
   "outputs": [],
   "source": [
    "np.random.randint(low=10, high=50, size=(4, 4))  # discrete uniform distribution"
   ]
  },
  {
   "cell_type": "code",
   "execution_count": null,
   "metadata": {},
   "outputs": [],
   "source": [
    "np.random.normal(loc=0, scale=1, size=(6, 2))  # loc - mean, scale - std"
   ]
  },
  {
   "cell_type": "markdown",
   "metadata": {},
   "source": [
    "### Exercise \n",
    "\n",
    "Create a (5,5) matrix with all the values from 1 to 25."
   ]
  },
  {
   "cell_type": "code",
   "execution_count": null,
   "metadata": {},
   "outputs": [],
   "source": []
  },
  {
   "cell_type": "markdown",
   "metadata": {},
   "source": [
    "Get the bottom corner of the matrix (top left corner of the print) of size 2x2."
   ]
  },
  {
   "cell_type": "code",
   "execution_count": null,
   "metadata": {},
   "outputs": [],
   "source": []
  },
  {
   "cell_type": "markdown",
   "metadata": {},
   "source": [
    "Create a (5,5) array with 1's on the border and 0's inside."
   ]
  },
  {
   "cell_type": "code",
   "execution_count": null,
   "metadata": {},
   "outputs": [],
   "source": []
  },
  {
   "cell_type": "markdown",
   "metadata": {},
   "source": [
    "### NumPy aggregation\n",
    "\n",
    "In most data science application we start exploring the data by querying different statistics.   \n",
    "Numpy allows us to do that quickly by using aggregation functions (you aggregate information as you iterate over the array), which summarize the values in an array.\n",
    "Some of the most common aggregation are : \n",
    "```py\n",
    "sum, mean, std, var, min, max.   \n",
    "```\n",
    "To view the entire aggregation list visit : [Numpy aggregation](https://jakevdp.github.io/PythonDataScienceHandbook/02.04-computation-on-arrays-aggregates.html)."
   ]
  },
  {
   "cell_type": "code",
   "execution_count": null,
   "metadata": {},
   "outputs": [],
   "source": [
    "a = np.random.randint(10, 20, size=10)\n",
    "a"
   ]
  },
  {
   "cell_type": "code",
   "execution_count": null,
   "metadata": {},
   "outputs": [],
   "source": [
    "a.min(), a.max(), a.mean(), a.std()"
   ]
  },
  {
   "cell_type": "code",
   "execution_count": null,
   "metadata": {},
   "outputs": [],
   "source": [
    "a.argmin(), a.argmax()"
   ]
  },
  {
   "cell_type": "markdown",
   "metadata": {},
   "source": [
    "Multi dimensional arrays"
   ]
  },
  {
   "cell_type": "code",
   "execution_count": null,
   "metadata": {},
   "outputs": [],
   "source": [
    "M = np.random.rand(5, 5)"
   ]
  },
  {
   "cell_type": "code",
   "execution_count": null,
   "metadata": {},
   "outputs": [],
   "source": [
    "M"
   ]
  },
  {
   "cell_type": "code",
   "execution_count": null,
   "metadata": {},
   "outputs": [],
   "source": [
    "M.max(), M.min(), M.mean()"
   ]
  },
  {
   "cell_type": "code",
   "execution_count": null,
   "metadata": {},
   "outputs": [],
   "source": [
    "a = np.arange(10).reshape(2, 5)"
   ]
  },
  {
   "cell_type": "code",
   "execution_count": null,
   "metadata": {},
   "outputs": [],
   "source": [
    "a, a.sum()"
   ]
  },
  {
   "cell_type": "code",
   "execution_count": null,
   "metadata": {},
   "outputs": [],
   "source": [
    "a.sum(axis=0)"
   ]
  },
  {
   "cell_type": "code",
   "execution_count": null,
   "metadata": {},
   "outputs": [],
   "source": [
    "a.sum(axis=1)"
   ]
  },
  {
   "cell_type": "markdown",
   "metadata": {},
   "source": [
    "### Exercise"
   ]
  },
  {
   "cell_type": "code",
   "execution_count": null,
   "metadata": {},
   "outputs": [],
   "source": [
    "np.random.seed(42)"
   ]
  },
  {
   "cell_type": "code",
   "execution_count": null,
   "metadata": {},
   "outputs": [],
   "source": [
    "X = np.random.randint(low=0, high=50, size=(30, 4))\n",
    "X"
   ]
  },
  {
   "cell_type": "markdown",
   "metadata": {},
   "source": [
    "Get the mean values of each column in X."
   ]
  },
  {
   "cell_type": "code",
   "execution_count": null,
   "metadata": {},
   "outputs": [],
   "source": [
    "# 1. What do you expect the output shape to be?\n",
    "# 2. CODE!"
   ]
  },
  {
   "cell_type": "markdown",
   "metadata": {},
   "source": [
    "Get the max value of each row in X."
   ]
  },
  {
   "cell_type": "code",
   "execution_count": null,
   "metadata": {},
   "outputs": [],
   "source": [
    "# 1. What do you expect the output shape to be?\n",
    "# 2. CODE!"
   ]
  },
  {
   "cell_type": "markdown",
   "metadata": {},
   "source": [
    "Get the median value of all the value of X."
   ]
  },
  {
   "cell_type": "code",
   "execution_count": null,
   "metadata": {},
   "outputs": [],
   "source": [
    "# 1. What do you expect the output shape to be?\n",
    "# 2. CODE!"
   ]
  },
  {
   "cell_type": "markdown",
   "metadata": {},
   "source": [
    "-----------------"
   ]
  },
  {
   "cell_type": "code",
   "execution_count": null,
   "metadata": {},
   "outputs": [],
   "source": [
    "np.random.seed(2222)\n",
    "Y = np.random.randint(low=0, high=50, size=(4, 20))"
   ]
  },
  {
   "cell_type": "code",
   "execution_count": null,
   "metadata": {},
   "outputs": [],
   "source": [
    "# what is the shape of Y?"
   ]
  },
  {
   "cell_type": "markdown",
   "metadata": {},
   "source": [
    "Get the mean of each column of X plus the mean of each row of Y."
   ]
  },
  {
   "cell_type": "code",
   "execution_count": null,
   "metadata": {},
   "outputs": [],
   "source": [
    "# 1. What do you expect the output shape to be? \n",
    "# 2. CODE!"
   ]
  },
  {
   "cell_type": "markdown",
   "metadata": {},
   "source": [
    "### Broadcasting\n",
    "\n",
    "A very powerful mechanism of NumPy arrays is [broadcasting](https://docs.scipy.org/doc/numpy/user/basics.broadcasting.html).\n",
    "Broadcasting is used when an operation is used on two arrays of different shapes.\n",
    "The rules are:\n",
    "\n",
    "1. If arrays dimension differ, left-pad the smaller array's shape with 1s.\n",
    "1. If the shapes differ, change any dimension of size 1 to match the dimension of the other array.\n",
    "1. If shapes still differ, raise an error.\n",
    "\n",
    "Some exmaples:\n",
    "![broadcasting examples](http://www.astroml.org/_images/fig_broadcast_visual_1.png)"
   ]
  },
  {
   "cell_type": "code",
   "execution_count": null,
   "metadata": {},
   "outputs": [],
   "source": [
    "np.arange(3) + 5"
   ]
  },
  {
   "cell_type": "code",
   "execution_count": null,
   "metadata": {},
   "outputs": [],
   "source": [
    "np.ones((3,3)) + np.arange(3)"
   ]
  },
  {
   "cell_type": "code",
   "execution_count": null,
   "metadata": {},
   "outputs": [],
   "source": [
    "np.arange(3).reshape((3, 1)) + np.arange(6)"
   ]
  },
  {
   "cell_type": "code",
   "execution_count": null,
   "metadata": {},
   "outputs": [],
   "source": [
    "np.arange(3).reshape((3, 1))"
   ]
  },
  {
   "cell_type": "code",
   "execution_count": null,
   "metadata": {},
   "outputs": [],
   "source": [
    " np.arange(6)"
   ]
  },
  {
   "cell_type": "markdown",
   "metadata": {},
   "source": [
    "-----------------"
   ]
  },
  {
   "cell_type": "code",
   "execution_count": null,
   "metadata": {},
   "outputs": [],
   "source": [
    "a = np.arange(1, 11)\n",
    "a.shape"
   ]
  },
  {
   "cell_type": "code",
   "execution_count": null,
   "metadata": {},
   "outputs": [],
   "source": [
    "b = np.arange(1, 11).reshape(10, 1)\n",
    "b.shape"
   ]
  },
  {
   "cell_type": "code",
   "execution_count": null,
   "metadata": {},
   "outputs": [],
   "source": [
    "# What do you expect the output shape of a*b to be? \n",
    "# a * b"
   ]
  },
  {
   "cell_type": "markdown",
   "metadata": {},
   "source": [
    "### Exercise\n",
    "\n",
    "Given a 1D array X, calculate the differences between each two elements of X using broadcasting and save it to array D, Meaning `D[i,j] = X[i] - X[j]`"
   ]
  },
  {
   "cell_type": "code",
   "execution_count": null,
   "metadata": {},
   "outputs": [],
   "source": [
    "X = np.linspace(1, 10, 10)\n",
    "X"
   ]
  },
  {
   "cell_type": "code",
   "execution_count": null,
   "metadata": {},
   "outputs": [],
   "source": [
    "# 1. What do you expect the output shape od D to be? \n",
    "# 2. CODE"
   ]
  },
  {
   "cell_type": "markdown",
   "metadata": {},
   "source": [
    "Now that we have a solid understanding of NumPy, we can notice two things:\n",
    "1. NumPy is extremely useful for working with numerical values of the same type.\n",
    "1. NumPy is missing some flexibility when it comes to working with data which contains heterogeneous data (say, strings along side floats), as well as preforming some more data science related operations such as groupings and pivots.\n",
    "\n",
    "So we would like a way to benefit from NumPy ability to work efficiently with numerical values, but, also enjoy some flexibility which will allow us to work with heterogeneous data.  \n",
    "(Named is derived from *Panel Data* which is multi-dimensional data involving measurements over time) \n",
    "\n",
    "## Hello Pandas\n",
    "***\n",
    "Pandas is a python module which builds on top of NumPy capabilities, harvesting its numerical efficiency while enabling us to work with heterogeneous data. It does so by wrapping the ndarrays with it's own objects : pandas Dataframe and pandas Series which we will discuss after we import."
   ]
  },
  {
   "cell_type": "code",
   "execution_count": null,
   "metadata": {},
   "outputs": [],
   "source": [
    "import pandas as pd\n",
    "pd.__version__"
   ]
  },
  {
   "cell_type": "markdown",
   "metadata": {},
   "source": [
    "### Pandas Objects\n",
    "Pandas supply 3 objects for us to work with : \n",
    "1. __Index__\n",
    "1. __Series__\n",
    "1. __DataFrame__  \n",
    "The reason for this order is because each series object contains a Index, and each DataFrame contains both Series objects and an Index object. But, we will talk about them in this order : Series, DataFrame, Index."
   ]
  },
  {
   "cell_type": "markdown",
   "metadata": {},
   "source": [
    "### Series\n",
    "***\n",
    "\n",
    "A series is a \"wrapped\" 1d numpy array"
   ]
  },
  {
   "cell_type": "code",
   "execution_count": null,
   "metadata": {},
   "outputs": [],
   "source": [
    "s = pd.Series([10, 20, 30, 40], name='random stuff') \n",
    "s"
   ]
  },
  {
   "cell_type": "code",
   "execution_count": null,
   "metadata": {},
   "outputs": [],
   "source": [
    "s.name"
   ]
  },
  {
   "cell_type": "code",
   "execution_count": null,
   "metadata": {},
   "outputs": [],
   "source": [
    "s[0], s[1], s[2], s[3]"
   ]
  },
  {
   "cell_type": "code",
   "execution_count": null,
   "metadata": {},
   "outputs": [],
   "source": [
    "s[1:3]"
   ]
  },
  {
   "cell_type": "code",
   "execution_count": null,
   "metadata": {},
   "outputs": [],
   "source": [
    "try:\n",
    "    pd.Series(np.zeros((2, 2))) # exception\n",
    "except Exception as e:\n",
    "    print(f\"ERROR!\\n\\t{e}\")"
   ]
  },
  {
   "cell_type": "markdown",
   "metadata": {},
   "source": [
    "## Index\n",
    "*** \n",
    "\n",
    "We can think of the pandas index as an immutable numpy array. We can use some NumPy operations on arrays, but we cannot change any of the values (an Index is an immutable object)."
   ]
  },
  {
   "cell_type": "code",
   "execution_count": null,
   "metadata": {},
   "outputs": [],
   "source": [
    "idx = pd.Index([1, 2, 3, 4, 5, 6, 7, 8])"
   ]
  },
  {
   "cell_type": "code",
   "execution_count": null,
   "metadata": {},
   "outputs": [],
   "source": [
    "idx.shape, idx.ndim, idx.size, idx.dtype"
   ]
  },
  {
   "cell_type": "code",
   "execution_count": null,
   "metadata": {},
   "outputs": [],
   "source": [
    "idx[0], idx[1:5], idx[::2]"
   ]
  },
  {
   "cell_type": "code",
   "execution_count": null,
   "metadata": {},
   "outputs": [],
   "source": [
    "try:\n",
    "    idx[0] = 12\n",
    "except Exception as e:\n",
    "    print(f\"ERROR!\\n\\t{e}\")"
   ]
  },
  {
   "cell_type": "code",
   "execution_count": null,
   "metadata": {},
   "outputs": [],
   "source": [
    "type(idx.values)"
   ]
  },
  {
   "cell_type": "markdown",
   "metadata": {},
   "source": [
    "A great functionality of the Index object is it supports set operations. We can preform various set operation between indicies to great new indicies.\n",
    "\n",
    "Some set operation remainder:  \n",
    "\n",
    "* __Union__        : $A \\cup B = \\{a | a\\in A ~or~ a\\in B \\}$ All the elements which are either in A or in B.  \n",
    "* __Intersection__ : $A \\cap B = \\{a | a\\in A ~and~ a\\in B \\}$ All the elements which are both in A and in B.  \n",
    "* __Symmetric difference__ : $A \\triangle B = \\{a | a \\in A ~or~ a\\in B~ but ~not ~both \\}$"
   ]
  },
  {
   "cell_type": "code",
   "execution_count": null,
   "metadata": {},
   "outputs": [],
   "source": [
    "ind_1 = pd.Index(np.arange(10))\n",
    "ind_2 = pd.Index(np.arange(5, 12))\n",
    "ind_1, ind_2"
   ]
  },
  {
   "cell_type": "code",
   "execution_count": null,
   "metadata": {},
   "outputs": [],
   "source": [
    "ind_1.union(ind_2)"
   ]
  },
  {
   "cell_type": "code",
   "execution_count": null,
   "metadata": {},
   "outputs": [],
   "source": [
    "ind_1.intersection(ind_2)"
   ]
  },
  {
   "cell_type": "code",
   "execution_count": null,
   "metadata": {},
   "outputs": [],
   "source": [
    "ind_1.symmetric_difference(ind_2)"
   ]
  },
  {
   "cell_type": "code",
   "execution_count": null,
   "metadata": {},
   "outputs": [],
   "source": [
    "np.random.seed(2611)\n",
    "index_lettters = [chr(ord('a') + i) for i in range(10)]\n",
    "s = pd.Series(np.random.randint(low=0, high=20, size=10), index=index_lettters)\n",
    "s"
   ]
  },
  {
   "cell_type": "code",
   "execution_count": null,
   "metadata": {},
   "outputs": [],
   "source": [
    "s[['a', 'd', 'e']]"
   ]
  },
  {
   "cell_type": "code",
   "execution_count": null,
   "metadata": {},
   "outputs": [],
   "source": [
    "s[[0, 3, 4]]"
   ]
  },
  {
   "cell_type": "markdown",
   "metadata": {},
   "source": [
    "#### loc and iloc \n",
    "Using both the implicit and explicit index can cause confusion. To make it clear which index is being used we can use the __loc__ and __iloc__ methods.\n",
    "* __iloc__ - refers to the numeric index\n",
    "* __loc__ - refers to the explicit index.  "
   ]
  },
  {
   "cell_type": "code",
   "execution_count": null,
   "metadata": {},
   "outputs": [],
   "source": [
    "np.random.seed(2611)\n",
    "index_lettters = [chr(ord('a') + i) for i in range(10)]\n",
    "s = pd.Series(np.random.randint(low=0, high=20, size=10), index=index_lettters)\n",
    "s"
   ]
  },
  {
   "cell_type": "code",
   "execution_count": null,
   "metadata": {},
   "outputs": [],
   "source": [
    "try:\n",
    "    print(s.iloc[[1, 2, 4, 6]])\n",
    "except Exception as e:\n",
    "    print(f\"ERROR!\\n\\t{e}\")"
   ]
  },
  {
   "cell_type": "code",
   "execution_count": null,
   "metadata": {},
   "outputs": [],
   "source": [
    "try:\n",
    "    print(s.loc[['a','b','d','h']])\n",
    "except Exception as e:\n",
    "    print(f\"ERROR!\\n\\t{e}\")"
   ]
  },
  {
   "cell_type": "code",
   "execution_count": null,
   "metadata": {},
   "outputs": [],
   "source": [
    "try:\n",
    "    print(s.loc[:4])\n",
    "except Exception as e:\n",
    "    print(f\"ERROR!\\n\\t{e}\")"
   ]
  },
  {
   "cell_type": "code",
   "execution_count": null,
   "metadata": {},
   "outputs": [],
   "source": [
    "try:\n",
    "    print(s.iloc[:4])\n",
    "except Exception as e:\n",
    "    print(f\"ERROR!\\n\\t{e}\")"
   ]
  },
  {
   "cell_type": "code",
   "execution_count": null,
   "metadata": {},
   "outputs": [],
   "source": [
    "try:\n",
    "    print(s.loc['a':'d'])\n",
    "except Exception as e:\n",
    "    print(f\"ERROR!\\n\\t{e}\")"
   ]
  },
  {
   "cell_type": "code",
   "execution_count": null,
   "metadata": {},
   "outputs": [],
   "source": [
    "try:\n",
    "    print(s.iloc['a':'d'])\n",
    "except Exception as e:\n",
    "    print(f\"ERROR!\\n\\t{e}\")"
   ]
  },
  {
   "cell_type": "markdown",
   "metadata": {},
   "source": [
    "A series object contains 2 objects as attributes: \n",
    "1. __values__ - a numpy array of values.\n",
    "1. __index__ - a pandas Index object. (guess what holds the values under the hood? a numpy array)  \n",
    "\n",
    "### DataFrame\n",
    "***\n",
    "\n",
    "<img src=\"https://www.tutorialspoint.com/python_pandas/images/structure_table.jpg\" width=\"300\">\n",
    "\n",
    "A pandas dataframe is basically $n$ pandas series stacked vertically. Think of a dataframe as basically an excel sheet where you can name you columns. Another option is to think of it as an enhanced 2d numpy array, where you can access the column and the rows in a \"fancy\" way. "
   ]
  },
  {
   "cell_type": "code",
   "execution_count": null,
   "metadata": {},
   "outputs": [],
   "source": [
    "data = np.random.randint(low=10, high=50, size=(15, 3))"
   ]
  },
  {
   "cell_type": "code",
   "execution_count": null,
   "metadata": {},
   "outputs": [],
   "source": [
    "df = pd.DataFrame(data, columns=['A', 'B', 'C'])\n",
    "df.head(n=7)"
   ]
  },
  {
   "cell_type": "code",
   "execution_count": null,
   "metadata": {},
   "outputs": [],
   "source": [
    "df['A']"
   ]
  },
  {
   "cell_type": "markdown",
   "metadata": {},
   "source": [
    "### DataFrame\n",
    "A dataframe is similar to a mapping between an index and a column."
   ]
  },
  {
   "cell_type": "code",
   "execution_count": null,
   "metadata": {},
   "outputs": [],
   "source": [
    "np.random.seed(1010)\n",
    "index_lettters = [chr(ord('a') + i) for i in range(10)]\n",
    "data = np.random.randint(low=0, high=100, size=(10, 3))\n",
    "df = pd.DataFrame(data, columns=['A', 'B', 'C'], index=index_lettters)\n",
    "df"
   ]
  },
  {
   "cell_type": "code",
   "execution_count": null,
   "metadata": {},
   "outputs": [],
   "source": [
    "df['A']"
   ]
  },
  {
   "cell_type": "code",
   "execution_count": null,
   "metadata": {},
   "outputs": [],
   "source": [
    "# Accessing the 2nd and 3rd row\n",
    "df.iloc[[1,2]]"
   ]
  },
  {
   "cell_type": "code",
   "execution_count": null,
   "metadata": {},
   "outputs": [],
   "source": [
    "df.loc[[\"b\",\"c\"]]"
   ]
  },
  {
   "cell_type": "code",
   "execution_count": null,
   "metadata": {},
   "outputs": [],
   "source": [
    "# Accessing rows [1,5)"
   ]
  },
  {
   "cell_type": "code",
   "execution_count": null,
   "metadata": {},
   "outputs": [],
   "source": [
    "df.iloc[1:5]"
   ]
  },
  {
   "cell_type": "code",
   "execution_count": null,
   "metadata": {},
   "outputs": [],
   "source": [
    "# Accessing row 'a'\n",
    "df.loc['a']"
   ]
  },
  {
   "cell_type": "code",
   "execution_count": null,
   "metadata": {},
   "outputs": [],
   "source": [
    "# Accessing rows 'a', 'b', 'c'\n",
    "df.loc[['a','b','c']]"
   ]
  },
  {
   "cell_type": "code",
   "execution_count": null,
   "metadata": {},
   "outputs": [],
   "source": [
    "# Accessing rows [1,5)"
   ]
  },
  {
   "cell_type": "code",
   "execution_count": null,
   "metadata": {},
   "outputs": [],
   "source": [
    "# get columns A and B"
   ]
  },
  {
   "cell_type": "code",
   "execution_count": null,
   "metadata": {},
   "outputs": [],
   "source": [
    "# Where column A is larger than 50?\n",
    "mask = df['A'] > 50\n",
    "mask"
   ]
  },
  {
   "cell_type": "code",
   "execution_count": null,
   "metadata": {},
   "outputs": [],
   "source": [
    "# Get rows where A value is bigger then 50\n",
    "df[mask]"
   ]
  },
  {
   "cell_type": "markdown",
   "metadata": {},
   "source": [
    "If you want to access the columns:\n",
    "- Standard dictionary like accessing work.\n",
    "- Fancy indexing given the same type as the columns index works as well.\n",
    "\n",
    "If you want to access the rows:\n",
    "- use iloc for implicit index.\n",
    "- use loc for explicit index.\n",
    "- use slicing using bracket notion.\n",
    "- use boolean masking using bracket notion."
   ]
  },
  {
   "cell_type": "markdown",
   "metadata": {},
   "source": [
    "# Statistics"
   ]
  },
  {
   "cell_type": "code",
   "execution_count": null,
   "metadata": {},
   "outputs": [],
   "source": [
    "import random\n",
    "import numpy as np\n",
    "import pandas as pd\n",
    "import seaborn as sns\n",
    "import matplotlib.pyplot as plt"
   ]
  },
  {
   "cell_type": "markdown",
   "metadata": {},
   "source": [
    "## Coin Toss\n",
    "\n",
    "You toss a coin 30 times and see head 24 times. Is it a fair coin?\n",
    "\n",
    "The easiest solution is to use the programming approach and run a simulation.\n",
    "\n",
    "We will run the experiment (tossing a coin 30 times) multiple times, and find the percentage of times we obtained 24 heads or more. \n",
    "\n",
    "### A single experiment:"
   ]
  },
  {
   "cell_type": "code",
   "execution_count": null,
   "metadata": {},
   "outputs": [],
   "source": [
    "experiment = np.random.randint(0,2,10)\n",
    "experiment"
   ]
  },
  {
   "cell_type": "code",
   "execution_count": null,
   "metadata": {},
   "outputs": [],
   "source": [
    "experiment[experiment==1].sum()"
   ]
  },
  {
   "cell_type": "code",
   "execution_count": null,
   "metadata": {},
   "outputs": [],
   "source": [
    "def coin_toss_experiment(n_exp):\n",
    "    total_tosses = 30\n",
    "    prob_head = 0.5\n",
    "    head_count = []\n",
    "    \n",
    "    for i in range(n_exp):\n",
    "        experiment = np.random.randint(0,2,total_tosses)\n",
    "        head_count.append(experiment[experiment==1].sum())\n",
    "    \n",
    "    return np.array(head_count)"
   ]
  },
  {
   "cell_type": "code",
   "execution_count": null,
   "metadata": {},
   "outputs": [],
   "source": [
    "n_exp = 10000"
   ]
  },
  {
   "cell_type": "code",
   "execution_count": null,
   "metadata": {},
   "outputs": [],
   "source": [
    "%%time\n",
    "\n",
    "head_count = coin_toss_experiment(n_exp)"
   ]
  },
  {
   "cell_type": "code",
   "execution_count": null,
   "metadata": {},
   "outputs": [],
   "source": [
    "num_heads = 24"
   ]
  },
  {
   "cell_type": "code",
   "execution_count": null,
   "metadata": {},
   "outputs": [],
   "source": [
    "probability_more_than_24 = len(head_count[head_count>=num_heads]) / n_exp"
   ]
  },
  {
   "cell_type": "code",
   "execution_count": null,
   "metadata": {},
   "outputs": [],
   "source": [
    "print(f\"The probability to see 24 or more heads in {n_exp} experiments is {probability_more_than_24:.3f}\")"
   ]
  },
  {
   "cell_type": "markdown",
   "metadata": {},
   "source": [
    "Visualize the number of head counts in our simulation."
   ]
  },
  {
   "cell_type": "code",
   "execution_count": null,
   "metadata": {},
   "outputs": [],
   "source": [
    "sns.histplot(head_count, bins=19);"
   ]
  },
  {
   "cell_type": "markdown",
   "metadata": {},
   "source": [
    "### NumPy exercise: \n",
    "try to code this experiment without a for loop."
   ]
  },
  {
   "cell_type": "code",
   "execution_count": null,
   "metadata": {},
   "outputs": [],
   "source": []
  },
  {
   "cell_type": "markdown",
   "metadata": {},
   "source": [
    "### Part 2: Deviation from the mean\n",
    "\n",
    "We want to know how many times we obtained a results that is $k$ times the standard deviation from the mean."
   ]
  },
  {
   "cell_type": "code",
   "execution_count": null,
   "metadata": {},
   "outputs": [],
   "source": [
    "mu = head_count.mean()\n",
    "sigma = head_count.std()"
   ]
  },
  {
   "cell_type": "code",
   "execution_count": null,
   "metadata": {},
   "outputs": [],
   "source": [
    "ks = np.arange(1, 5, 0.5)\n",
    "probs = []\n",
    "\n",
    "for k in ks: \n",
    "    c = 0\n",
    "    for i in head_count:\n",
    "        # count if far from mean in k standard deviation\n",
    "        if abs(i - mu) > k * sigma :\n",
    "            c += 1\n",
    "    probs.append(c/n_exp)"
   ]
  },
  {
   "cell_type": "code",
   "execution_count": null,
   "metadata": {},
   "outputs": [],
   "source": [
    "plt.figure(figsize=(20,10))\n",
    "plt.plot(ks,probs, marker='o')\n",
    "plt.show()\n",
    "print(\"Probability of a sample far from mean more than k standard deviation:\")\n",
    "for i, prob in enumerate(probs):\n",
    "    print(\"k={}: Calculated probability={:.2f}  |  Theoretical probability: {:.2f}\".format(ks[i], prob, 1/ks[i]**2))"
   ]
  },
  {
   "cell_type": "markdown",
   "metadata": {},
   "source": [
    "# Random Variables\n",
    "\n",
    "Using scipy, it is simple to build any custom random variable."
   ]
  },
  {
   "cell_type": "code",
   "execution_count": null,
   "metadata": {},
   "outputs": [],
   "source": [
    "from scipy.stats import rv_discrete"
   ]
  },
  {
   "cell_type": "markdown",
   "metadata": {},
   "source": [
    "**Single die**"
   ]
  },
  {
   "cell_type": "code",
   "execution_count": null,
   "metadata": {},
   "outputs": [],
   "source": [
    "x1 = [1, 2, 3, 4, 5, 6] # values\n",
    "p1 = [1/6, 1/6, 1/6, 1/6, 1/6, 1/6] # probabilities per value\n",
    "distribution1 = rv_discrete(values=(x1, p1))\n",
    "print(\"Expected value: \", distribution1.expect())"
   ]
  },
  {
   "cell_type": "markdown",
   "metadata": {},
   "source": [
    "**Sum of two dice**"
   ]
  },
  {
   "cell_type": "code",
   "execution_count": null,
   "metadata": {},
   "outputs": [],
   "source": [
    "x2 = [x for x in range(2,13)]\n",
    "p2 = [1/36, 2/36, 3/36, 4/36, 5/36, 6/36, 5/36, 4/36, 3/36, 2/36, 1/36]\n",
    "distribution2 = rv_discrete(values=(x2, p2))\n",
    "print(\"Expected value: \", distribution2.expect())"
   ]
  },
  {
   "cell_type": "markdown",
   "metadata": {},
   "source": [
    "### Linearity of expectation:\n",
    "\n",
    "The expectation of the sum of two (independent) dice is the sum of expectations of each die. Thus, $3.5 + 3.5 = 7$.\n",
    "\n",
    "**Exercise**: Two fair six-sided dice are rolled. Calculate the expectation of the product of two independent dice.\n",
    "\n",
    "#### Solution\n",
    "\n",
    "$$E[X_1 X_2] = \\sum_{x_1} \\sum_{x_2} x_1 x_2 p(X_1 = x_1) p(X_2=x_2) \\\\\n",
    "= \\sum_{x_1} x_1 p_1(X_1 = x_1) \\cdot \\sum_{x_2} x_2 p(X2=x2) \\\\\n",
    "= E[X_1]E[X_2] = 3.5\\cdot 3.5 = 12.25$$\n",
    "\n",
    "\n",
    "Programming approach:"
   ]
  },
  {
   "cell_type": "markdown",
   "metadata": {},
   "source": [
    "$$ \\frac{1}{36}\\sum_{i=1}^{6} \\sum_{j=1}^{6} i\\cdot j$$"
   ]
  },
  {
   "cell_type": "code",
   "execution_count": null,
   "metadata": {},
   "outputs": [],
   "source": []
  }
 ],
 "metadata": {
  "kernelspec": {
   "display_name": "Python 3 (ipykernel)",
   "language": "python",
   "name": "python3"
  },
  "language_info": {
   "codemirror_mode": {
    "name": "ipython",
    "version": 3
   },
   "file_extension": ".py",
   "mimetype": "text/x-python",
   "name": "python",
   "nbconvert_exporter": "python",
   "pygments_lexer": "ipython3",
   "version": "3.8.10"
  }
 },
 "nbformat": 4,
 "nbformat_minor": 4
}
