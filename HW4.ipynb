{
 "cells": [
  {
   "cell_type": "markdown",
   "id": "2299b46e-0616-4f43-b056-01192f925dd3",
   "metadata": {},
   "source": [
    "# 3 "
   ]
  },
  {
   "cell_type": "code",
   "execution_count": 1,
   "id": "80a1d28b-843e-4e31-98e2-6f656c38438a",
   "metadata": {},
   "outputs": [
    {
     "name": "stdout",
     "output_type": "stream",
     "text": [
      "%pylab is deprecated, use %matplotlib inline and import the required libraries.\n",
      "Populating the interactive namespace from numpy and matplotlib\n"
     ]
    }
   ],
   "source": [
    "import pandas as pd \n",
    "%pylab inline "
   ]
  },
  {
   "cell_type": "markdown",
   "id": "58200215-9e6a-45a6-8ec2-489cb8e43add",
   "metadata": {},
   "source": [
    "# Data should be downloaded from here \n",
    "https://drive.google.com/file/d/1-mu1J2wnlDIVNzoCXw20jJQ9r-h1jGrZ/view?usp=sharing"
   ]
  },
  {
   "cell_type": "code",
   "execution_count": 135,
   "id": "87895eb2-7863-4b8d-b7ed-652d2144d2a0",
   "metadata": {},
   "outputs": [],
   "source": [
    "# # figuring out the encoding\n",
    "# !pip install chardet\n",
    "# import chardet\n",
    "\n",
    "# with open(\"AMI_GSE66360_series_matrix.csv\",'rb') as f:\n",
    "#     # Join binary lines for specified number of lines\n",
    "#     rawdata = b''.join([f.readline() for _ in range(500)])\n",
    "\n",
    "# chardet.detect(rawdata)['encoding']\n",
    "\n",
    "# result is: ISO-8859-1\n"
   ]
  },
  {
   "cell_type": "code",
   "execution_count": 146,
   "id": "68c102f0-a9d3-4c72-bad7-839e29c4ff37",
   "metadata": {},
   "outputs": [],
   "source": [
    "## I think we dont need this part\n",
    "\n",
    "# # reading the stuff from the file that looks like a table 26-57 (the metadata)\n",
    "\n",
    "# df_meta=pd.read_csv(\n",
    "#     \"AMI_GSE66360_series_matrix.csv\",\n",
    "#     encoding='ISO-8859-1',\n",
    "#     engine='python',\n",
    "#     sep=\"\\\"\\\"\\\",*.*|\\\"\\!Sample_|\\\"\\\"\\t\\\"\\\"|\\t\\\"\\\"\",\n",
    "#     skiprows=25,nrows=57-26\n",
    "# )\n",
    "\n",
    "# df_meta = df_meta.drop(columns=[\"Unnamed: 0\",\"Unnamed: 101\"])\n",
    "\n",
    "# df_meta = df_meta.set_index(\"title\")\n",
    "# df_meta = df_meta.T\n",
    "# df_meta = df_meta.reset_index()\n",
    "# df_meta = df_meta.rename(columns={\"index\":\"name\"})"
   ]
  },
  {
   "cell_type": "code",
   "execution_count": 2,
   "id": "d8a2e0da-4af9-4c13-939a-531286f7acd0",
   "metadata": {},
   "outputs": [],
   "source": [
    "# This first table has no relevant information, reading the other one \n",
    "df=pd.read_csv(\n",
    "    \"AMI_GSE66360_series_matrix.csv\",\n",
    "    encoding='ISO-8859-1',\n",
    "    skiprows=59,\n",
    "    header=[0,1],\n",
    ")\n",
    "\n",
    "df = df.set_index((\"Class\",\"ID_REF\"))"
   ]
  },
  {
   "cell_type": "code",
   "execution_count": 3,
   "id": "f8476bdc-c775-4e7f-8615-4daf7b8efd77",
   "metadata": {},
   "outputs": [
    {
     "data": {
      "text/plain": [
       "(54675, 99)"
      ]
     },
     "execution_count": 3,
     "metadata": {},
     "output_type": "execute_result"
    }
   ],
   "source": [
    "# the columns are some 99 patients tagged as healthy or sick. The rows are checks/features \n",
    "# all fields are numerical (55k features??)\n",
    "df.shape "
   ]
  },
  {
   "cell_type": "code",
   "execution_count": 4,
   "id": "c134283c-bc82-454d-86ba-ac11e861cefb",
   "metadata": {},
   "outputs": [
    {
     "data": {
      "text/plain": [
       "count    99.000000\n",
       "mean      9.896761\n",
       "std       1.392008\n",
       "min       5.375997\n",
       "25%       9.462845\n",
       "50%      10.190275\n",
       "75%      10.883331\n",
       "max      11.985246\n",
       "Name: 1405_i_at, dtype: float64"
      ]
     },
     "execution_count": 4,
     "metadata": {},
     "output_type": "execute_result"
    }
   ],
   "source": [
    "# description of some random feature (1405_i_at)\n",
    "df.T.iloc[:,8].describe()"
   ]
  },
  {
   "cell_type": "markdown",
   "id": "c61e2b0f-8987-46cb-a189-ede2c43183d2",
   "metadata": {},
   "source": [
    "# Answering the questions"
   ]
  },
  {
   "cell_type": "markdown",
   "id": "01667cfb-64c3-4bed-816e-61d0072a24af",
   "metadata": {},
   "source": [
    "## a. High level description of the data and some pre-processing\n",
    "1) How many genes profiled?\n",
    "2) How many samples (subjects/patients) in total?\n",
    "3) How many samples in each class?\n",
    "4) If there are missing values, then remove the entire row(gene) from the data matrix. How many rows left now?\n",
    "5) Pick 20 genes at random. Draw 20 pair boxplots in one figure comparing expression levels of each of these genes in the two classes M and H."
   ]
  },
  {
   "cell_type": "markdown",
   "id": "8d4b1f42-f6ca-4af9-aab6-67dc157fda60",
   "metadata": {},
   "source": [
    "1 - total of 54675 profiled genes\n",
    "\n",
    "2 - total of 99 samples\n",
    "\n",
    "3 - Healthy - 50, Myocardial infarction - 49\n",
    "\n",
    "4 - 54628 (47 genes with nan values)"
   ]
  },
  {
   "cell_type": "code",
   "execution_count": 5,
   "id": "fa84c5e4-9e97-44e6-a0a8-0ecaeff8ab23",
   "metadata": {},
   "outputs": [
    {
     "data": {
      "text/plain": [
       "H    50\n",
       "M    49\n",
       "dtype: int64"
      ]
     },
     "execution_count": 5,
     "metadata": {},
     "output_type": "execute_result"
    }
   ],
   "source": [
    "df.T.index.get_level_values(0).value_counts()"
   ]
  },
  {
   "cell_type": "code",
   "execution_count": 6,
   "id": "c8694938-95cc-45f9-bcd6-227a64956fa8",
   "metadata": {},
   "outputs": [
    {
     "data": {
      "text/plain": [
       "(54628, 99)"
      ]
     },
     "execution_count": 6,
     "metadata": {},
     "output_type": "execute_result"
    }
   ],
   "source": [
    "# removing rows with nans\n",
    "df = df.loc[~df.T.isna().any()]\n",
    "df.shape"
   ]
  },
  {
   "cell_type": "code",
   "execution_count": 7,
   "id": "9bd1bf7f-b88e-4783-b1a9-65d42aa2b781",
   "metadata": {},
   "outputs": [
    {
     "data": {
      "image/png": "[encoded data removed]",
      "text/plain": [
       "<Figure size 640x480 with 1 Axes>"
      ]
     },
     "metadata": {},
     "output_type": "display_data"
    }
   ],
   "source": [
    "df_20_random_pick = df.sample(20).T # picking 20 randomly\n",
    "df_20_random_pick = df_20_random_pick.stack().unstack(level=[0,2]) # seperating the classes\n",
    "df_20_random_pick = df_20_random_pick.reindex( # sorting by gene first\n",
    "    columns=sorted(df_20_random_pick,key=lambda x:x[1])\n",
    ")\n",
    "df_20_random_pick.plot(kind=\"box\",rot=90) # plotting the box plots in the same figure\n",
    "plt.title(\"box plot of 20 random genes\")\n",
    "plt.xlabel(\"gene name\")\n",
    "plt.ylabel(\"some kind of gene count\");"
   ]
  },
  {
   "cell_type": "markdown",
   "id": "f2f26ad1-7358-41e9-bc46-60b8563bbc32",
   "metadata": {},
   "source": [
    "## b. WRS for differential expression (DE)\n",
    "1) Consider some gene, g. Under the null model (which assumes that for g there is no M vs H DE), what is the expected sum of ranks of g’s expression levels measured for samples labeled M?\n",
    "2) Denote this sum of ranks by RS(g). What is the maximal value, c, that RS(g) can take?\n",
    "3) Under the null model, what is the probability of RS(g) = c? (Provide a formula for this and explain it)\n",
    "4) Under the null model, what is the probability of RS(g) = c-1? what is the probability of RS(g) = c-2? (Provide formulas and explain them)\n",
    "5) Draw a histogram of the values of RS(g) in the dataset. Here g ranges over all genes in the data (after the clean-up). Compute the IQR for this distribution and present it on the plot with the histogram."
   ]
  },
  {
   "cell_type": "markdown",
   "id": "5d46c62a-8b13-4eb3-a754-620e624b216e",
   "metadata": {},
   "source": [
    "### 1 \n",
    "if the M/H ranks are distributed randomly then we can assume the expectation will be approximately $\\mu_T=B(N+1)/2=49*51/2=1249.5$ \n",
    "### 2 \n",
    "c = nM*nH = 49*50 = 2450 (for the case where all the M samples have higher rank than all the H samples). A nother way to calculate is: maximum for sum of M ranks - nM(nM+1)/2 = (nH+1+nH+nM)nM/2 - nM(nM+1)/2 = nH*nM\n",
    "### 3 \n",
    "We have a single ranking where RS(g)=c out of (nM+nH over nM) equally possible rankings, leading to P(RS(g)=c)=1/(nM+nH over nM)=1/(99 over 49). Here \"(x over y)\" is the binomial coefficient. \n",
    "### 4 \n",
    "P(RS(g)=c-1) = 1/(99 over 49) = 0. Because we still have only one configuration of rankings resulting in this specific RS(g). P(RS(g)=c-2) = 2/(99 over 49). There are two ways to achieve the rights rankings - either by lowering the rank of the lowest M sample twice or rising the rank of the highest H sample twice. \n",
    "### 5\n"
   ]
  },
  {
   "cell_type": "code",
   "execution_count": 56,
   "id": "77d04867-215e-499d-a219-0e03d11a363e",
   "metadata": {
    "collapsed": true,
    "jupyter": {
     "outputs_hidden": true
    },
    "tags": []
   },
   "outputs": [
    {
     "name": "stderr",
     "output_type": "stream",
     "text": [
      "u test on all genes:   4%|▍         | 2263/54628 [00:01<00:35, 1478.39it/s]\n"
     ]
    },
    {
     "ename": "KeyboardInterrupt",
     "evalue": "",
     "output_type": "error",
     "traceback": [
      "\u001b[0;31m---------------------------------------------------------------------------\u001b[0m",
      "\u001b[0;31mKeyboardInterrupt\u001b[0m                         Traceback (most recent call last)",
      "Cell \u001b[0;32mIn[56], line 4\u001b[0m\n\u001b[1;32m      2\u001b[0m \u001b[38;5;28;01mfrom\u001b[39;00m \u001b[38;5;21;01mtqdm\u001b[39;00m \u001b[38;5;28;01mimport\u001b[39;00m tqdm \n\u001b[1;32m      3\u001b[0m tqdm\u001b[38;5;241m.\u001b[39mpandas(desc\u001b[38;5;241m=\u001b[39m\u001b[38;5;124m\"\u001b[39m\u001b[38;5;124mu test on all genes\u001b[39m\u001b[38;5;124m\"\u001b[39m)\n\u001b[0;32m----> 4\u001b[0m u_M_test \u001b[38;5;241m=\u001b[39m \u001b[43mdf\u001b[49m\u001b[38;5;241;43m.\u001b[39;49m\u001b[43mT\u001b[49m\u001b[38;5;241;43m.\u001b[39;49m\u001b[43mstack\u001b[49m\u001b[43m(\u001b[49m\u001b[43m)\u001b[49m\u001b[38;5;241;43m.\u001b[39;49m\u001b[43munstack\u001b[49m\u001b[43m(\u001b[49m\u001b[43mlevel\u001b[49m\u001b[38;5;241;43m=\u001b[39;49m\u001b[43m[\u001b[49m\u001b[38;5;241;43m0\u001b[39;49m\u001b[43m]\u001b[49m\u001b[43m)\u001b[49m\u001b[38;5;241;43m.\u001b[39;49m\u001b[43mgroupby\u001b[49m\u001b[43m(\u001b[49m\u001b[43mlevel\u001b[49m\u001b[38;5;241;43m=\u001b[39;49m\u001b[38;5;241;43m1\u001b[39;49m\u001b[43m)\u001b[49m\u001b[38;5;241;43m.\u001b[39;49m\u001b[43mprogress_apply\u001b[49m\u001b[43m(\u001b[49m\n\u001b[1;32m      5\u001b[0m \u001b[43m    \u001b[49m\u001b[38;5;28;43;01mlambda\u001b[39;49;00m\u001b[43m \u001b[49m\u001b[43mx\u001b[49m\u001b[43m:\u001b[49m\u001b[43mmannwhitneyu\u001b[49m\u001b[43m(\u001b[49m\u001b[43mx\u001b[49m\u001b[38;5;241;43m.\u001b[39;49m\u001b[43mM\u001b[49m\u001b[43m,\u001b[49m\u001b[43mx\u001b[49m\u001b[38;5;241;43m.\u001b[39;49m\u001b[43mH\u001b[49m\u001b[43m,\u001b[49m\u001b[43mnan_policy\u001b[49m\u001b[38;5;241;43m=\u001b[39;49m\u001b[38;5;124;43m\"\u001b[39;49m\u001b[38;5;124;43momit\u001b[39;49m\u001b[38;5;124;43m\"\u001b[39;49m\u001b[43m)\u001b[49m\u001b[43m[\u001b[49m\u001b[38;5;241;43m0\u001b[39;49m\u001b[43m]\u001b[49m\n\u001b[1;32m      6\u001b[0m \u001b[43m)\u001b[49m\n",
      "File \u001b[0;32m~/exercises/miniconda3/envs/aligner/lib/python3.10/site-packages/tqdm/std.py:814\u001b[0m, in \u001b[0;36mtqdm.pandas.<locals>.inner_generator.<locals>.inner\u001b[0;34m(df, func, *args, **kwargs)\u001b[0m\n\u001b[1;32m    811\u001b[0m \u001b[38;5;66;03m# Apply the provided function (in **kwargs)\u001b[39;00m\n\u001b[1;32m    812\u001b[0m \u001b[38;5;66;03m# on the df using our wrapper (which provides bar updating)\u001b[39;00m\n\u001b[1;32m    813\u001b[0m \u001b[38;5;28;01mtry\u001b[39;00m:\n\u001b[0;32m--> 814\u001b[0m     \u001b[38;5;28;01mreturn\u001b[39;00m \u001b[38;5;28;43mgetattr\u001b[39;49m\u001b[43m(\u001b[49m\u001b[43mdf\u001b[49m\u001b[43m,\u001b[49m\u001b[43m \u001b[49m\u001b[43mdf_function\u001b[49m\u001b[43m)\u001b[49m\u001b[43m(\u001b[49m\u001b[43mwrapper\u001b[49m\u001b[43m,\u001b[49m\u001b[43m \u001b[49m\u001b[38;5;241;43m*\u001b[39;49m\u001b[38;5;241;43m*\u001b[39;49m\u001b[43mkwargs\u001b[49m\u001b[43m)\u001b[49m\n\u001b[1;32m    815\u001b[0m \u001b[38;5;28;01mfinally\u001b[39;00m:\n\u001b[1;32m    816\u001b[0m     t\u001b[38;5;241m.\u001b[39mclose()\n",
      "File \u001b[0;32m~/exercises/miniconda3/envs/aligner/lib/python3.10/site-packages/pandas/core/groupby/groupby.py:1549\u001b[0m, in \u001b[0;36mGroupBy.apply\u001b[0;34m(self, func, *args, **kwargs)\u001b[0m\n\u001b[1;32m   1547\u001b[0m \u001b[38;5;28;01mwith\u001b[39;00m option_context(\u001b[38;5;124m\"\u001b[39m\u001b[38;5;124mmode.chained_assignment\u001b[39m\u001b[38;5;124m\"\u001b[39m, \u001b[38;5;28;01mNone\u001b[39;00m):\n\u001b[1;32m   1548\u001b[0m     \u001b[38;5;28;01mtry\u001b[39;00m:\n\u001b[0;32m-> 1549\u001b[0m         result \u001b[38;5;241m=\u001b[39m \u001b[38;5;28;43mself\u001b[39;49m\u001b[38;5;241;43m.\u001b[39;49m\u001b[43m_python_apply_general\u001b[49m\u001b[43m(\u001b[49m\u001b[43mf\u001b[49m\u001b[43m,\u001b[49m\u001b[43m \u001b[49m\u001b[38;5;28;43mself\u001b[39;49m\u001b[38;5;241;43m.\u001b[39;49m\u001b[43m_selected_obj\u001b[49m\u001b[43m)\u001b[49m\n\u001b[1;32m   1550\u001b[0m     \u001b[38;5;28;01mexcept\u001b[39;00m \u001b[38;5;167;01mTypeError\u001b[39;00m:\n\u001b[1;32m   1551\u001b[0m         \u001b[38;5;66;03m# gh-20949\u001b[39;00m\n\u001b[1;32m   1552\u001b[0m         \u001b[38;5;66;03m# try again, with .apply acting as a filtering\u001b[39;00m\n\u001b[0;32m   (...)\u001b[0m\n\u001b[1;32m   1556\u001b[0m         \u001b[38;5;66;03m# fails on *some* columns, e.g. a numeric operation\u001b[39;00m\n\u001b[1;32m   1557\u001b[0m         \u001b[38;5;66;03m# on a string grouper column\u001b[39;00m\n\u001b[1;32m   1559\u001b[0m         \u001b[38;5;28;01mwith\u001b[39;00m \u001b[38;5;28mself\u001b[39m\u001b[38;5;241m.\u001b[39m_group_selection_context():\n",
      "File \u001b[0;32m~/exercises/miniconda3/envs/aligner/lib/python3.10/site-packages/pandas/core/groupby/groupby.py:1601\u001b[0m, in \u001b[0;36mGroupBy._python_apply_general\u001b[0;34m(self, f, data, not_indexed_same, is_transform, is_agg)\u001b[0m\n\u001b[1;32m   1564\u001b[0m \u001b[38;5;129m@final\u001b[39m\n\u001b[1;32m   1565\u001b[0m \u001b[38;5;28;01mdef\u001b[39;00m \u001b[38;5;21m_python_apply_general\u001b[39m(\n\u001b[1;32m   1566\u001b[0m     \u001b[38;5;28mself\u001b[39m,\n\u001b[0;32m   (...)\u001b[0m\n\u001b[1;32m   1571\u001b[0m     is_agg: \u001b[38;5;28mbool\u001b[39m \u001b[38;5;241m=\u001b[39m \u001b[38;5;28;01mFalse\u001b[39;00m,\n\u001b[1;32m   1572\u001b[0m ) \u001b[38;5;241m-\u001b[39m\u001b[38;5;241m>\u001b[39m NDFrameT:\n\u001b[1;32m   1573\u001b[0m     \u001b[38;5;124;03m\"\"\"\u001b[39;00m\n\u001b[1;32m   1574\u001b[0m \u001b[38;5;124;03m    Apply function f in python space\u001b[39;00m\n\u001b[1;32m   1575\u001b[0m \n\u001b[0;32m   (...)\u001b[0m\n\u001b[1;32m   1599\u001b[0m \u001b[38;5;124;03m        data after applying f\u001b[39;00m\n\u001b[1;32m   1600\u001b[0m \u001b[38;5;124;03m    \"\"\"\u001b[39;00m\n\u001b[0;32m-> 1601\u001b[0m     values, mutated \u001b[38;5;241m=\u001b[39m \u001b[38;5;28;43mself\u001b[39;49m\u001b[38;5;241;43m.\u001b[39;49m\u001b[43mgrouper\u001b[49m\u001b[38;5;241;43m.\u001b[39;49m\u001b[43mapply\u001b[49m\u001b[43m(\u001b[49m\u001b[43mf\u001b[49m\u001b[43m,\u001b[49m\u001b[43m \u001b[49m\u001b[43mdata\u001b[49m\u001b[43m,\u001b[49m\u001b[43m \u001b[49m\u001b[38;5;28;43mself\u001b[39;49m\u001b[38;5;241;43m.\u001b[39;49m\u001b[43maxis\u001b[49m\u001b[43m)\u001b[49m\n\u001b[1;32m   1602\u001b[0m     \u001b[38;5;28;01mif\u001b[39;00m not_indexed_same \u001b[38;5;129;01mis\u001b[39;00m \u001b[38;5;28;01mNone\u001b[39;00m:\n\u001b[1;32m   1603\u001b[0m         not_indexed_same \u001b[38;5;241m=\u001b[39m mutated \u001b[38;5;129;01mor\u001b[39;00m \u001b[38;5;28mself\u001b[39m\u001b[38;5;241m.\u001b[39mmutated\n",
      "File \u001b[0;32m~/exercises/miniconda3/envs/aligner/lib/python3.10/site-packages/pandas/core/groupby/ops.py:839\u001b[0m, in \u001b[0;36mBaseGrouper.apply\u001b[0;34m(self, f, data, axis)\u001b[0m\n\u001b[1;32m    837\u001b[0m \u001b[38;5;66;03m# group might be modified\u001b[39;00m\n\u001b[1;32m    838\u001b[0m group_axes \u001b[38;5;241m=\u001b[39m group\u001b[38;5;241m.\u001b[39maxes\n\u001b[0;32m--> 839\u001b[0m res \u001b[38;5;241m=\u001b[39m \u001b[43mf\u001b[49m\u001b[43m(\u001b[49m\u001b[43mgroup\u001b[49m\u001b[43m)\u001b[49m\n\u001b[1;32m    840\u001b[0m \u001b[38;5;28;01mif\u001b[39;00m \u001b[38;5;129;01mnot\u001b[39;00m mutated \u001b[38;5;129;01mand\u001b[39;00m \u001b[38;5;129;01mnot\u001b[39;00m _is_indexed_like(res, group_axes, axis):\n\u001b[1;32m    841\u001b[0m     mutated \u001b[38;5;241m=\u001b[39m \u001b[38;5;28;01mTrue\u001b[39;00m\n",
      "File \u001b[0;32m~/exercises/miniconda3/envs/aligner/lib/python3.10/site-packages/tqdm/std.py:809\u001b[0m, in \u001b[0;36mtqdm.pandas.<locals>.inner_generator.<locals>.inner.<locals>.wrapper\u001b[0;34m(*args, **kwargs)\u001b[0m\n\u001b[1;32m    803\u001b[0m \u001b[38;5;28;01mdef\u001b[39;00m \u001b[38;5;21mwrapper\u001b[39m(\u001b[38;5;241m*\u001b[39margs, \u001b[38;5;241m*\u001b[39m\u001b[38;5;241m*\u001b[39mkwargs):\n\u001b[1;32m    804\u001b[0m     \u001b[38;5;66;03m# update tbar correctly\u001b[39;00m\n\u001b[1;32m    805\u001b[0m     \u001b[38;5;66;03m# it seems `pandas apply` calls `func` twice\u001b[39;00m\n\u001b[1;32m    806\u001b[0m     \u001b[38;5;66;03m# on the first column/row to decide whether it can\u001b[39;00m\n\u001b[1;32m    807\u001b[0m     \u001b[38;5;66;03m# take a fast or slow code path; so stop when t.total==t.n\u001b[39;00m\n\u001b[1;32m    808\u001b[0m     t\u001b[38;5;241m.\u001b[39mupdate(n\u001b[38;5;241m=\u001b[39m\u001b[38;5;241m1\u001b[39m \u001b[38;5;28;01mif\u001b[39;00m \u001b[38;5;129;01mnot\u001b[39;00m t\u001b[38;5;241m.\u001b[39mtotal \u001b[38;5;129;01mor\u001b[39;00m t\u001b[38;5;241m.\u001b[39mn \u001b[38;5;241m<\u001b[39m t\u001b[38;5;241m.\u001b[39mtotal \u001b[38;5;28;01melse\u001b[39;00m \u001b[38;5;241m0\u001b[39m)\n\u001b[0;32m--> 809\u001b[0m     \u001b[38;5;28;01mreturn\u001b[39;00m \u001b[43mfunc\u001b[49m\u001b[43m(\u001b[49m\u001b[38;5;241;43m*\u001b[39;49m\u001b[43margs\u001b[49m\u001b[43m,\u001b[49m\u001b[43m \u001b[49m\u001b[38;5;241;43m*\u001b[39;49m\u001b[38;5;241;43m*\u001b[39;49m\u001b[43mkwargs\u001b[49m\u001b[43m)\u001b[49m\n",
      "Cell \u001b[0;32mIn[56], line 5\u001b[0m, in \u001b[0;36m<lambda>\u001b[0;34m(x)\u001b[0m\n\u001b[1;32m      2\u001b[0m \u001b[38;5;28;01mfrom\u001b[39;00m \u001b[38;5;21;01mtqdm\u001b[39;00m \u001b[38;5;28;01mimport\u001b[39;00m tqdm \n\u001b[1;32m      3\u001b[0m tqdm\u001b[38;5;241m.\u001b[39mpandas(desc\u001b[38;5;241m=\u001b[39m\u001b[38;5;124m\"\u001b[39m\u001b[38;5;124mu test on all genes\u001b[39m\u001b[38;5;124m\"\u001b[39m)\n\u001b[1;32m      4\u001b[0m u_M_test \u001b[38;5;241m=\u001b[39m df\u001b[38;5;241m.\u001b[39mT\u001b[38;5;241m.\u001b[39mstack()\u001b[38;5;241m.\u001b[39munstack(level\u001b[38;5;241m=\u001b[39m[\u001b[38;5;241m0\u001b[39m])\u001b[38;5;241m.\u001b[39mgroupby(level\u001b[38;5;241m=\u001b[39m\u001b[38;5;241m1\u001b[39m)\u001b[38;5;241m.\u001b[39mprogress_apply(\n\u001b[0;32m----> 5\u001b[0m     \u001b[38;5;28;01mlambda\u001b[39;00m x:\u001b[43mmannwhitneyu\u001b[49m\u001b[43m(\u001b[49m\u001b[43mx\u001b[49m\u001b[38;5;241;43m.\u001b[39;49m\u001b[43mM\u001b[49m\u001b[43m,\u001b[49m\u001b[43mx\u001b[49m\u001b[38;5;241;43m.\u001b[39;49m\u001b[43mH\u001b[49m\u001b[43m,\u001b[49m\u001b[43mnan_policy\u001b[49m\u001b[38;5;241;43m=\u001b[39;49m\u001b[38;5;124;43m\"\u001b[39;49m\u001b[38;5;124;43momit\u001b[39;49m\u001b[38;5;124;43m\"\u001b[39;49m\u001b[43m)\u001b[49m[\u001b[38;5;241m0\u001b[39m]\n\u001b[1;32m      6\u001b[0m )\n",
      "File \u001b[0;32m~/exercises/miniconda3/envs/aligner/lib/python3.10/site-packages/scipy/stats/_axis_nan_policy.py:503\u001b[0m, in \u001b[0;36m_axis_nan_policy_factory.<locals>.axis_nan_policy_decorator.<locals>.axis_nan_policy_wrapper\u001b[0;34m(***failed resolving arguments***)\u001b[0m\n\u001b[1;32m    501\u001b[0m \u001b[38;5;28;01mif\u001b[39;00m sentinel:\n\u001b[1;32m    502\u001b[0m     samples \u001b[38;5;241m=\u001b[39m _remove_sentinel(samples, paired, sentinel)\n\u001b[0;32m--> 503\u001b[0m res \u001b[38;5;241m=\u001b[39m \u001b[43mhypotest_fun_out\u001b[49m\u001b[43m(\u001b[49m\u001b[38;5;241;43m*\u001b[39;49m\u001b[43msamples\u001b[49m\u001b[43m,\u001b[49m\u001b[43m \u001b[49m\u001b[38;5;241;43m*\u001b[39;49m\u001b[38;5;241;43m*\u001b[39;49m\u001b[43mkwds\u001b[49m\u001b[43m)\u001b[49m\n\u001b[1;32m    504\u001b[0m res \u001b[38;5;241m=\u001b[39m result_to_tuple(res)\n\u001b[1;32m    505\u001b[0m res \u001b[38;5;241m=\u001b[39m _add_reduced_axes(res, reduced_axes, keepdims)\n",
      "File \u001b[0;32m~/exercises/miniconda3/envs/aligner/lib/python3.10/site-packages/scipy/stats/_mannwhitneyu.py:491\u001b[0m, in \u001b[0;36mmannwhitneyu\u001b[0;34m(x, y, use_continuity, alternative, axis, method)\u001b[0m\n\u001b[1;32m    487\u001b[0m p \u001b[38;5;241m*\u001b[39m\u001b[38;5;241m=\u001b[39m f\n\u001b[1;32m    489\u001b[0m \u001b[38;5;66;03m# Ensure that test statistic is not greater than 1\u001b[39;00m\n\u001b[1;32m    490\u001b[0m \u001b[38;5;66;03m# This could happen for exact test when U = m*n/2\u001b[39;00m\n\u001b[0;32m--> 491\u001b[0m p \u001b[38;5;241m=\u001b[39m \u001b[43mnp\u001b[49m\u001b[38;5;241;43m.\u001b[39;49m\u001b[43mclip\u001b[49m\u001b[43m(\u001b[49m\u001b[43mp\u001b[49m\u001b[43m,\u001b[49m\u001b[43m \u001b[49m\u001b[38;5;241;43m0\u001b[39;49m\u001b[43m,\u001b[49m\u001b[43m \u001b[49m\u001b[38;5;241;43m1\u001b[39;49m\u001b[43m)\u001b[49m\n\u001b[1;32m    493\u001b[0m \u001b[38;5;28;01mreturn\u001b[39;00m MannwhitneyuResult(U1, p)\n",
      "File \u001b[0;32m<__array_function__ internals>:180\u001b[0m, in \u001b[0;36mclip\u001b[0;34m(*args, **kwargs)\u001b[0m\n",
      "File \u001b[0;32m~/exercises/miniconda3/envs/aligner/lib/python3.10/site-packages/numpy/core/fromnumeric.py:2154\u001b[0m, in \u001b[0;36mclip\u001b[0;34m(a, a_min, a_max, out, **kwargs)\u001b[0m\n\u001b[1;32m   2085\u001b[0m \u001b[38;5;129m@array_function_dispatch\u001b[39m(_clip_dispatcher)\n\u001b[1;32m   2086\u001b[0m \u001b[38;5;28;01mdef\u001b[39;00m \u001b[38;5;21mclip\u001b[39m(a, a_min, a_max, out\u001b[38;5;241m=\u001b[39m\u001b[38;5;28;01mNone\u001b[39;00m, \u001b[38;5;241m*\u001b[39m\u001b[38;5;241m*\u001b[39mkwargs):\n\u001b[1;32m   2087\u001b[0m     \u001b[38;5;124;03m\"\"\"\u001b[39;00m\n\u001b[1;32m   2088\u001b[0m \u001b[38;5;124;03m    Clip (limit) the values in an array.\u001b[39;00m\n\u001b[1;32m   2089\u001b[0m \n\u001b[0;32m   (...)\u001b[0m\n\u001b[1;32m   2152\u001b[0m \n\u001b[1;32m   2153\u001b[0m \u001b[38;5;124;03m    \"\"\"\u001b[39;00m\n\u001b[0;32m-> 2154\u001b[0m     \u001b[38;5;28;01mreturn\u001b[39;00m \u001b[43m_wrapfunc\u001b[49m\u001b[43m(\u001b[49m\u001b[43ma\u001b[49m\u001b[43m,\u001b[49m\u001b[43m \u001b[49m\u001b[38;5;124;43m'\u001b[39;49m\u001b[38;5;124;43mclip\u001b[39;49m\u001b[38;5;124;43m'\u001b[39;49m\u001b[43m,\u001b[49m\u001b[43m \u001b[49m\u001b[43ma_min\u001b[49m\u001b[43m,\u001b[49m\u001b[43m \u001b[49m\u001b[43ma_max\u001b[49m\u001b[43m,\u001b[49m\u001b[43m \u001b[49m\u001b[43mout\u001b[49m\u001b[38;5;241;43m=\u001b[39;49m\u001b[43mout\u001b[49m\u001b[43m,\u001b[49m\u001b[43m \u001b[49m\u001b[38;5;241;43m*\u001b[39;49m\u001b[38;5;241;43m*\u001b[39;49m\u001b[43mkwargs\u001b[49m\u001b[43m)\u001b[49m\n",
      "File \u001b[0;32m~/exercises/miniconda3/envs/aligner/lib/python3.10/site-packages/numpy/core/fromnumeric.py:57\u001b[0m, in \u001b[0;36m_wrapfunc\u001b[0;34m(obj, method, *args, **kwds)\u001b[0m\n\u001b[1;32m     54\u001b[0m     \u001b[38;5;28;01mreturn\u001b[39;00m _wrapit(obj, method, \u001b[38;5;241m*\u001b[39margs, \u001b[38;5;241m*\u001b[39m\u001b[38;5;241m*\u001b[39mkwds)\n\u001b[1;32m     56\u001b[0m \u001b[38;5;28;01mtry\u001b[39;00m:\n\u001b[0;32m---> 57\u001b[0m     \u001b[38;5;28;01mreturn\u001b[39;00m \u001b[43mbound\u001b[49m\u001b[43m(\u001b[49m\u001b[38;5;241;43m*\u001b[39;49m\u001b[43margs\u001b[49m\u001b[43m,\u001b[49m\u001b[43m \u001b[49m\u001b[38;5;241;43m*\u001b[39;49m\u001b[38;5;241;43m*\u001b[39;49m\u001b[43mkwds\u001b[49m\u001b[43m)\u001b[49m\n\u001b[1;32m     58\u001b[0m \u001b[38;5;28;01mexcept\u001b[39;00m \u001b[38;5;167;01mTypeError\u001b[39;00m:\n\u001b[1;32m     59\u001b[0m     \u001b[38;5;66;03m# A TypeError occurs if the object does have such a method in its\u001b[39;00m\n\u001b[1;32m     60\u001b[0m     \u001b[38;5;66;03m# class, but its signature is not identical to that of NumPy's. This\u001b[39;00m\n\u001b[0;32m   (...)\u001b[0m\n\u001b[1;32m     64\u001b[0m     \u001b[38;5;66;03m# Call _wrapit from within the except clause to ensure a potential\u001b[39;00m\n\u001b[1;32m     65\u001b[0m     \u001b[38;5;66;03m# exception has a traceback chain.\u001b[39;00m\n\u001b[1;32m     66\u001b[0m     \u001b[38;5;28;01mreturn\u001b[39;00m _wrapit(obj, method, \u001b[38;5;241m*\u001b[39margs, \u001b[38;5;241m*\u001b[39m\u001b[38;5;241m*\u001b[39mkwds)\n",
      "File \u001b[0;32m~/exercises/miniconda3/envs/aligner/lib/python3.10/site-packages/numpy/core/_methods.py:135\u001b[0m, in \u001b[0;36m_clip\u001b[0;34m(a, min, max, out, casting, **kwargs)\u001b[0m\n\u001b[1;32m    133\u001b[0m \u001b[38;5;28;01mif\u001b[39;00m \u001b[38;5;129;01mnot\u001b[39;00m _clip_dep_is_byte_swapped(a) \u001b[38;5;129;01mand\u001b[39;00m \u001b[38;5;129;01mnot\u001b[39;00m _clip_dep_is_byte_swapped(out):\n\u001b[1;32m    134\u001b[0m     using_deprecated_nan \u001b[38;5;241m=\u001b[39m \u001b[38;5;28;01mFalse\u001b[39;00m\n\u001b[0;32m--> 135\u001b[0m     \u001b[38;5;28;01mif\u001b[39;00m \u001b[43m_clip_dep_is_scalar_nan\u001b[49m\u001b[43m(\u001b[49m\u001b[38;5;28;43mmin\u001b[39;49m\u001b[43m)\u001b[49m:\n\u001b[1;32m    136\u001b[0m         \u001b[38;5;28mmin\u001b[39m \u001b[38;5;241m=\u001b[39m \u001b[38;5;241m-\u001b[39m\u001b[38;5;28mfloat\u001b[39m(\u001b[38;5;124m'\u001b[39m\u001b[38;5;124minf\u001b[39m\u001b[38;5;124m'\u001b[39m)\n\u001b[1;32m    137\u001b[0m         using_deprecated_nan \u001b[38;5;241m=\u001b[39m \u001b[38;5;28;01mTrue\u001b[39;00m\n",
      "File \u001b[0;32m~/exercises/miniconda3/envs/aligner/lib/python3.10/site-packages/numpy/core/_methods.py:95\u001b[0m, in \u001b[0;36m_clip_dep_is_scalar_nan\u001b[0;34m(a)\u001b[0m\n\u001b[1;32m     92\u001b[0m \u001b[38;5;28;01mdef\u001b[39;00m \u001b[38;5;21m_clip_dep_is_scalar_nan\u001b[39m(a):\n\u001b[1;32m     93\u001b[0m     \u001b[38;5;66;03m# guarded to protect circular imports\u001b[39;00m\n\u001b[1;32m     94\u001b[0m     \u001b[38;5;28;01mfrom\u001b[39;00m \u001b[38;5;21;01mnumpy\u001b[39;00m\u001b[38;5;21;01m.\u001b[39;00m\u001b[38;5;21;01mcore\u001b[39;00m\u001b[38;5;21;01m.\u001b[39;00m\u001b[38;5;21;01mfromnumeric\u001b[39;00m \u001b[38;5;28;01mimport\u001b[39;00m ndim\n\u001b[0;32m---> 95\u001b[0m     \u001b[38;5;28;01mif\u001b[39;00m \u001b[43mndim\u001b[49m\u001b[43m(\u001b[49m\u001b[43ma\u001b[49m\u001b[43m)\u001b[49m \u001b[38;5;241m!=\u001b[39m \u001b[38;5;241m0\u001b[39m:\n\u001b[1;32m     96\u001b[0m         \u001b[38;5;28;01mreturn\u001b[39;00m \u001b[38;5;28;01mFalse\u001b[39;00m\n\u001b[1;32m     97\u001b[0m     \u001b[38;5;28;01mtry\u001b[39;00m:\n",
      "File \u001b[0;32m<__array_function__ internals>:177\u001b[0m, in \u001b[0;36mndim\u001b[0;34m(*args, **kwargs)\u001b[0m\n",
      "\u001b[0;31mKeyboardInterrupt\u001b[0m: "
     ]
    }
   ],
   "source": [
    "from scipy.stats import mannwhitneyu\n",
    "from tqdm import tqdm \n",
    "tqdm.pandas(desc=\"u test on all genes\")\n",
    "u_M_test = df.T.stack().unstack(level=[0]).groupby(level=1).progress_apply(\n",
    "    lambda x:mannwhitneyu(x.M,x.H,nan_policy=\"omit\")[0]\n",
    ")"
   ]
  },
  {
   "cell_type": "code",
   "execution_count": 57,
   "id": "5140a430-4698-4dac-ab21-839b73fd1984",
   "metadata": {},
   "outputs": [
    {
     "data": {
      "text/plain": [
       "<matplotlib.legend.Legend at 0x7fdd59152fe0>"
      ]
     },
     "execution_count": 57,
     "metadata": {},
     "output_type": "execute_result"
    },
    {
     "data": {
      "image/png": "[encoded data removed]",
      "text/plain": [
       "<Figure size 640x480 with 1 Axes>"
      ]
     },
     "metadata": {},
     "output_type": "display_data"
    }
   ],
   "source": [
    "# computing IQR\n",
    "u_M_q25 =  u_M_test.quantile(0.25)\n",
    "u_M_q75 =  u_M_test.quantile(0.75)\n",
    "u_M_IQR = u_M_q75 - u_M_q25\n",
    "\n",
    "# plotting\n",
    "u_M_test.hist(bins=range(0,2500,100),label=\"the hist\")\n",
    "plt.plot([u_M_q25]*2,[0,10000],'r-',label=\"quantile 0.25\")\n",
    "plt.plot([u_M_q75]*2,[0,10000],'g-',label=\"quantile 0.75\")\n",
    "plt.title(f\"U-test gene distribution on the M samples with IQR={u_M_IQR}\")\n",
    "plt.legend()"
   ]
  },
  {
   "cell_type": "markdown",
   "id": "3dbe02a4-9459-4658-87b5-5e7f9d86be3d",
   "metadata": {
    "tags": []
   },
   "source": [
    "## c. Differential Expression\n",
    "\n",
    "The purpose is to determine the statistical significance of\n",
    "differential expression (DE) observed for each gene in H vs M.\n",
    "Evaluate the DE in both one-sided directions for every gene,\n",
    "using both Student t-test and WRS test.\n",
    "Report the number of genes overexpressed in M vs H (M > H) at\n",
    "a p-value better (≤) than 0.07 and separately genes\n",
    "underexpressed in M vs H (M < H) at a p-value better than 0.07.\n",
    "For both directions use both a Student t-test and a WRS test."
   ]
  },
  {
   "cell_type": "code",
   "execution_count": 60,
   "id": "e7a91958-e633-4b2c-b8da-aa529b87e7cb",
   "metadata": {},
   "outputs": [],
   "source": [
    "from scipy.stats import mannwhitneyu, ttest_ind\n",
    "from tqdm import tqdm \n"
   ]
  },
  {
   "cell_type": "code",
   "execution_count": 61,
   "id": "e8644afd-0ba9-4782-92c6-04402c2530fa",
   "metadata": {},
   "outputs": [],
   "source": [
    "df_for_tests = df.T.stack().unstack(level=[0])"
   ]
  },
  {
   "cell_type": "code",
   "execution_count": 66,
   "id": "dda13db6-eb8b-421e-8d90-16577244bdd4",
   "metadata": {},
   "outputs": [
    {
     "data": {
      "text/html": [
       "<div>\n",
       "<style scoped>\n",
       "    .dataframe tbody tr th:only-of-type {\n",
       "        vertical-align: middle;\n",
       "    }\n",
       "\n",
       "    .dataframe tbody tr th {\n",
       "        vertical-align: top;\n",
       "    }\n",
       "\n",
       "    .dataframe thead th {\n",
       "        text-align: right;\n",
       "    }\n",
       "</style>\n",
       "<table border=\"1\" class=\"dataframe\">\n",
       "  <thead>\n",
       "    <tr style=\"text-align: right;\">\n",
       "      <th></th>\n",
       "      <th></th>\n",
       "      <th>H</th>\n",
       "      <th>M</th>\n",
       "    </tr>\n",
       "    <tr>\n",
       "      <th></th>\n",
       "      <th>(Class, ID_REF)</th>\n",
       "      <th></th>\n",
       "      <th></th>\n",
       "    </tr>\n",
       "  </thead>\n",
       "  <tbody>\n",
       "    <tr>\n",
       "      <th rowspan=\"5\" valign=\"top\">GSM1620819</th>\n",
       "      <th>1007_s_at</th>\n",
       "      <td>5.866378</td>\n",
       "      <td>NaN</td>\n",
       "    </tr>\n",
       "    <tr>\n",
       "      <th>1053_at</th>\n",
       "      <td>8.225790</td>\n",
       "      <td>NaN</td>\n",
       "    </tr>\n",
       "    <tr>\n",
       "      <th>117_at</th>\n",
       "      <td>6.179732</td>\n",
       "      <td>NaN</td>\n",
       "    </tr>\n",
       "    <tr>\n",
       "      <th>121_at</th>\n",
       "      <td>6.179478</td>\n",
       "      <td>NaN</td>\n",
       "    </tr>\n",
       "    <tr>\n",
       "      <th>1255_g_at</th>\n",
       "      <td>2.792048</td>\n",
       "      <td>NaN</td>\n",
       "    </tr>\n",
       "  </tbody>\n",
       "</table>\n",
       "</div>"
      ],
      "text/plain": [
       "                                   H   M\n",
       "           (Class, ID_REF)              \n",
       "GSM1620819 1007_s_at        5.866378 NaN\n",
       "           1053_at          8.225790 NaN\n",
       "           117_at           6.179732 NaN\n",
       "           121_at           6.179478 NaN\n",
       "           1255_g_at        2.792048 NaN"
      ]
     },
     "execution_count": 66,
     "metadata": {},
     "output_type": "execute_result"
    }
   ],
   "source": [
    "df_for_tests.head() \n",
    "# here first index is patient, second index is gene, one of the H and M columns is always nan"
   ]
  },
  {
   "cell_type": "code",
   "execution_count": 65,
   "id": "2404a651-fa38-4d16-8054-a40017a7b910",
   "metadata": {},
   "outputs": [
    {
     "data": {
      "text/plain": [
       "(5408172, 2)"
      ]
     },
     "execution_count": 65,
     "metadata": {},
     "output_type": "execute_result"
    }
   ],
   "source": [
    "df_for_tests.shape"
   ]
  },
  {
   "cell_type": "code",
   "execution_count": 67,
   "id": "e5f9b5a6-25ff-43ff-be81-009448e8b501",
   "metadata": {},
   "outputs": [
    {
     "name": "stderr",
     "output_type": "stream",
     "text": [
      "statistical significance on all genes on both sides both t-test and WRS-test: 100%|██████████| 54628/54628 [00:35<00:00, 1536.52it/s]\n",
      "statistical significance on all genes on both sides both t-test and WRS-test: 100%|██████████| 54628/54628 [00:35<00:00, 1536.89it/s]\n",
      "statistical significance on all genes on both sides both t-test and WRS-test: 100%|██████████| 54628/54628 [00:32<00:00, 1663.10it/s]\n",
      "statistical significance on all genes on both sides both t-test and WRS-test: 100%|██████████| 54628/54628 [00:32<00:00, 1674.97it/s]\n"
     ]
    }
   ],
   "source": [
    "test_kwargs = dict(nan_policy='omit',alternative='greater')\n",
    "tqdm.pandas(desc=\"statistical significance on all genes on both sides both t-test and WRS-test\")\n",
    "U_M_greater_test = df_for_tests.groupby(level=1).progress_apply(\n",
    "    lambda x:mannwhitneyu(x.M,x.H,**test_kwargs)[1]\n",
    ")\n",
    "U_H_greater_test = df_for_tests.groupby(level=1).progress_apply(\n",
    "    lambda x:mannwhitneyu(x.H,x.M,**test_kwargs)[1]\n",
    ")\n",
    "T_M_greater_test = df_for_tests.groupby(level=1).progress_apply(\n",
    "    lambda x:ttest_ind(x.M,x.H,**test_kwargs)[1]\n",
    ")\n",
    "T_H_greater_test = df_for_tests.groupby(level=1).progress_apply(\n",
    "    lambda x:ttest_ind(x.H,x.M,**test_kwargs)[1]\n",
    ")"
   ]
  },
  {
   "cell_type": "code",
   "execution_count": 78,
   "id": "5b05be86-b1bc-4b3b-89b4-e6e2399f2ecb",
   "metadata": {
    "tags": []
   },
   "outputs": [
    {
     "data": {
      "text/plain": [
       "Index(['117_at', '1320_at', '1552271_at', '1552276_a_at', '1552279_a_at',\n",
       "       '1552288_at', '1552289_a_at', '1552293_at', '1552329_at', '1552335_at',\n",
       "       ...\n",
       "       'AFFX-M27830_M_at', 'AFFX-PheX-3_at', 'AFFX-ThrX-3_at',\n",
       "       'AFFX-ThrX-5_at', 'AFFX-ThrX-M_at', 'AFFX-TrpnX-3_at',\n",
       "       'AFFX-TrpnX-M_at', 'AFFX-r2-Bs-phe-3_at', 'AFFX-r2-Bs-phe-5_at',\n",
       "       'AFFX-r2-Bs-thr-5_s_at'],\n",
       "      dtype='object', name=('Class', 'ID_REF'), length=10721)"
      ]
     },
     "execution_count": 78,
     "metadata": {},
     "output_type": "execute_result"
    }
   ],
   "source": [
    "# utest overexpressed in M\n",
    "U_M_greater_test[U_M_greater_test <= 0.07].index"
   ]
  },
  {
   "cell_type": "code",
   "execution_count": 79,
   "id": "36a35625-3d99-4a97-ac7c-2d2d315f01c7",
   "metadata": {},
   "outputs": [
    {
     "data": {
      "text/plain": [
       "Index(['117_at', '1320_at', '1552276_a_at', '1552289_a_at', '1552293_at',\n",
       "       '1552329_at', '1552335_at', '1552337_s_at', '1552349_a_at',\n",
       "       '1552355_s_at',\n",
       "       ...\n",
       "       '89948_at', '90265_at', '91682_at', '91684_g_at', 'AFFX-LysX-3_at',\n",
       "       'AFFX-M27830_5_at', 'AFFX-M27830_M_at', 'AFFX-PheX-3_at',\n",
       "       'AFFX-ThrX-3_at', 'AFFX-r2-Bs-phe-3_at'],\n",
       "      dtype='object', name=('Class', 'ID_REF'), length=8517)"
      ]
     },
     "execution_count": 79,
     "metadata": {},
     "output_type": "execute_result"
    }
   ],
   "source": [
    "# ttest overexpressed in M\n",
    "T_M_greater_test[T_M_greater_test <= 0.07].index"
   ]
  },
  {
   "cell_type": "code",
   "execution_count": 80,
   "id": "7281d046-506f-4cc1-a976-f8072078e9a1",
   "metadata": {
    "tags": []
   },
   "outputs": [
    {
     "data": {
      "text/plain": [
       "Index(['1294_at', '1316_at', '1405_i_at', '1431_at', '1552277_a_at',\n",
       "       '1552280_at', '1552283_s_at', '1552286_at', '1552299_at', '1552302_at',\n",
       "       ...\n",
       "       '64432_at', '64883_at', '65438_at', '65472_at', '65585_at', '78383_at',\n",
       "       '81811_at', '91617_at', 'AFFX-HUMISGF3A/M97935_3_at',\n",
       "       'AFFX-HUMISGF3A/M97935_MB_at'],\n",
       "      dtype='object', name=('Class', 'ID_REF'), length=10618)"
      ]
     },
     "execution_count": 80,
     "metadata": {},
     "output_type": "execute_result"
    }
   ],
   "source": [
    "# utest overexpressed in H\n",
    "U_H_greater_test[U_H_greater_test <= 0.07].index"
   ]
  },
  {
   "cell_type": "code",
   "execution_count": 81,
   "id": "1cf99cf6-4d0d-42bc-bbb2-46b73310db29",
   "metadata": {},
   "outputs": [
    {
     "data": {
      "text/plain": [
       "Index(['1316_at', '1405_i_at', '1431_at', '1552277_a_at', '1552280_at',\n",
       "       '1552283_s_at', '1552286_at', '1552299_at', '1552310_at',\n",
       "       '1552312_a_at',\n",
       "       ...\n",
       "       '64064_at', '64408_s_at', '64418_at', '64883_at', '65438_at',\n",
       "       '65472_at', '65585_at', '81811_at', '91617_at',\n",
       "       'AFFX-HUMISGF3A/M97935_3_at'],\n",
       "      dtype='object', name=('Class', 'ID_REF'), length=8639)"
      ]
     },
     "execution_count": 81,
     "metadata": {},
     "output_type": "execute_result"
    }
   ],
   "source": [
    "# ttest overexpressed in H\n",
    "T_H_greater_test[T_H_greater_test <= 0.07].index"
   ]
  },
  {
   "cell_type": "markdown",
   "id": "46432204-3b2d-4cad-8c22-919a444b3726",
   "metadata": {
    "tags": []
   },
   "source": [
    "## d. Correlations\n",
    "Select the 80 most significant genes from each one of the one-\n",
    "sided WRS DE lists you computed in 3c. Generate a set of 160\n",
    "genes, D, which is the union of the above two sets.\n",
    "1) Compute Kendall 𝜏 correlations in all pairs within D (160 choose 2 numbers). Represent the correlation matrix as a 160x160 heatmap.\n",
    "2) Under a NULL model that assumes that genes are pairwise independent, what is the expected value for 𝜏?\n",
    "3) Now compute the Kendall 𝜏 correlations in all 80 choose 2 pairs from the overexpressed genes in D. Present your results on a histogram. What is the average value you observed? Compare it to the value in the above section. Explain.\n",
    "4) What can you report about co-expression of genes in D (co-expression is inferred from the correlation of the expression levels of genes, across a set of samples)?\n",
    "5) What can you say about how many co-expressed pairs we would observe (in the entire dataset) at FDR=0.05? Explain your answer.\n",
    "6) What would have been advantages and disadvantages of computing co-expression for all genes in the study rather than only for genes in D? IDC 3/3"
   ]
  },
  {
   "cell_type": "markdown",
   "id": "e6cd3e3e-563c-4e3b-bd8e-fc801308b97e",
   "metadata": {},
   "source": [
    "## e. Plots and Conclusions of the DE and correlation analysis\n",
    "1) Construct the DE overabundance plots (blue and green lines as shown in class) for M vs H overexpression (higher expression levels in M) using WRS and t-test using the results you had computed in Section 3c. State, for each comparison, the number of genes, k, at which we observe with an FDR threshold of:\n",
    "a) 𝜏 = 0.05\n",
    "b) 𝜏 = 0.01\n",
    "c) 𝜏 = 0.005\n",
    "If these events are not observed at any k>0, then make that\n",
    "statement.\n",
    "2) For any given gene, g, consider the following set of p-values: 𝑝(𝜆) 𝑖𝑠 𝑎 𝑊𝑅𝑆 𝑝 − 𝑣𝑎𝑙𝑢𝑒 𝑆(𝑔) = {𝑝(𝜆)| 𝑓𝑜𝑟 𝑜𝑣𝑒𝑟𝑒𝑥𝑝𝑟𝑒𝑠𝑠𝑖𝑜𝑛 𝑖𝑛 𝑀 } 𝑎𝑓𝑡𝑒𝑟 𝑠𝑤𝑎𝑝𝑝𝑖𝑛𝑔 𝑜𝑛𝑒 𝑙𝑎𝑏𝑒𝑙 (In the above definition 𝜆 represents a label swap – there are 99 such swaps). Let 𝑝𝑈 (𝑔) = max 𝑆(𝑔) 𝜆 In words: 𝑝𝑈 (𝑔) represents the maximum p-value that could have been obtained for g, assuming a single labeling error.\n",
    "a) For all genes, compute 𝑝𝑈 (𝑔).\n",
    "b) Run the FDR procedure with 𝜏 = 0.05 using 𝑝𝑈 (𝑔)\n",
    "(instead of the original p-values as computed in\n",
    "section 3e1a above). How many genes can you report\n",
    "now?\n",
    "c) What is the intersection of the genes you can report\n",
    "above with the results of 3e1a. Explain.\n",
    "Comment: The process you ran in this section yields a set\n",
    "of genes called Robust Differentially Expressed Genes\n",
    "(RDEG).\n",
    "IDC\n",
    "4/33) Select any 3 differentially expressed genes, from D (which\n",
    "was defined in 3d), and produce a graphical representation of\n",
    "their expression patterns that demonstrates the observed DE.\n",
    "4) Heatmap\n",
    "Draw a heatmap representation of the expression values of\n",
    "the genes in D (from 3d), across the entire cohort (all\n",
    "samples). Order the genes and the samples to produce the\n",
    "maximal visual effect."
   ]
  },
  {
   "cell_type": "code",
   "execution_count": null,
   "id": "32c1134e-ca7e-438e-bf7b-5959064ae67f",
   "metadata": {},
   "outputs": [],
   "source": []
  }
 ],
 "metadata": {
  "kernelspec": {
   "display_name": "Python 3 (ipykernel)",
   "language": "python",
   "name": "python3"
  },
  "language_info": {
   "codemirror_mode": {
    "name": "ipython",
    "version": 3
   },
   "file_extension": ".py",
   "mimetype": "text/x-python",
   "name": "python",
   "nbconvert_exporter": "python",
   "pygments_lexer": "ipython3",
   "version": "3.10.8"
  }
 },
 "nbformat": 4,
 "nbformat_minor": 5
}
