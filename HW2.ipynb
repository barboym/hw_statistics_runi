{
 "cells": [
  {
   "cell_type": "markdown",
   "metadata": {},
   "source": [
    "### IDs:\n",
    "Insert yours IDs to the cell below"
   ]
  },
  {
   "cell_type": "markdown",
   "metadata": {},
   "source": [
    "ID #1:310116165\n",
    "\n",
    "ID #2:308564293\n"
   ]
  },
  {
   "cell_type": "markdown",
   "metadata": {},
   "source": [
    "## Read the following instructions carefully:\n",
    "\n",
    "1. This jupyter notebook contains all the step by step instructions needed for this exercise.\n",
    "1. You are free to add cells.\n",
    "1. Write your functions and your answers in this jupyter notebook only.\n",
    "1. Answers to theoretical questions should be written in **markdown cells (with $\\LaTeX$ support)**.\n",
    "1. Submit this jupyter notebook only using your ID as a filename. Not to use ZIP or RAR. For example, your Moodle submission file name should look like this (two id numbers): `123456789_987654321.ipynb`."
   ]
  },
  {
   "cell_type": "markdown",
   "metadata": {},
   "source": [
    "### Question 1 - Data exploration and visialization - practical"
   ]
  },
  {
   "cell_type": "markdown",
   "metadata": {},
   "source": [
    "Load Boston dataset from sklearn.\n",
    "Explore the data. follow th instructions below and make sure to support your answers with proper outputs and plots.\n",
    "When plotting, pay close attention to the range of the axis, and include axis labels and a title for the figure.\n",
    "\n",
    "1. Describe the dataset. How many samples does it contain? How many features? What is the data type for each variable?\n",
    "2. Produce a histogram and a boxplot of the nitric oxides concentration. describe the distribution.\n",
    "3. Produce a correlation matrix of all the features. Are there any correlated features? Can you identify one feature with unusual behaviour?\n",
    "4. Select the 2 pairs of features with the highest correlation (positive or negative) and plot 2 scatter plots with marginal histograms (JointPlot). \n",
    "5. Produce a cumulative histogram of the age variable and add two horizontal lines on the first and third quartile (on the cumulative count)\n",
    "6. Identify and report 2 “interesting” trends in the data. No need to provide statistical confidence at this point. "
   ]
  },
  {
   "cell_type": "code",
   "execution_count": 1,
   "metadata": {},
   "outputs": [
    {
     "ename": "SyntaxError",
     "evalue": "invalid syntax (1165197209.py, line 5)",
     "output_type": "error",
     "traceback": [
      "\u001b[0;36m  Cell \u001b[0;32mIn[1], line 5\u001b[0;36m\u001b[0m\n\u001b[0;31m    df=pd.read_...\u001b[0m\n\u001b[0m               ^\u001b[0m\n\u001b[0;31mSyntaxError\u001b[0m\u001b[0;31m:\u001b[0m invalid syntax\n"
     ]
    }
   ],
   "source": [
    "# <!-- <p style=\"color:red;\"> -->\n",
    "%pylab inline \n",
    "import pandas as pd\n",
    "\n",
    "df=pd.read_...\n",
    "# answer to 1 \n",
    "df.info()\n",
    "df.describe()\n",
    "# answer to 2\n",
    "df.nitric_oxide_concentration.hist(kind=\"hist\")\n",
    "df.nitric_oxide_concentration.plot(kind=\"box\")\n",
    "\n",
    "# answer to 3\n",
    "corr_mat = df.corr()\n",
    "\n",
    "# answer to 4\n",
    "most_extreme_pair = corr_mat.stack().apply(np.abs).idxmax()\n",
    "# some code that does joint plot.. \n",
    "# answer to 5 \n",
    "age_cumsum = df.age.sort_values().cumsum()\n",
    "age_cumsum.hist()\n",
    "first_quartile = np.quantile(age_cumsum,0.25)\n",
    "third_quartile = np.quantile(age_cumsum,0.75)\n",
    "plt.plot([first_quartile]*2,[0,1],'r')\n",
    "plt.plot([third_quartile]*2,[0,1],'r')\n",
    "# answer to 6\n",
    "# find trends by correlation, value counts. maybe we can copy some known trends from the web"
   ]
  },
  {
   "cell_type": "markdown",
   "metadata": {},
   "source": [
    "### Question 2 - Independence and conditional independence"
   ]
  },
  {
   "cell_type": "markdown",
   "metadata": {
    "tags": []
   },
   "source": [
    "#### 2.A\n",
    "Let $\\ X, Y \\ $ and $Z$  be discrete random variables with $\\ n, m \\ $ and $k=4$ possible outcomes respectivley.\n",
    "\n",
    "How many parameters define the joint distribution of $\\ X, Y \\ $ and $Z$?"
   ]
  },
  {
   "cell_type": "markdown",
   "metadata": {},
   "source": [
    "<p style=\"color:red;\">\n",
    "    Given no additional information, we need to know all possible outputs to to define the distribution and also all their probabilities (-1 because we have a constraint on the sum of probabilities). \n",
    "    which means we need (2n-1) + (2m-1) + (2k-1) parameters.\n",
    "    The joint distribution is defined by the same amount of parameters. "
   ]
  },
  {
   "cell_type": "markdown",
   "metadata": {},
   "source": [
    "#### 2.B\n",
    "For the same random variables from the previous section, how many parameters define the joint distribution of $\\ X, Y \\ $ and $Z$ if we now know that they are independent?"
   ]
  },
  {
   "cell_type": "markdown",
   "metadata": {},
   "source": [
    "<p style=\"color:red;\">\n",
    "    Same answer. Knowing they are independent does not provide with additional constraints"
   ]
  },
  {
   "cell_type": "markdown",
   "metadata": {},
   "source": [
    "#### 2.C\n",
    "For the same random variables from the previous section, how many parameters define the joint distribution of $\\ X, Y \\ $ and $Z$ if we now know that $X$ and $Y$ are conditionaly independent given $Z$?"
   ]
  },
  {
   "cell_type": "markdown",
   "metadata": {},
   "source": [
    "#### 2.D\n",
    "Give an example for a joint distribution of $\\ U, V \\ $ and $W$ where $U$ and $V$ are NOT conditionally independent given $W$, but $U$ and $V$ are (unconditionally) independent. Also: $U$ and $V$ are standard normally distributed ($N(0, 1)$) and $W$ is a coin (2 possible values)."
   ]
  },
  {
   "cell_type": "markdown",
   "metadata": {},
   "source": [
    "### Question 3 - Gaussian mixtures – parameter estimation and generation "
   ]
  },
  {
   "cell_type": "markdown",
   "metadata": {},
   "source": [
    "Consider the data provided in GMD.csv\n",
    "Assume that the data comes from a Gaussian mixture distribution (GMD) with $k=3$. Furthermore, assume that $\\mu_{1}=4, \\mu_{2}=9, \\sigma_{1}=\\sigma_{2}=0.5, \\sigma_3=1.5$ and $w_2=0.25$.\n",
    "\n",
    "Read the data and answer the following questions."
   ]
  },
  {
   "cell_type": "markdown",
   "metadata": {},
   "source": [
    "#### 3.A\n",
    "Provide an estimate for the other parameters of the distribution in two different ways."
   ]
  },
  {
   "cell_type": "markdown",
   "metadata": {},
   "source": [
    "<p style=\"color:red;\">\n",
    "    - 1) chi2 minimization (we have 3 unknown parameters) \n",
    "    - 2) depending on the data we might be able to see the peaks and get the weights fomr them (1 and 2 are well seperated (at least one of them is) so it should be possible)\n",
    "    - 3) not sure what other ways there are... "
   ]
  },
  {
   "cell_type": "markdown",
   "metadata": {},
   "source": [
    "#### 3.B\n",
    "Plot a graph of the pdf of the distribution you inferred. Select adequate limits for the axes for this plot and explain your decision."
   ]
  },
  {
   "cell_type": "markdown",
   "metadata": {},
   "source": [
    "<p style=\"color:red;\">\n",
    "    we just need to plot the function we retrieve.. "
   ]
  },
  {
   "cell_type": "markdown",
   "metadata": {},
   "source": [
    "#### 3.C\n",
    "Now assume that the data comes from a Gaussian mixture distribution (GMD) with $k=4$.\n",
    "\n",
    "The given data and parameters stay the same.\n",
    "\n",
    "Can you estimate the unknown parameters in the two ways described in section A? Explain."
   ]
  },
  {
   "cell_type": "markdown",
   "metadata": {},
   "source": [
    "<p style=\"color:red;\">\n",
    "- 1) possible by adding 2 degrees of freedom and try to minimize chi2 farther?\n",
    "- 2) only by guessing we in the data we see another peak. Probably a bad idea unless it will be very clear the peak is there. "
   ]
  },
  {
   "cell_type": "markdown",
   "metadata": {},
   "source": [
    "#### 3.D\n",
    "Describe two ways for generating data for a GMM random variable with:\n",
    "* centers at  $\\mu_1=3, \\mu_2=7, \\mu_3=10$\n",
    "* $\\sigma_1=\\sigma_2=\\sigma_3=1$\n",
    "* $w_1=w_2=w_3=0.33$"
   ]
  },
  {
   "cell_type": "markdown",
   "metadata": {},
   "source": [
    "<p style=\"color:red;\">\n",
    "- 1) Monte Carlo (MC) - randomly choose x and pick it if some random value p bigger than the pdf?\n",
    "- 2) Create 3 different distributions (using the same MC method) and then merge them together? In this case it is a simple combination because the weights are identical\n",
    "- 3) Something other than MC"
   ]
  },
  {
   "cell_type": "markdown",
   "metadata": {},
   "source": [
    "#### 3.E\n",
    "Use one of the above approaches to generate 1000 points and plot a histogram of the result (decide on bins, axes etc)\n"
   ]
  },
  {
   "cell_type": "markdown",
   "metadata": {},
   "source": [
    "#### 3.F\n",
    "Use the other one to generate 1000 more points and draw two comparative histograms."
   ]
  },
  {
   "cell_type": "markdown",
   "metadata": {},
   "source": [
    "### Question 4 - Normally distributed salaries"
   ]
  },
  {
   "cell_type": "markdown",
   "metadata": {},
   "source": [
    "The annual salaries of employees in a large Randomistan company are approximateley normally distributed with a mean of 75,000 RCU and a standard deviation of 37,500 RCU."
   ]
  },
  {
   "cell_type": "markdown",
   "metadata": {},
   "source": [
    "#### 4.A\n",
    "What percent of people earn less than 50,000 RCU?"
   ]
  },
  {
   "cell_type": "code",
   "execution_count": null,
   "metadata": {},
   "outputs": [],
   "source": [
    "stats.norm(loc=75000,?=37500).cdf(50_000)"
   ]
  },
  {
   "cell_type": "markdown",
   "metadata": {},
   "source": [
    "#### 4.B\n",
    "What percent of people earn between 45,000 RCU and 65,000 RCU?"
   ]
  },
  {
   "cell_type": "code",
   "execution_count": null,
   "metadata": {},
   "outputs": [],
   "source": [
    "(stats.norm(loc=75000,?=37500).cdf(65_000) - stats.norm(loc=75000,?=37500).cdf(45_000))*100"
   ]
  },
  {
   "cell_type": "markdown",
   "metadata": {},
   "source": [
    "#### 4.C\n",
    "What percent of people earn more than 85,000 RCU?"
   ]
  },
  {
   "cell_type": "code",
   "execution_count": null,
   "metadata": {},
   "outputs": [],
   "source": [
    "1-stats.norm(loc=75000,?=37500).cdf(85_000)"
   ]
  },
  {
   "cell_type": "markdown",
   "metadata": {},
   "source": [
    "#### 4.D\n",
    "The company has 1000 employees. How many employees in the company do you expect to earn more than 140,000 RCU?"
   ]
  },
  {
   "cell_type": "code",
   "execution_count": null,
   "metadata": {},
   "outputs": [],
   "source": [
    "(1-stats.norm(loc=75000,?=37500).cdf(140_000)) * 1000"
   ]
  },
  {
   "cell_type": "markdown",
   "metadata": {},
   "source": [
    "### Question 5 - Coupon collector"
   ]
  },
  {
   "cell_type": "markdown",
   "metadata": {},
   "source": [
    "Let $T_{N}$ denote the waiting time for full single coupon collection with N different equiprobable coupon types"
   ]
  },
  {
   "cell_type": "markdown",
   "metadata": {},
   "source": [
    "#### 5.A\n",
    "Write code to compute the exact value of $E(T_{N})$"
   ]
  },
  {
   "cell_type": "markdown",
   "metadata": {},
   "source": [
    "#### 5.B\n",
    "Write code to compute the exact value of $V(T_{N})$"
   ]
  },
  {
   "cell_type": "markdown",
   "metadata": {},
   "source": [
    "#### 5.C\n",
    "Write code to exactly compute $P(T_{30}>60)$"
   ]
  },
  {
   "cell_type": "markdown",
   "metadata": {},
   "source": [
    "#### 5.D\n",
    "Let $S_N$ denote the waiting time until $N/2$ different coupons are collected.\n",
    "\n",
    "Write code to exactly compute $P(S_{30}>60)$"
   ]
  }
 ],
 "metadata": {
  "kernelspec": {
   "display_name": "Python 3 (ipykernel)",
   "language": "python",
   "name": "python3"
  },
  "language_info": {
   "codemirror_mode": {
    "name": "ipython",
    "version": 3
   },
   "file_extension": ".py",
   "mimetype": "text/x-python",
   "name": "python",
   "nbconvert_exporter": "python",
   "pygments_lexer": "ipython3",
   "version": "3.9.12"
  }
 },
 "nbformat": 4,
 "nbformat_minor": 4
}
